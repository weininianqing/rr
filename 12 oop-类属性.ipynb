{
 "cells": [
  {
   "cell_type": "code",
   "execution_count": 5,
   "metadata": {},
   "outputs": [
    {
     "name": "stdout",
     "output_type": "stream",
     "text": [
      "my name is JIAJIA\n",
      "my name is DAHUI\n"
     ]
    }
   ],
   "source": [
    "#属性案例\n",
    "#创建Student，描述学生类\n",
    "#学生具有Student.name属性\n",
    "#但name格式并不统一\n",
    "#可以增加一个函数，然后自动调用的方式，很蠢\n",
    "class Student():\n",
    "    def __init__(self,name,age):\n",
    "        self.name = name\n",
    "        self.age = age\n",
    "        self.setname(name)\n",
    "    #介绍自己\n",
    "    def intro(self):\n",
    "        print(\"my name is {0}\".format(self.name))\n",
    "        \n",
    "    def setname(self,name):\n",
    "        self.name = name.upper()#将小写字母转换成大写字母\n",
    "        \n",
    "s1 = Student(\"jiajia\",8)\n",
    "s2 = Student(\"dahui\",16)\n",
    "s1.intro()\n",
    "s2.intro()\n",
    "        "
   ]
  },
  {
   "cell_type": "code",
   "execution_count": 25,
   "metadata": {},
   "outputs": [
    {
     "name": "stdout",
     "output_type": "stream",
     "text": [
      "SADADSADAD\n",
      "noname\n"
     ]
    }
   ],
   "source": [
    "#property案例\n",
    "#定义一个person类，具有name，age属性\n",
    "#对于任意输入的姓名，我们希望用大写的方式保存\n",
    "#年龄，我们希望内部统一用整数保存\n",
    "#x = property（fget,fset,fdel,doc）\n",
    "\n",
    "class person():\n",
    "    '''\n",
    "    \n",
    "    ddddddd\n",
    "    '''\n",
    "    #函数名任意\n",
    "    def fget(self):\n",
    "        return self._name * 2\n",
    "    def fset(self,name):\n",
    "        self._name = name.upper()\n",
    "    def fdel(self):\n",
    "        self._name = \"noname\"\n",
    "    name = property(fget,fset,fdel,\"adad\")\n",
    "\n",
    "p = person()\n",
    "p.name = \"sadad\"#p.name = \"sadad\"触发了fset \n",
    "print(p.name)#p.name 触发了fget\n",
    "del p.name\n",
    "print(p._name)\n",
    "# del p.name触发fdel\n",
    "\n",
    "'''\n",
    "fget -- 获取属性值的函数\n",
    "fset -- 设置属性值的函数\n",
    "fdel -- 删除属性值函数\n",
    "doc -- 属性描述信息\n",
    "'''\n",
    "# 作业\n",
    "#1.在用户输入年龄的时候，可以输入整数，小数，浮点数\n",
    "#2.但内部为了数据清洁，我们同意保存整数直接舍去小数点"
   ]
  },
  {
   "cell_type": "code",
   "execution_count": 28,
   "metadata": {},
   "outputs": [
    {
     "name": "stdout",
     "output_type": "stream",
     "text": [
      "\n",
      "    \n",
      "    ddddddd\n",
      "    \n",
      "{'__module__': '__main__', '__doc__': '\\n    \\n    ddddddd\\n    ', 'fget': <function person.fget at 0x0000027CC143C6A8>, 'fset': <function person.fset at 0x0000027CC143C598>, 'fdel': <function person.fdel at 0x0000027CC143C048>, 'name': <property object at 0x0000027CC145C368>, '__dict__': <attribute '__dict__' of 'person' objects>, '__weakref__': <attribute '__weakref__' of 'person' objects>}\n",
      "person\n",
      "(<class 'object'>,)\n"
     ]
    }
   ],
   "source": [
    "print(person.__doc__)\n",
    "print(person.__dict__)\n",
    "print(person.__name__)\n",
    "print(person.__bases__)"
   ]
  },
  {
   "cell_type": "code",
   "execution_count": 31,
   "metadata": {},
   "outputs": [
    {
     "name": "stdout",
     "output_type": "stream",
     "text": [
      "哈哈我被调用了\n",
      "wooyu\n"
     ]
    }
   ],
   "source": [
    "#__ call__实例 类实例当函数被调用的时候相当于调用的__call__函数\n",
    "class A():\n",
    "    def __init__(self,name = 0):\n",
    "        print(\"哈哈我被调用了\")\n",
    "    def __call__(self):\n",
    "        print(\"wooyu\")\n",
    "a = A()\n",
    "a()"
   ]
  },
  {
   "cell_type": "code",
   "execution_count": 17,
   "metadata": {},
   "outputs": [
    {
     "name": "stdout",
     "output_type": "stream",
     "text": [
      "哈哈我被调用了\n",
      "5555565\n",
      "woshiwo\n",
      "5555565\n",
      "5555565\n",
      "woshiwo\n"
     ]
    },
    {
     "data": {
      "text/plain": [
       "dada"
      ]
     },
     "execution_count": 17,
     "metadata": {},
     "output_type": "execute_result"
    }
   ],
   "source": [
    "#__ str__实例当使用print输出对象的时候，只要自己定义了__str__(self)方法，那么就会打印从在这个方法中return的数据\n",
    "class A():\n",
    "    def __init__(self,name = 0):\n",
    "        print(\"哈哈我被调用了\")\n",
    "    def __call__(self):\n",
    "        print(\"wooyu\")\n",
    "    def __str__(self):\n",
    "        print(\"5555565\")\n",
    "        return \"woshiwo\"\n",
    "    def __repr__(self):\n",
    "        return \"dada\"\n",
    "a = A()\n",
    "print(a)\n",
    "str(a)\n",
    "print(str(a))\n",
    "a#两个魔法都存在时这时候先打印出__repr__函数\n"
   ]
  },
  {
   "cell_type": "code",
   "execution_count": 43,
   "metadata": {},
   "outputs": [
    {
     "name": "stdout",
     "output_type": "stream",
     "text": [
      "dad\n",
      "meizhaodao\n",
      "None\n"
     ]
    }
   ],
   "source": [
    "#__getattr__ 举例\n",
    "class A():\n",
    "    name = \"dad\"\n",
    "    def __getattr__(self,anme):\n",
    "        print(\"meizhaodao\")\n",
    "a = A()\n",
    "print(a.name)\n",
    "print(a.aa)\n",
    "#作业\n",
    "#为什会打印出None"
   ]
  },
  {
   "cell_type": "code",
   "execution_count": 1,
   "metadata": {},
   "outputs": [
    {
     "name": "stdout",
     "output_type": "stream",
     "text": [
      "设置的属性：age值为：18\n",
      "设置的属性：name值为：dahui\n"
     ]
    }
   ],
   "source": [
    "# __setattr__ 举例\n",
    "class person():\n",
    "    def __init__(self):\n",
    "        pass\n",
    "    def __setattr__(self,name,value):\n",
    "        print(\"设置的属性：{0}值为：{1}\".format(name,value))\n",
    "        #下面语句会导致死循环\n",
    "        #self.name = value\n",
    "        super().__setattr__(name,value)#此种情况，为了避免死循环，规定统一调用父类的魔法函数，这里调用的父类是object\n",
    "        \n",
    "p = person()\n",
    "        \n",
    "p.age = 18\n",
    "p.name = \"dahui\"\n",
    "    "
   ]
  },
  {
   "cell_type": "code",
   "execution_count": 3,
   "metadata": {},
   "outputs": [
    {
     "name": "stdout",
     "output_type": "stream",
     "text": [
      "one会比two大吗？\n",
      "False\n"
     ]
    }
   ],
   "source": [
    "#__gt__\n",
    "class student():\n",
    "    def __init__(self,name):\n",
    "        self.name = name\n",
    "    def __gt__(self,obj):\n",
    "        print(\"{0}会比{1}大吗？\".format(self,obj))\n",
    "        return self.name > obj.name\n",
    "    def __str__(self):\n",
    "        return self.name\n",
    "s1 = student(\"one\")\n",
    "s2 = student(\"two\")\n",
    "print(s1 > s2)\n",
    "#显示不太美观 改成美观的"
   ]
  },
  {
   "cell_type": "code",
   "execution_count": 12,
   "metadata": {},
   "outputs": [
    {
     "name": "stdout",
     "output_type": "stream",
     "text": [
      "<__main__.person object at 0x00000207E4507E48>\n",
      "eat..\n",
      "<class '__main__.person'>\n",
      "sleep.....\n",
      "hahahah....\n"
     ]
    }
   ],
   "source": [
    "#三种方法的案例\n",
    "class person():\n",
    "    #实例方法\n",
    "    def eat(self):\n",
    "        print(self)\n",
    "        print(\"eat..\")\n",
    "    #类方法\n",
    "    @classmethod\n",
    "    def sleep(cls):\n",
    "        print(cls)\n",
    "        print(\"sleep.....\")\n",
    "    #静态方法\n",
    "    @staticmethod\n",
    "    def say():\n",
    "        print(\"hahahah....\")\n",
    "        \n",
    "#实例方法\n",
    "jiajia = person()\n",
    "jiajia.eat()\n",
    "#类方法\n",
    "person.sleep()\n",
    "#静态方法\n",
    "person.say()"
   ]
  }
 ],
 "metadata": {
  "kernelspec": {
   "display_name": "Python 3",
   "language": "python",
   "name": "python3"
  },
  "language_info": {
   "codemirror_mode": {
    "name": "ipython",
    "version": 3
   },
   "file_extension": ".py",
   "mimetype": "text/x-python",
   "name": "python",
   "nbconvert_exporter": "python",
   "pygments_lexer": "ipython3",
   "version": "3.7.3"
  }
 },
 "nbformat": 4,
 "nbformat_minor": 2
}
