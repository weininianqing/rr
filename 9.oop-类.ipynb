{
 "cells": [
  {
   "cell_type": "code",
   "execution_count": 10,
   "metadata": {},
   "outputs": [
    {
     "name": "stdout",
     "output_type": "stream",
     "text": [
      "dahui\n",
      "18\n",
      "********************\n",
      "2248208040600\n",
      "140730933024096\n",
      "********************\n",
      "sss\n",
      "None\n",
      "aa\n",
      "20\n",
      "2248177948688\n",
      "140730933024160\n"
     ]
    }
   ],
   "source": [
    "class B():\n",
    "    name = \"dahui\"\n",
    "    age = 18\n",
    "    \n",
    "    def say(self):\n",
    "        self.name = \"aa\"\n",
    "        self.age = 20\n",
    "        print(\"sss\")\n",
    "#此时，B称为类实例 \n",
    "print(B.name)\n",
    "print(B.age)\n",
    "\n",
    "print(\"*\" * 20)\n",
    "\n",
    "\n",
    "print(id(B.name))\n",
    "print(id(B.age))\n",
    "\n",
    "print(\"*\" * 20)\n",
    "\n",
    "a = B()\n",
    "print(a.say())\n",
    "print(a.name)\n",
    "print(a.age)\n",
    "print(id(a.name))\n",
    "print(id(a.age))"
   ]
  },
  {
   "cell_type": "code",
   "execution_count": 10,
   "metadata": {},
   "outputs": [
    {
     "name": "stdout",
     "output_type": "stream",
     "text": [
      "{}\n",
      "我叫王绍辉\n",
      "我今天20岁\n"
     ]
    }
   ],
   "source": [
    "class student():\n",
    "    name = \"dahui\"\n",
    "    age = 18\n",
    "    \n",
    "    def say(self):\n",
    "        self.name = \"王绍辉\"\n",
    "        self.age = 20\n",
    "        print(\"我叫{0}\".format(self.name))\n",
    "        print(\"我今天{0}岁\".format(self.age))\n",
    "yueyue = student()\n",
    "print(yueyue.__dict__)\n",
    "yueyue.say()\n"
   ]
  },
  {
   "cell_type": "code",
   "execution_count": 12,
   "metadata": {},
   "outputs": [
    {
     "name": "stdout",
     "output_type": "stream",
     "text": [
      "我叫王绍辉\n",
      "我今天20岁\n",
      "我叫dahui\n",
      "我今天18岁\n",
      "dadasad\n"
     ]
    }
   ],
   "source": [
    "class teacher():\n",
    "    name = \"dahui\"\n",
    "    age = 18\n",
    "    def say(self):\n",
    "        self.name = \"王绍辉\"\n",
    "        self.age = 20\n",
    "        print(\"我叫{0}\".format(self.name))\n",
    "        print(\"我今天{0}岁\".format(self.age))\n",
    "    def saya():\n",
    "        # 调用类成员变量需要用__class__\n",
    "        print(\"我叫{0}\".format(__class__.name))\n",
    "        print(\"我今天{0}岁\".format(__class__.age))\n",
    "        print(\"dadasad\")\n",
    "\n",
    "t = teacher()\n",
    "t.say()\n",
    "\n",
    "#调用绑定类函数用类名\n",
    "teacher.saya()"
   ]
  },
  {
   "cell_type": "code",
   "execution_count": 18,
   "metadata": {},
   "outputs": [
    {
     "name": "stdout",
     "output_type": "stream",
     "text": [
      "hah\n",
      "200\n",
      "hah\n",
      "200\n",
      "jiajia\n",
      "18\n",
      "dajiazi\n",
      "666\n"
     ]
    }
   ],
   "source": [
    "# 关于self案例\n",
    "\n",
    "class A():\n",
    "    name = \"jiajia\"\n",
    "    age = 18\n",
    "    def __init__(self):\n",
    "        self.name = \"hah\"\n",
    "        self.age = 200\n",
    "    def says(self):\n",
    "        \n",
    "        print(self.name)\n",
    "        print(self.age)\n",
    "class B():\n",
    "    name = \"dajiazi\"\n",
    "    age = 666\n",
    "# 对象实例化\n",
    "a = A()\n",
    "# 此时系统默认把a作为第一个参数传入函数\n",
    "a.says()\n",
    "#此时，self被a替换\n",
    "A.says(a)\n",
    "#同样吧A当参数传入\n",
    "A.says(A)\n",
    "\n",
    "#此时传入的是类实例B，因为B具有name和age属性，所以不会报错\n",
    "\n",
    "A.says(B)\n",
    "\n",
    "#以上代码，利用了鸭子模型"
   ]
  },
  {
   "cell_type": "code",
   "execution_count": 25,
   "metadata": {},
   "outputs": [
    {
     "name": "stdout",
     "output_type": "stream",
     "text": [
      "{'__module__': '__main__', 'name': 'jiajia', '_pr__age': 18, '__dict__': <attribute '__dict__' of 'pr' objects>, '__weakref__': <attribute '__weakref__' of 'pr' objects>, '__doc__': None}\n",
      "jiajia\n",
      "18\n"
     ]
    }
   ],
   "source": [
    "class pr():\n",
    "    #name是公有的成员\n",
    "    name = \"jiajia\"\n",
    "    #age 是私有的成员\n",
    "    __age = 18\n",
    "p = pr()\n",
    "print(pr.__dict__)\n",
    "print(p.name)\n",
    "#报错显示没有这个变量 \n",
    "#公开访问私有变量报错\n",
    "print(p._pr__age)"
   ]
  },
  {
   "cell_type": "code",
   "execution_count": 29,
   "metadata": {},
   "outputs": [
    {
     "name": "stdout",
     "output_type": "stream",
     "text": [
      "{'__module__': '__main__', 'name': 'jiajia', '_pr__age': 18, '__dict__': <attribute '__dict__' of 'pr' objects>, '__weakref__': <attribute '__weakref__' of 'pr' objects>, '__doc__': None}\n",
      "18\n"
     ]
    }
   ],
   "source": [
    "#name mangling技术\n",
    "print(pr.__dict__)\n",
    "\n",
    "p._pr__age = 18\n",
    "print(p._pr__age)"
   ]
  }
 ],
 "metadata": {
  "kernelspec": {
   "display_name": "Python 3",
   "language": "python",
   "name": "python3"
  },
  "language_info": {
   "codemirror_mode": {
    "name": "ipython",
    "version": 3
   },
   "file_extension": ".py",
   "mimetype": "text/x-python",
   "name": "python",
   "nbconvert_exporter": "python",
   "pygments_lexer": "ipython3",
   "version": "3.7.3"
  }
 },
 "nbformat": 4,
 "nbformat_minor": 2
}
