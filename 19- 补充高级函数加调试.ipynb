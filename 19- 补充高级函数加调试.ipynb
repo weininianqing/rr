{
 "cells": [
  {
   "cell_type": "markdown",
   "metadata": {},
   "source": [
    "# zip\n",
    "- 把两个可迭代的内容生成一个可迭代的tuple元素类型\n",
    "内容"
   ]
  },
  {
   "cell_type": "code",
   "execution_count": 12,
   "metadata": {},
   "outputs": [
    {
     "name": "stdout",
     "output_type": "stream",
     "text": [
      "<class 'zip'>\n",
      "<zip object at 0x0000018C745F7F48>\n",
      "[(1, 9), (2, 8), (3, 7), (4, 6), (5, 5), (6, 4)]\n"
     ]
    }
   ],
   "source": [
    "#zip案例\n",
    "l1 = [1,2,3,4,5,6]\n",
    "\n",
    "l2 = [9,8,7,6,5,4]\n",
    "a = zip(l1,l2)\n",
    "print(type(a))\n",
    "print(a)\n",
    "\n",
    "#for i in a:\n",
    " #   print(i)\n",
    "    \n",
    "z = [a for a in a]\n",
    "print(z)"
   ]
  },
  {
   "cell_type": "markdown",
   "metadata": {},
   "source": [
    "# enumerate\n",
    "- 跟zip功能比较像\n",
    "- 对可迭代对象的每一个元素，配上一个索引，然后索引和内容构成tuple类型"
   ]
  },
  {
   "cell_type": "code",
   "execution_count": 13,
   "metadata": {},
   "outputs": [
    {
     "name": "stdout",
     "output_type": "stream",
     "text": [
      "[(100, 11), (101, 22), (102, 44), (103, 555), (104, 77)]\n",
      "0 --> 11\n",
      "1 --> 22\n",
      "2 --> 44\n",
      "3 --> 555\n",
      "4 --> 77\n"
     ]
    }
   ],
   "source": [
    "l1 = [11,22,44,555,77]\n",
    "\n",
    "l = enumerate(l1,start = 100)\n",
    "print([i for i in l])\n",
    "\n",
    "for k,v in enumerate(l1):\n",
    "    print(k,\"-->\",v)"
   ]
  },
  {
   "cell_type": "markdown",
   "metadata": {},
   "source": [
    "# collections 模块\n",
    "- namedtuple\n",
    "- deque"
   ]
  },
  {
   "cell_type": "markdown",
   "metadata": {},
   "source": [
    "###  namedtuple\n",
    "- tuple类型\n",
    "- 是一个可命名的tuple"
   ]
  },
  {
   "cell_type": "code",
   "execution_count": 18,
   "metadata": {},
   "outputs": [
    {
     "name": "stdout",
     "output_type": "stream",
     "text": [
      "2\n",
      "2\n"
     ]
    }
   ],
   "source": [
    "from collections import namedtuple\n",
    "diansd = namedtuple(\"diansd\",['x','y'])#第一个参数是类名，第二个参数为值\n",
    "a = diansd(2,3)\n",
    "print(a.x)\n",
    "print(a[0])#支持索引\n"
   ]
  },
  {
   "cell_type": "code",
   "execution_count": 22,
   "metadata": {},
   "outputs": [
    {
     "name": "stdout",
     "output_type": "stream",
     "text": [
      "bingyang\n",
      "bingyang\n",
      "123456\n"
     ]
    }
   ],
   "source": [
    "from collections import namedtuple\n",
    "Account = namedtuple(\"Account\", [\"name\",\"pwd\"])# ①\n",
    "account = Account(*(\"bingyang\", \"123456\")) # ②\n",
    "print(account.name)\n",
    "print(account[0])\n",
    "print(account.pwd)\n",
    "\n",
    "#①创建一个名称为Account的类，该类拥有两个属性name和pwd，将这个类赋值给变量Account。\n",
    "#②调用这个类，并传递属性的值。"
   ]
  },
  {
   "cell_type": "code",
   "execution_count": 29,
   "metadata": {},
   "outputs": [
    {
     "name": "stdout",
     "output_type": "stream",
     "text": [
      "circle(x=100, y=50, r=50)\n"
     ]
    },
    {
     "data": {
      "text/plain": [
       "True"
      ]
     },
     "execution_count": 29,
     "metadata": {},
     "output_type": "execute_result"
    }
   ],
   "source": [
    "circle = namedtuple(\"circle\",['x','y','r'])\n",
    "c = circle(100,50,50)\n",
    "print(c)\n",
    "\n",
    "#检测namedtuple是谁的子类\n",
    "isinstance(c,tuple)"
   ]
  },
  {
   "cell_type": "markdown",
   "metadata": {},
   "source": [
    "# deque \n",
    "- 比较方便的解决了频繁删除插入带来的效率问题"
   ]
  },
  {
   "cell_type": "code",
   "execution_count": 34,
   "metadata": {},
   "outputs": [
    {
     "name": "stdout",
     "output_type": "stream",
     "text": [
      "deque(['a', 'b', 'c'])\n",
      "deque(['a', 'b', 'c', 'd'])\n",
      "deque(['t', 'a', 'b', 'c', 'd'])\n"
     ]
    }
   ],
   "source": [
    "from collections import deque\n",
    "\n",
    "q = deque(['a','b','c'])\n",
    "print(q)\n",
    "\n",
    "q.append('d')\n",
    "print(q)\n",
    "\n",
    "q.appendleft(\"t\")\n",
    "print(q)\n",
    "\n"
   ]
  },
  {
   "cell_type": "markdown",
   "metadata": {},
   "source": [
    "# defaultdict\n",
    "- 直接读取dict不存在的属性时，直接返回默认值"
   ]
  },
  {
   "cell_type": "code",
   "execution_count": 36,
   "metadata": {},
   "outputs": [
    {
     "name": "stdout",
     "output_type": "stream",
     "text": [
      "1\n"
     ]
    }
   ],
   "source": [
    "d1 = {'one':1,'two':2,'three':3}\n",
    "print(d1['one'])"
   ]
  },
  {
   "cell_type": "code",
   "execution_count": 24,
   "metadata": {},
   "outputs": [
    {
     "name": "stdout",
     "output_type": "stream",
     "text": [
      "1\n"
     ]
    }
   ],
   "source": [
    "from collections import defaultdict\n",
    "#lambda表达式直接返回字符串\n",
    "a = lambda:\"dahuizi\"\n",
    "\n",
    "#如果d2里面有这个值返回这个值的对应值，如果没有调用函数\n",
    "d2 = defaultdict(a)#里面放一个函数\n",
    "d2['one'] = 1\n",
    "d2['two'] = 2\n",
    "\n",
    "\n",
    "print(d2['one'])\n",
    "#help(defaultdict)"
   ]
  },
  {
   "cell_type": "markdown",
   "metadata": {},
   "source": [
    "# Counter\n",
    "- 统计字符串个数"
   ]
  },
  {
   "cell_type": "code",
   "execution_count": 48,
   "metadata": {},
   "outputs": [
    {
     "name": "stdout",
     "output_type": "stream",
     "text": [
      "Counter({'a': 7, 'd': 7, 's': 6})\n"
     ]
    }
   ],
   "source": [
    "from collections import Counter\n",
    "\n",
    "#为什么下面的结果不把adasdasd....作为键值，而是以其中每一个字母作为键值\n",
    "#需要Counter内的内容是可迭代的\n",
    "c = Counter(\"adasdasdadsasdasdads\")\n",
    "print(c)"
   ]
  },
  {
   "cell_type": "code",
   "execution_count": 50,
   "metadata": {},
   "outputs": [
    {
     "name": "stdout",
     "output_type": "stream",
     "text": [
      "Counter({'xiaojia': 2, 'dana': 1, 'dahui': 1})\n"
     ]
    }
   ],
   "source": [
    "s = [\"dana\",\"dahui\",\"xiaojia\",\"xiaojia\"]\n",
    "\n",
    "a = Counter(s)\n",
    "print(a)"
   ]
  }
 ],
 "metadata": {
  "kernelspec": {
   "display_name": "Python 3",
   "language": "python",
   "name": "python3"
  },
  "language_info": {
   "codemirror_mode": {
    "name": "ipython",
    "version": 3
   },
   "file_extension": ".py",
   "mimetype": "text/x-python",
   "name": "python",
   "nbconvert_exporter": "python",
   "pygments_lexer": "ipython3",
   "version": "3.7.3"
  }
 },
 "nbformat": 4,
 "nbformat_minor": 2
}
