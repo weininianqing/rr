{
 "cells": [
  {
   "cell_type": "code",
   "execution_count": 31,
   "metadata": {},
   "outputs": [
    {
     "name": "stdout",
     "output_type": "stream",
     "text": [
      "(<class '__main__.A'>, <class 'object'>)\n",
      "(<class '__main__.B'>, <class '__main__.A'>, <class '__main__.CMixin'>, <class 'object'>)\n"
     ]
    }
   ],
   "source": [
    "class A():\n",
    "    \n",
    "    pass\n",
    "class  CMixin():\n",
    "    def gongeng(self):\n",
    "        self.age = 11\n",
    "class B(A,CMixin):\n",
    "    pass\n",
    "print(A.__mro__)\n",
    "print(B.__mro__)#__mro__查询类的血统 "
   ]
  },
  {
   "cell_type": "code",
   "execution_count": 9,
   "metadata": {},
   "outputs": [
    {
     "name": "stdout",
     "output_type": "stream",
     "text": [
      "wohu fei \n",
      "wohui you yong\n",
      "wohui gongzuo\n"
     ]
    }
   ],
   "source": [
    "#多继承例子\n",
    "# 子类可以直接拥有父类的属性和方法，私有属性和方法除外\n",
    "\n",
    "class fish():\n",
    "    def __init__(self,name):\n",
    "        self.name = name\n",
    "    def swim(self):\n",
    "        print(\"wohui you yong\")\n",
    "        \n",
    "class bird():\n",
    "    def __init__(self,name):\n",
    "        self.name = name\n",
    "    def fly(self):\n",
    "        print(\"wohu fei \")\n",
    "        \n",
    "class person():    \n",
    "\n",
    "    def work(self):\n",
    "        print(\"wohui gongzuo\")\n",
    "\n",
    "    \n",
    "class superman(person,fish,bird):\n",
    "    pass\n",
    "s = superman(\"jiajia\")#调用成员方法时先运行构造函数，参数必须补齐\n",
    "s.fly()\n",
    "s.swim()\n",
    "\n",
    "\n",
    "#单继承的例子\n",
    "\n",
    "class student(person):\n",
    "    def __init__(self,name):\n",
    "        self.name = name\n",
    "    \n",
    "stu = student(\"yueyue\")\n",
    "stu.work()"
   ]
  },
  {
   "cell_type": "code",
   "execution_count": 10,
   "metadata": {},
   "outputs": [],
   "source": [
    "#菱形继承问题\n",
    "class A():\n",
    "    pass\n",
    "class B(A):\n",
    "    pass\n",
    "class C(A):\n",
    "    pass\n",
    "class D(B,C):\n",
    "    pass"
   ]
  },
  {
   "cell_type": "code",
   "execution_count": 12,
   "metadata": {},
   "outputs": [
    {
     "name": "stdout",
     "output_type": "stream",
     "text": [
      "hello\n"
     ]
    }
   ],
   "source": [
    "#构造函数的例子\n",
    "class Person():\n",
    "    #对Person实例化的时候\n",
    "    #姓名要确定\n",
    "    #年龄要确定\n",
    "    #地址也要确定\n",
    "    def __init__(self):\n",
    "        self.name = \"xiasojiazi\"\n",
    "        self.age = 18\n",
    "        self.address = \"school\"\n",
    "        print(\"hello\")\n",
    "p = Person()"
   ]
  },
  {
   "cell_type": "code",
   "execution_count": 14,
   "metadata": {},
   "outputs": [
    {
     "name": "stdout",
     "output_type": "stream",
     "text": [
      "sdad\n"
     ]
    }
   ],
   "source": [
    "# 构造函数的调用顺序1\n",
    "#如果子类没有构造函数，则继续往上查找，直达找到\n",
    "class A():\n",
    "    pass\n",
    "class B(A):\n",
    "    def __init__(self):\n",
    "        print(\"sdad\")\n",
    "class C(B):\n",
    "    pass\n",
    "\n",
    "#此时，首先查找C 的构造函数\n",
    "#如果没有则向上按照MRO顺序查找父类的构造函数，知道找到为止\n",
    "c = C()"
   ]
  },
  {
   "cell_type": "code",
   "execution_count": 17,
   "metadata": {},
   "outputs": [
    {
     "name": "stdout",
     "output_type": "stream",
     "text": [
      "sdad\n",
      "22\n"
     ]
    }
   ],
   "source": [
    "# 构造函数的调用顺序- 2\n",
    "class A():\n",
    "    pass\n",
    "class B(A):\n",
    "    def __init__(self,name):\n",
    "        print(\"sdad\")\n",
    "        print(name)\n",
    "class C(B):\n",
    "    pass\n",
    "\n",
    "#此时，首先查找C 的构造函数\n",
    "#如果没有则向上按照MRO顺序查找父类的构造函数，知道找到为止\n",
    "#此时，会出现参数结构不对应错误\n",
    "c = C(22)"
   ]
  },
  {
   "cell_type": "code",
   "execution_count": 70,
   "metadata": {},
   "outputs": [
    {
     "name": "stdout",
     "output_type": "stream",
     "text": [
      "no\n",
      "sdad\n",
      "xiaojiazi\n",
      "C\n"
     ]
    }
   ],
   "source": [
    "# 构造函数的调用顺序- 3\n",
    "class A():\n",
    "    pass\n",
    "class B(A):\n",
    "    def __init__(self,name):\n",
    "        print(self.name)\n",
    "        print(\"sdad\")\n",
    "        print(name)\n",
    "class C(B):\n",
    "    name = \"no\"\n",
    "    #C中想扩展B的构造函数 \n",
    "    #即调用B的构造函数后在添加一些功能\n",
    "    #有两种方法实现\n",
    "    '''\n",
    "    #第一种通过父类名调用\n",
    "    def __init__(self,name):\n",
    "        #首先调用父类的构造函数，然后再增加自己的函数\n",
    "        B.__init__(self,name)\n",
    "        print(\"C\")\n",
    "    '''\n",
    "\n",
    "    #第二种，使用super调用\n",
    "    def __init__(self,name):\n",
    "        super(C,self).__init__(name)#首先找到C的父类，然后把类C的对象self转换为类B的对象，然后“被转换”的类B对象调用自己的__init__函数\n",
    "        print(\"C\")\n",
    "\n",
    "#此时，首先查找C 的构造函数\n",
    "#如果没有则向上按照MRO顺序查找父类的构造函数，知道找到为止\n",
    "c = C(\"xiaojiazi\")"
   ]
  },
  {
   "cell_type": "code",
   "execution_count": 35,
   "metadata": {},
   "outputs": [
    {
     "data": {
      "text/plain": [
       "'\\n可以看到，上面的Airplane类实现了多继承，不过它继承的第二个类我们起名为PlaneMixin，\\n而不是Plane，这个并不影响功能，但是会告诉后来读代码的人，这个类是一个Mixin类。\\n所以从含义上理解，Airplane只是一个Vehicle，不是一个Plane。这个Mixin，表示混入(mix-in)，\\n它告诉别人，这个类是作为功能添加到子类中，而不是作为父类\\n'"
      ]
     },
     "execution_count": 35,
     "metadata": {},
     "output_type": "execute_result"
    }
   ],
   "source": [
    "#Mixin的案例\n",
    "#现在我们的飞机同时具有了交通工具及飞行器两种属性，而且我们不需要重写飞行器中的飞行方法，\n",
    "#同时我们没有破坏单一继承的原则。飞机就是一种交通工具，可飞行的能力是是飞机的属性，通过继承接口来获取。\n",
    "class Vehicle():#Vehicle交通工具\n",
    "    pass\n",
    " \n",
    "class PlaneMixin():#plane飞行器\n",
    "    def fly(self):\n",
    "        print(\"I am flying\")\n",
    "class Airolane(Vehicle, PlaneMixin):#Airplane飞机\n",
    "    pass\n",
    "\n",
    "'''\n",
    "可以看到，上面的Airplane类实现了多继承，不过它继承的第二个类我们起名为PlaneMixin，\n",
    "而不是Plane，这个并不影响功能，但是会告诉后来读代码的人，这个类是一个Mixin类。\n",
    "所以从含义上理解，Airplane只是一个Vehicle，不是一个Plane。这个Mixin，表示混入(mix-in)，\n",
    "它告诉别人，这个类是作为功能添加到子类中，而不是作为父类\n",
    "'''"
   ]
  },
  {
   "cell_type": "code",
   "execution_count": 37,
   "metadata": {},
   "outputs": [
    {
     "name": "stdout",
     "output_type": "stream",
     "text": [
      "True\n"
     ]
    }
   ],
   "source": [
    "# issubclass(class,ckassinfo) 方法用于判断参数 class 是否是类型参数 classinfo 的子类。\n",
    "class A():\n",
    "    pass\n",
    "class B(A):\n",
    "    pass\n",
    "print(issubclass(B,A))#B是不是A的子类"
   ]
  },
  {
   "cell_type": "code",
   "execution_count": 40,
   "metadata": {},
   "outputs": [
    {
     "name": "stdout",
     "output_type": "stream",
     "text": [
      "True\n",
      "False\n"
     ]
    }
   ],
   "source": [
    "#isinstance\n",
    "'''\n",
    "isinstance(object, classinfo)\n",
    "参数\n",
    "object -- 实例对象。\n",
    "classinfo -- 可以是直接或间接类名、基本类型或者由它们组成的元组。\n",
    "'''\n",
    "class A():\n",
    "    pass\n",
    "class B():\n",
    "    pass\n",
    "a = A()\n",
    "print(isinstance(a,A))\n",
    "print(isinstance(a,B))"
   ]
  },
  {
   "cell_type": "code",
   "execution_count": 1,
   "metadata": {},
   "outputs": [
    {
     "data": {
      "text/plain": [
       "3"
      ]
     },
     "execution_count": 1,
     "metadata": {},
     "output_type": "execute_result"
    }
   ],
   "source": [
    "#dir案例\n",
    "class A():\n",
    "    name = \"ssda\"\n",
    "a = A()\n",
    "#dir(a)\n",
    "#dir(A)\n",
    "'''\n",
    "getattr(object, name[, default])\n",
    "参数\n",
    "object -- 对象。\n",
    "name -- 字符串，对象属性。\n",
    "default -- 默认返回值，如果不提供该参数，在没有对应属性时，将触发 AttributeError。\n",
    "'''\n",
    "getattr(a,\"name\")\n",
    "getattr(a,\"namee\",3)#没有namee这个属性但是设置了默认值所以不会报错"
   ]
  },
  {
   "cell_type": "code",
   "execution_count": 58,
   "metadata": {},
   "outputs": [
    {
     "name": "stdout",
     "output_type": "stream",
     "text": [
      "189\n"
     ]
    }
   ],
   "source": [
    "#setattr\n",
    "'''\n",
    "setattr(object, name, value)\n",
    "参数\n",
    "object -- 对象。\n",
    "name -- 字符串，对象属性。\n",
    "value -- 属性值。\n",
    "'''\n",
    "class A():\n",
    "    name = \"dad\"\n",
    "a = A()\n",
    "setattr(a,\"name\",189)\n",
    "print(a.name)"
   ]
  },
  {
   "cell_type": "code",
   "execution_count": 69,
   "metadata": {},
   "outputs": [
    {
     "name": "stdout",
     "output_type": "stream",
     "text": [
      "{'__module__': '__main__', '__dict__': <attribute '__dict__' of 'A' objects>, '__weakref__': <attribute '__weakref__' of 'A' objects>, '__doc__': None}\n"
     ]
    }
   ],
   "source": [
    "#delattr\n",
    "'''\n",
    "delattr(object, name)\n",
    "参数\n",
    "object -- 对象。\n",
    "name -- 必须是对象的属性。也可以删除方法\n",
    "'''\n",
    "class A():\n",
    "    namee = \"dad\"\n",
    "    \n",
    "a = A()\n",
    "delattr(A,\"namee\")\n",
    "print(A.__dict__)"
   ]
  }
 ],
 "metadata": {
  "kernelspec": {
   "display_name": "Python 3",
   "language": "python",
   "name": "python3"
  },
  "language_info": {
   "codemirror_mode": {
    "name": "ipython",
    "version": 3
   },
   "file_extension": ".py",
   "mimetype": "text/x-python",
   "name": "python",
   "nbconvert_exporter": "python",
   "pygments_lexer": "ipython3",
   "version": "3.7.3"
  }
 },
 "nbformat": 4,
 "nbformat_minor": 2
}
