{
 "cells": [
  {
   "cell_type": "markdown",
   "metadata": {},
   "source": [
    "# 异常\n",
    "- 广义上的错位分为错误和异常\n",
    "- 错误指的是可以认为避免\n",
    "- 异常指的是在语法逻辑正确的前提下，出现的问题"
   ]
  },
  {
   "cell_type": "markdown",
   "metadata": {},
   "source": [
    "# 异常处理\n",
    "- 不能保证程序永远正确的运行\n",
    "- 但是，必须保证程序在最坏的情况下得到的问题被妥善处理\n",
    "- python的异常处理模块全部语法为：\n",
    "        try:\n",
    "            尝试实现某个操作\n",
    "            如果没出现异常，任务就可以完成\n",
    "            如果出现异常，将异常从当前代码块扔出去尝试解决\n",
    "        except异常类型1：\n",
    "            解决方案1：用于尝试在此处处理异常解决问题\n",
    "            \n",
    "        except异常类型2:\n",
    "            解决方案2：用于尝试在此处处理异常解决问题\n",
    "            \n",
    "        except（异常类型1，异常类型2.....）\n",
    "            解决方案：针对对个异常使用相同的处理方式\n",
    "            \n",
    "        except：\n",
    "            所有异常的解决方案\n",
    "      \n",
    "        else：\n",
    "            如果没有出现异常，执行此处代码\n",
    "            \n",
    "        finally：\n",
    "            有没有异常都要执行的代码 \n",
    "            \n",
    "            \n",
    "- 流程\n",
    "    - 1.执行try下面的语句\n",
    "    - 2.如果出现异常，则在except语句查找相对应异常并处理\n",
    "    - 3.如果没有出现异常执行else\n",
    "    - 4.最后，不管有没有出现异常都要执行finally语句\n",
    "- 出except（最少一个）以外，else ，finally可以没有"
   ]
  },
  {
   "cell_type": "code",
   "execution_count": null,
   "metadata": {},
   "outputs": [],
   "source": [
    "# 简单异常案例\n",
    "try:\n",
    "    num = int(input(\"输入一个数\"))\n",
    "    rst = 100/num\n",
    "    print(\"结果：{0}\".format(rst))\n",
    "except:\n",
    "    print(\"错误了\")\n",
    "    # exit是退出程序的意思\n",
    "    exit()"
   ]
  },
  {
   "cell_type": "code",
   "execution_count": 2,
   "metadata": {},
   "outputs": [
    {
     "name": "stdout",
     "output_type": "stream",
     "text": [
      "输入一个数0\n",
      "错误了\n",
      "division by zero\n"
     ]
    }
   ],
   "source": [
    "# 简单异常案例\n",
    "#给出提示信息\n",
    "try:\n",
    "    num = int(input(\"输入一个数\"))\n",
    "    rst = 100/num\n",
    "    print(\"结果：{0}\".format(rst))\n",
    "# 捕获异常后，把异常实例化，出错信息在实例里\n",
    "#注意以下写法\n",
    "#以下语句是捕获ZeroDivisionError异常并实例化e\n",
    "    \n",
    "except ZeroDivisionError as e:\n",
    "    print(\"错误了\")\n",
    "    print(e)\n",
    "    # exit是退出程序的意思\n",
    "    exit()"
   ]
  },
  {
   "cell_type": "code",
   "execution_count": 2,
   "metadata": {},
   "outputs": [
    {
     "name": "stdout",
     "output_type": "stream",
     "text": [
      "输入一个数da\n",
      "我也不知道怎么错误了\n",
      "invalid literal for int() with base 10: 'da'\n",
      "aaaaaa\n"
     ]
    }
   ],
   "source": [
    "# 简单异常案例\n",
    "#给出提示信息\n",
    "try:\n",
    "    num = int(input(\"输入一个数\"))\n",
    "    rst = 100/num\n",
    "    print(\"结果：{0}\".format(rst))\n",
    "#如果多中error情况下\n",
    "#把越具体的错误越往前放\n",
    "# 在异常类继承关系中，越是子类得到异常，越要往前方\n",
    "#越是父类的异常越往后放\n",
    "\n",
    "# 在处理异常的时候，一旦拦截到某一个异常，则不再继续往下查看，直接进行下一个代码，即有finally则执行finally语句块，否则就执行下一个大语句块\n",
    "except ZeroDivisionError as e:\n",
    "    print(\"除0错误了\")\n",
    "    print(e)\n",
    "    # exit是退出程序的意思\n",
    "    exit()\n",
    "except NameError as e:\n",
    "    print(\"名字错误了\")\n",
    "    print(e)\n",
    "\n",
    "except AttributeError as e:\n",
    "    print(\"属性错误了\")\n",
    "    print(e)\n",
    "\n",
    "    \n",
    "# 所有的异常都是继承自Exception\n",
    "#如果写上下面这句话，任何异常都会被拦截住\n",
    "#而且下面这句话就应该是最后一个except，因为到这里所有的异常都被拦截，下面在添加别的异常语句没有意义\n",
    "except Exception as e:\n",
    "    print(\"我也不知道怎么错误了\")\n",
    "    print(e)\n",
    "    # exit是退出程序的意思\n",
    "    exit()\n",
    "print(\"aaaaaa\")"
   ]
  },
  {
   "cell_type": "markdown",
   "metadata": {},
   "source": [
    "# 用户手动引发异常\n",
    "- 当某些情况，用户希望自己引发一个异常，可以使用\n",
    "- raise 关键字引发异常\n"
   ]
  },
  {
   "cell_type": "code",
   "execution_count": 3,
   "metadata": {},
   "outputs": [
    {
     "name": "stdout",
     "output_type": "stream",
     "text": [
      "love me\n",
      "3.14\n",
      "名字错误\n",
      "一直被执行\n"
     ]
    }
   ],
   "source": [
    "#raise案例\n",
    "try:\n",
    "    print(\"love me\")\n",
    "    print(3.14)\n",
    "    #手动引发一个异常\n",
    "    #注意语法：raise errorclass_name\n",
    "    raise NameError\n",
    "    print(\"没结束\")\n",
    "except NameError:\n",
    "    print(\"名字错误\")\n",
    "except ValueError:\n",
    "    print(\"属性错误\")\n",
    "except Exception:\n",
    "    print(\"有错误，我也不知道什么错误\")\n",
    "finally:\n",
    "    print(\"一直被执行\")"
   ]
  },
  {
   "cell_type": "code",
   "execution_count": 14,
   "metadata": {},
   "outputs": [
    {
     "name": "stdout",
     "output_type": "stream",
     "text": [
      "love me\n",
      "3.14\n",
      "自己定义的异常\n",
      "\n",
      "一直被执行\n"
     ]
    }
   ],
   "source": [
    "#raise案例2\n",
    "#自己定义异常\n",
    "#需要注意：自己定义的异常必须是系统异常的子类\n",
    "class HuiError(ValueError):\n",
    "    pass\n",
    "try:\n",
    "    print(\"love me\")\n",
    "    print(3.14)\n",
    "    #手动引发一个异常\n",
    "    #注意语法：raise errorclass_name\n",
    "    raise HuiError\n",
    "    \n",
    "    print(\"没结束\")\n",
    "except NameError as e:\n",
    "    print(\"名字错误\")\n",
    "except HuiError as e:\n",
    "    print(\"自己定义的异常\")\n",
    "    print(e)\n",
    "except ValueError as e:\n",
    "    print(\"属性错误\")\n",
    "except Exception as e:\n",
    "    print(\"有错误，我也不知道什么错误\")\n",
    "finally:\n",
    "    print(\"一直被执行\")"
   ]
  },
  {
   "cell_type": "code",
   "execution_count": 16,
   "metadata": {},
   "outputs": [
    {
     "name": "stdout",
     "output_type": "stream",
     "text": [
      "输入一个数1\n",
      "结果：100.0\n",
      "程序没有错误\n",
      "反正我会被执行\n"
     ]
    }
   ],
   "source": [
    "#else语句案例\n",
    "try:\n",
    "    num = int(input(\"输入一个数\"))\n",
    "    rst = 100/num\n",
    "    print(\"结果：{0}\".format(rst))\n",
    "except Exception as e:\n",
    "    print(e)\n",
    "else:\n",
    "    print(\"程序没有错误\")\n",
    "finally:\n",
    "    print(\"反正我会被执行\")\n",
    "    "
   ]
  },
  {
   "cell_type": "markdown",
   "metadata": {},
   "source": [
    "# 关于自定义异常 \n",
    "- 只要raise异常，则推荐自定义异常\n",
    "- 在定义自定义异常的时候，一般包含以下内容：\n",
    "    - 自定义发生异常的代码\n",
    "    - 自定义发生异常后的问题提示\n",
    "    - 自定义发生异常的行数\n",
    "- 最终的目的就是发生异常后能帮助程序员快速寻找异常现场"
   ]
  },
  {
   "cell_type": "code",
   "execution_count": 18,
   "metadata": {},
   "outputs": [
    {
     "name": "stdout",
     "output_type": "stream",
     "text": [
      "love me\n",
      "3.14\n",
      "自己定义的异常\n",
      "\n",
      "一直被执行\n"
     ]
    }
   ],
   "source": [
    "# 自定义异常\n",
    "class HuiError(ValueError):\n",
    "    def __init__(self):\n",
    "        print(\"自己定义的异常\")\n",
    "try:\n",
    "    print(\"love me\")\n",
    "    print(3.14)\n",
    "    #手动引发一个异常\n",
    "    #注意语法：raise errorclass_name\n",
    "    raise HuiError\n",
    "    \n",
    "    print(\"没结束\")\n",
    "except NameError as e:\n",
    "    print(\"名字错误\")\n",
    "except HuiError as e:\n",
    "    #print(\"自己定义的异常\")\n",
    "    print(e)\n",
    "except ValueError as e:\n",
    "    print(\"属性错误\")\n",
    "except Exception as e:\n",
    "    print(\"有错误，我也不知道什么错误\")\n",
    "finally:\n",
    "    print(\"一直被执行\")"
   ]
  }
 ],
 "metadata": {
  "kernelspec": {
   "display_name": "Python 3",
   "language": "python",
   "name": "python3"
  },
  "language_info": {
   "codemirror_mode": {
    "name": "ipython",
    "version": 3
   },
   "file_extension": ".py",
   "mimetype": "text/x-python",
   "name": "python",
   "nbconvert_exporter": "python",
   "pygments_lexer": "ipython3",
   "version": "3.7.3"
  }
 },
 "nbformat": 4,
 "nbformat_minor": 2
}
