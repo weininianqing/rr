{
 "cells": [
  {
   "cell_type": "markdown",
   "metadata": {},
   "source": [
    "# log模块资料\n",
    "https://www.cnblogs.com/yyds/p/6901864.html"
   ]
  },
  {
   "cell_type": "markdown",
   "metadata": {},
   "source": [
    "# Python语言的高级特性\n"
   ]
  },
  {
   "cell_type": "markdown",
   "metadata": {},
   "source": [
    "## 函数式编程（FunctionalProgramming）\n",
    "-  基于lambda演算的一种编程方式\n",
    "    - 程序只有函数\n",
    "    - 函数可以作为参数，同样可以作为返回值\n",
    "    - 纯函数式编程语言：LISP，Haskell\n",
    "- Python函数式编程只是借鉴函数式编程的一些特点，可以理解成一般函数式一半Python\n",
    "- 需要讲述\n",
    "    - 高阶函数\n",
    "    - 返回函数\n",
    "    - 匿名函数\n",
    "    - 装饰器\n",
    "    - 偏函数"
   ]
  },
  {
   "cell_type": "markdown",
   "metadata": {},
   "source": [
    "### lambda表达式\n",
    "- 函数：最大程度复用代码\n",
    "    - 存在问题：如果函数很小，很短，则会造成啰嗦\n",
    "    - 如果函数被调用次数很少，则会造成浪费\n",
    "    - 对于阅读者来说，造成阅读流程的被迫中断\n",
    "    \n",
    "- lambda表达式（匿名函数）：\n",
    "    - 一个表达式，函数体相对简单\n",
    "    - 不是一个代码块，仅仅是一个表达式\n",
    "    - 可以有参数，也可以有多个参数，用逗号隔开"
   ]
  },
  {
   "cell_type": "code",
   "execution_count": 2,
   "metadata": {},
   "outputs": [
    {
     "name": "stdout",
     "output_type": "stream",
     "text": [
      "1000\n",
      "dahui\n"
     ]
    }
   ],
   "source": [
    "#lambda表达式的用法\n",
    "# 1.以lambda开头\n",
    "# 2.紧跟一定的参数（如果有的话）\n",
    "# 3.参数后用冒号和表达式主题隔开\n",
    "# 4.只是一个表达式，所以没有return\n",
    "\n",
    "stm = lambda x: x*100\n",
    "#使用上和函数效果一模一样\n",
    "stm(10)\n",
    "print(stm(10))\n",
    "st = lambda a,b,c: a*b*c\n",
    "st(12,2,3)\n",
    "s = lambda a:print(\"{}\".format(a))\n",
    "s(\"dahui\")"
   ]
  },
  {
   "cell_type": "markdown",
   "metadata": {},
   "source": [
    "## 高阶函数\n",
    "- 把函数作为参数使用的函数，叫高阶函数"
   ]
  },
  {
   "cell_type": "code",
   "execution_count": 7,
   "metadata": {},
   "outputs": [
    {
     "name": "stdout",
     "output_type": "stream",
     "text": [
      "AAAAA\n"
     ]
    }
   ],
   "source": [
    "#变量可以赋值\n",
    "a = 100\n",
    "b = a\n",
    "#函数名称就是一个变量\n",
    "def funA():\n",
    "    print(\"AAAAA\")\n",
    "funB = funA\n",
    "funB()"
   ]
  },
  {
   "cell_type": "markdown",
   "metadata": {},
   "source": [
    "### 以上代码得出结论：\n",
    "- 函数名是变量\n",
    "- funB和funA只是名称不一样而已\n",
    "- 既然函数名称是变量，则应该可以被当做参数传入另一个函数\n"
   ]
  },
  {
   "cell_type": "code",
   "execution_count": 15,
   "metadata": {},
   "outputs": [
    {
     "name": "stdout",
     "output_type": "stream",
     "text": [
      "3000\n"
     ]
    },
    {
     "data": {
      "text/plain": [
       "300"
      ]
     },
     "execution_count": 15,
     "metadata": {},
     "output_type": "execute_result"
    }
   ],
   "source": [
    "#高阶函数举例\n",
    "#funA是普通函数，返回一个传入数字的100被数字\n",
    "def funA(n):\n",
    "    return n*100\n",
    "\n",
    "#在写一个函数，把传入的参数乘以300被，利用高阶函数\n",
    "def funB(n):\n",
    "    return funA(n)*3\n",
    "\n",
    "print(funB(10))\n",
    "\n",
    "# 写一个高阶函数\n",
    "def funC(n,f):#n是参数，f是函数 return 相当于 funC=f(n)*3\n",
    "    return f(n)*3\n",
    "funC(10,funA)\n",
    "\n",
    "\n",
    "#比较funC和funB，funC比funB更灵活\n",
    "\n",
    "def funD(a):\n",
    "    return a*10\n",
    "funC(10,funD)"
   ]
  },
  {
   "cell_type": "markdown",
   "metadata": {},
   "source": [
    "## 系统的高阶函数-map\n",
    "- 原意就是映射，即把集合或者列表的元素，每一个元素都按照一定的规则进行操作，生成一个新的列表或集合\n",
    "- map函数就是系统提供的具有映射功能的函数，返回值是一个迭代对象"
   ]
  },
  {
   "cell_type": "code",
   "execution_count": 3,
   "metadata": {},
   "outputs": [
    {
     "name": "stdout",
     "output_type": "stream",
     "text": [
      "[0, 10, 20, 30, 40, 50, 60, 70, 80, 90]\n",
      "['0', '1', '2', '3', '4', '5', '6', '7', '8', '9']\n"
     ]
    }
   ],
   "source": [
    "#map举例\n",
    "#有一个列表，相对列表里面的元素乘以10，并得到新的列表\n",
    "l1 = [i for i in range(10)]\n",
    "l2 = []\n",
    "for i in l1:\n",
    "    l2.append(i*10)\n",
    "print(l2)\n",
    "\n",
    "#利用map实现\n",
    "def m(n):\n",
    "    return \"{}\".format(n)\n",
    "l3 = map(m,l1)#map里面的参数分别为函数，集合或列表\n",
    "print([i for i in l3])"
   ]
  },
  {
   "cell_type": "markdown",
   "metadata": {},
   "source": [
    "## reduce\n",
    "- 原意是归并，缩减\n",
    "- 把一个可迭代对象最后归并成一个结果\n",
    "- 对于作为参数的函数要求：必须有两个参数，必须有运算结果\n",
    "- reduce(f，[1,2,3,4,5]) = f(f(f(f(1,2),3),4),5) f为函数，第二个参数为列表或集合\n",
    "- reduce需要导入functools包"
   ]
  },
  {
   "cell_type": "code",
   "execution_count": 2,
   "metadata": {},
   "outputs": [],
   "source": [
    "from functools import reduce"
   ]
  },
  {
   "cell_type": "code",
   "execution_count": 4,
   "metadata": {},
   "outputs": [
    {
     "name": "stdout",
     "output_type": "stream",
     "text": [
      "21\n",
      "Help on built-in function reduce in module _functools:\n",
      "\n",
      "reduce(...)\n",
      "    reduce(function, sequence[, initial]) -> value\n",
      "    \n",
      "    Apply a function of two arguments cumulatively to the items of a sequence,\n",
      "    from left to right, so as to reduce the sequence to a single value.\n",
      "    For example, reduce(lambda x, y: x+y, [1, 2, 3, 4, 5]) calculates\n",
      "    ((((1+2)+3)+4)+5).  If initial is present, it is placed before the items\n",
      "    of the sequence in the calculation, and serves as a default when the\n",
      "    sequence is empty.\n",
      "\n"
     ]
    }
   ],
   "source": [
    "#定义一个操作函数\n",
    "\n",
    "#加入操作函数只是相加\n",
    "def my(x,y):\n",
    "    return x+y\n",
    "#对于列表[1,2,3,4,5,6]执行my函数的reduce操作\n",
    "c = reduce(my,[1,2,3,4,5,6])\n",
    "print(c)\n",
    "help(reduce)"
   ]
  }
 ],
 "metadata": {
  "kernelspec": {
   "display_name": "Python 3",
   "language": "python",
   "name": "python3"
  },
  "language_info": {
   "codemirror_mode": {
    "name": "ipython",
    "version": 3
   },
   "file_extension": ".py",
   "mimetype": "text/x-python",
   "name": "python",
   "nbconvert_exporter": "python",
   "pygments_lexer": "ipython3",
   "version": "3.7.3"
  }
 },
 "nbformat": 4,
 "nbformat_minor": 2
}
