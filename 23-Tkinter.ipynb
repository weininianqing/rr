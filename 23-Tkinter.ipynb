{
 "cells": [
  {
   "cell_type": "markdown",
   "metadata": {},
   "source": [
    "\n",
    "         anchor：当可用空间大于组件所需求的大小时，该选项决定组件被放置在容器的何处。\n",
    "            该选项支持 N（北，代表上）、E（东，代表右）、S（南，代表下）、W（西，代表左）、NW（西北，代表左上）、NE（东北，代表右上）、SW（西南，代表左下）、SE（东南，代表右下）、CENTER（中，默认值）这些值。\n",
    "            expand：该 bool 值指定当父容器增大时才是否拉伸组件。\n",
    "            fill：设置组件是否沿水平或垂直方向填充。该选项支持 NONE、X、Y、BOTH 四个值，其中 NONE 表示不填充，BOTH 表示沿着两个方向填充。\n",
    "            ipadx：指定组件在 x 方向（水平）上的内部留白（padding）。\n",
    "            ipady：指定组件在 y 方向（水平）上的内部留白（padding）。\n",
    "            padx：指定组件在 x 方向（水平）上与其他组件的间距。\n",
    "            pady：指定组件在 y 方向（水平）上与其他组件的间距。\n",
    "            side：设置组件的添加位置，可以设置为 TOP、BOTTOM、LEFT 或 RIGHT 这四个值的其中之一。"
   ]
  },
  {
   "cell_type": "code",
   "execution_count": 15,
   "metadata": {},
   "outputs": [],
   "source": [
    "\n",
    "base = tkinter.Tk()\n",
    "potho = tkinter.PhotoImage(file=\"E:\\\\b.jpg\")\n",
    "lb = tkinter.Label(base,text=\"woaini\",background=\"green\",image=potho)\n",
    "lb.pack()\n",
    "\n",
    "base.mainloop()"
   ]
  },
  {
   "cell_type": "code",
   "execution_count": 21,
   "metadata": {},
   "outputs": [],
   "source": [
    "def s():\n",
    "    global potho\n",
    "    potho = tkinter.PhotoImage(file=\"E:\\\\b.jpg\")\n",
    "    lb = tkinter.Label(base,image=potho)\n",
    "    lb.pack()\n",
    "base = tkinter.Tk()\n",
    "brn = tkinter.Button(base,text=\"显示图片\",command=s)\n",
    "brn.pack()\n",
    "\n",
    "base.mainloop()"
   ]
  },
  {
   "cell_type": "code",
   "execution_count": 2,
   "metadata": {},
   "outputs": [],
   "source": [
    "import tkinter\n",
    "base = tkinter.Tk()\n",
    "base.wm_title(\"wwwww\")\n",
    "\n",
    "base.mainloop()"
   ]
  }
 ],
 "metadata": {
  "kernelspec": {
   "display_name": "Python 3",
   "language": "python",
   "name": "python3"
  },
  "language_info": {
   "codemirror_mode": {
    "name": "ipython",
    "version": 3
   },
   "file_extension": ".py",
   "mimetype": "text/x-python",
   "name": "python",
   "nbconvert_exporter": "python",
   "pygments_lexer": "ipython3",
   "version": "3.7.3"
  }
 },
 "nbformat": 4,
 "nbformat_minor": 2
}
