{
 "cells": [
  {
   "cell_type": "markdown",
   "metadata": {},
   "source": [
    "# range函数\n",
    "- 生成有序的数列\n",
    "- 生成数字队列可以定制"
   ]
  },
  {
   "cell_type": "code",
   "execution_count": 3,
   "metadata": {},
   "outputs": [
    {
     "name": "stdout",
     "output_type": "stream",
     "text": [
      "1\n",
      "2\n",
      "3\n",
      "4\n",
      "5\n",
      "6\n",
      "7\n",
      "8\n",
      "9\n",
      "10\n",
      "11\n",
      "12\n",
      "13\n",
      "14\n",
      "15\n",
      "16\n",
      "17\n",
      "18\n",
      "19\n",
      "20\n",
      "21\n",
      "22\n",
      "23\n",
      "24\n",
      "25\n",
      "26\n",
      "27\n",
      "28\n",
      "29\n",
      "30\n",
      "31\n",
      "32\n",
      "33\n",
      "34\n",
      "35\n",
      "36\n",
      "37\n",
      "38\n",
      "39\n",
      "40\n",
      "41\n",
      "42\n",
      "43\n",
      "44\n",
      "45\n",
      "46\n",
      "47\n",
      "48\n",
      "49\n",
      "50\n",
      "51\n",
      "52\n",
      "53\n",
      "54\n",
      "55\n",
      "56\n",
      "57\n",
      "58\n",
      "59\n",
      "60\n",
      "61\n",
      "62\n",
      "63\n",
      "64\n",
      "65\n",
      "66\n",
      "67\n",
      "68\n",
      "69\n",
      "70\n",
      "71\n",
      "72\n",
      "73\n",
      "74\n",
      "75\n",
      "76\n",
      "77\n",
      "78\n",
      "79\n",
      "80\n",
      "81\n",
      "82\n",
      "83\n",
      "84\n",
      "85\n",
      "86\n",
      "87\n",
      "88\n",
      "89\n",
      "90\n",
      "91\n",
      "92\n",
      "93\n",
      "94\n",
      "95\n",
      "96\n",
      "97\n",
      "98\n",
      "99\n"
     ]
    }
   ],
   "source": [
    "# range案例1\n",
    "# 生成一个1-100的数列\n",
    "dig_list = range(1,100)  # range函数是左包括右不包括\n",
    "for dig in dig_list:\n",
    "    \n",
    "    print(dig)"
   ]
  },
  {
   "cell_type": "code",
   "execution_count": 6,
   "metadata": {},
   "outputs": [
    {
     "name": "stdout",
     "output_type": "stream",
     "text": [
      "1\n",
      "2\n",
      "3\n",
      "4\n",
      "5\n",
      "6\n",
      "7\n",
      "8\n",
      "9\n"
     ]
    }
   ],
   "source": [
    "#range案例2\n",
    "#打印从1到9的数字\n",
    "for i in range(1,10):\n",
    "    print(i)"
   ]
  },
  {
   "cell_type": "markdown",
   "metadata": {},
   "source": [
    "# 函数\n",
    "- 函数是代码的一种组织形式\n",
    "- 函数应该能完成一定的工作，而且一般一个函数完成一个工作\n",
    "- 函数的使用\n",
    "    - 函数使用需要先定义\n",
    "    - 使用函数俗称调用"
   ]
  },
  {
   "cell_type": "code",
   "execution_count": 8,
   "metadata": {},
   "outputs": [
    {
     "name": "stdout",
     "output_type": "stream",
     "text": [
      "yes l like sdaty\n",
      "eeeee\n"
     ]
    }
   ],
   "source": [
    "#定义一个函数\n",
    "#只是定义的话不会执行\n",
    "#1.def是关键字，后跟一个空格\n",
    "#2.函数名，自己定义，通俗易懂\n",
    "#3.后面括号和冒号不能省括号内可以有参数\n",
    "#4.函数内所有代码缩进\n",
    "\n",
    "def func():\n",
    "    print(\"yes l like sdaty\")\n",
    "    print(\"eeeee\")\n",
    "func()\n",
    "#函数的调用\n",
    "#直接写出函数的名字后面小括号不能省略，括号内容根据情况\n"
   ]
  },
  {
   "cell_type": "markdown",
   "metadata": {},
   "source": [
    "# 函数的参数和返回值\n",
    "- 参数：负责给函数传递一些必要的的数据或者信息\n",
    "    - 形参（形式参数）：在函数定义的时候用到的参数，没有具体值，只有一个占位符号\n",
    "    - 实参（实际参数）：在函数调用的时候输入的值\n",
    "- 返回值：调用函数的时候的一个执行结果\n",
    "    - 使用return返回结果\n",
    "    - 如果没有值需要返回，我们推荐使用return None表示函数结束\n",
    "    - 函数一旦执行return，则函数立即结束\n",
    "    - 如果函数没有return关键字，则函数默认返回None"
   ]
  },
  {
   "cell_type": "code",
   "execution_count": 24,
   "metadata": {},
   "outputs": [
    {
     "name": "stdout",
     "output_type": "stream",
     "text": [
      "孙佳你好\n",
      "孙佳你好\n",
      "None\n"
     ]
    }
   ],
   "source": [
    "#形参和实参的案例\n",
    "#参数person只是一个符号\n",
    "#调用的时候用另一个\n",
    "def hello(person):\n",
    "    print(\"{}你好\".format(person))\n",
    "p = \"孙佳\"\n",
    "#调用函数需要把p作为实参传入\n",
    "hello(p)\n",
    "#print('{名字}今天{动作}'.format(名字='陈某某',动作='拍视频'))#通过关键字\n",
    "print(hello(p))"
   ]
  },
  {
   "cell_type": "code",
   "execution_count": 27,
   "metadata": {},
   "outputs": [
    {
     "name": "stdout",
     "output_type": "stream",
     "text": [
      "woai你好\n",
      "None\n"
     ]
    }
   ],
   "source": [
    "pp = hello(\"woai\")\n",
    "print(pp)"
   ]
  },
  {
   "cell_type": "code",
   "execution_count": 5,
   "metadata": {},
   "outputs": [
    {
     "name": "stdout",
     "output_type": "stream",
     "text": [
      "dada你怎么不理我\n",
      "dada你怎么不理我\n",
      "dadawoaini\n"
     ]
    }
   ],
   "source": [
    "#renturn 返回值案例\n",
    "def ren(qq):\n",
    "    print(\"{}你怎么不理我\".format(qq))\n",
    "    return \"{}woaini\".format(qq)\n",
    "p = \"dada\"\n",
    "ren(p)\n",
    "print(ren(p))"
   ]
  },
  {
   "cell_type": "code",
   "execution_count": 7,
   "metadata": {},
   "outputs": [
    {
     "name": "stdout",
     "output_type": "stream",
     "text": [
      "学习你怎么不理我\n",
      "学习使我快乐\n"
     ]
    }
   ],
   "source": [
    "#renturn 返回值案例2\n",
    "def ren(qq):\n",
    "    print(\"{}你怎么不理我\".format(qq))\n",
    "    return \"{}使我快乐\".format(qq)\n",
    "    print(\"我爱学习使我快乐\")\n",
    "    return \"{}woaini\".format(qq)#后面没有执行 函数只要执行了return 函数就结束了\n",
    "p = \"学习\"\n",
    "\n",
    "print(ren(p))"
   ]
  },
  {
   "cell_type": "code",
   "execution_count": 32,
   "metadata": {},
   "outputs": [
    {
     "name": "stdout",
     "output_type": "stream",
     "text": [
      "\n",
      "Help on NoneType object:\n",
      "\n",
      "class NoneType(object)\n",
      " |  Methods defined here:\n",
      " |  \n",
      " |  __bool__(self, /)\n",
      " |      self != 0\n",
      " |  \n",
      " |  __repr__(self, /)\n",
      " |      Return repr(self).\n",
      " |  \n",
      " |  ----------------------------------------------------------------------\n",
      " |  Static methods defined here:\n",
      " |  \n",
      " |  __new__(*args, **kwargs) from builtins.type\n",
      " |      Create and return a new object.  See help(type) for accurate signature.\n",
      "\n"
     ]
    }
   ],
   "source": [
    "#help提供帮助\n",
    "help(print())#相当于调用函数print，但是print返回值默认为None所以等价于help(None)"
   ]
  },
  {
   "cell_type": "code",
   "execution_count": 3,
   "metadata": {},
   "outputs": [
    {
     "name": "stdout",
     "output_type": "stream",
     "text": [
      "1 * 1 = 1  \n",
      "1 * 2 = 2  2 * 2 = 4  \n",
      "1 * 3 = 3  2 * 3 = 6  3 * 3 = 9  \n",
      "1 * 4 = 4  2 * 4 = 8  3 * 4 = 12  4 * 4 = 16  \n",
      "1 * 5 = 5  2 * 5 = 10  3 * 5 = 15  4 * 5 = 20  5 * 5 = 25  \n",
      "1 * 6 = 6  2 * 6 = 12  3 * 6 = 18  4 * 6 = 24  5 * 6 = 30  6 * 6 = 36  \n",
      "1 * 7 = 7  2 * 7 = 14  3 * 7 = 21  4 * 7 = 28  5 * 7 = 35  6 * 7 = 42  7 * 7 = 49  \n",
      "1 * 8 = 8  2 * 8 = 16  3 * 8 = 24  4 * 8 = 32  5 * 8 = 40  6 * 8 = 48  7 * 8 = 56  8 * 8 = 64  \n",
      "1 * 9 = 9  2 * 9 = 18  3 * 9 = 27  4 * 9 = 36  5 * 9 = 45  6 * 9 = 54  7 * 9 = 63  8 * 9 = 72  9 * 9 = 81  \n"
     ]
    }
   ],
   "source": [
    "#九九乘法表\n",
    "\n",
    "for o in range(1,10): #控制外循环，从1到9\n",
    "    for i in range(1,o+1): #内循环，每次从第一个数字开始，打印到跟行数相同的数量\n",
    "        print(i, \"*\", o ,\"=\",o * i,end = \"  \")\n",
    "    print()"
   ]
  },
  {
   "cell_type": "code",
   "execution_count": 11,
   "metadata": {},
   "outputs": [
    {
     "name": "stdout",
     "output_type": "stream",
     "text": [
      "1 * 1 = 1  \n",
      "1 * 2 = 2  2 * 2 = 4  \n",
      "1 * 3 = 3  2 * 3 = 6  3 * 3 = 9  \n",
      "1 * 4 = 4  2 * 4 = 8  3 * 4 = 12  4 * 4 = 16  \n",
      "1 * 5 = 5  2 * 5 = 10  3 * 5 = 15  4 * 5 = 20  5 * 5 = 25  \n",
      "1 * 6 = 6  2 * 6 = 12  3 * 6 = 18  4 * 6 = 24  5 * 6 = 30  6 * 6 = 36  \n",
      "1 * 7 = 7  2 * 7 = 14  3 * 7 = 21  4 * 7 = 28  5 * 7 = 35  6 * 7 = 42  7 * 7 = 49  \n",
      "1 * 8 = 8  2 * 8 = 16  3 * 8 = 24  4 * 8 = 32  5 * 8 = 40  6 * 8 = 48  7 * 8 = 56  8 * 8 = 64  \n",
      "1 * 9 = 9  2 * 9 = 18  3 * 9 = 27  4 * 9 = 36  5 * 9 = 45  6 * 9 = 54  7 * 9 = 63  8 * 9 = 72  9 * 9 = 81  \n"
     ]
    }
   ],
   "source": [
    "#尝试用函数打印九九乘法表\n",
    "def jiujiu():\n",
    "    for o in range(1,10): #控制外循环，从1到9\n",
    "        for i in range(1,o+1): #内循环，每次从第一个数字开始，打印到跟行数相同的数量\n",
    "            print(i, \"*\", o ,\"=\",o * i,end = \"  \")\n",
    "        print()\n",
    "    return None\n",
    "jiujiu()\n"
   ]
  },
  {
   "cell_type": "code",
   "execution_count": 35,
   "metadata": {
    "scrolled": true
   },
   "outputs": [
    {
     "ename": "NameError",
     "evalue": "name 'r' is not defined",
     "output_type": "error",
     "traceback": [
      "\u001b[1;31m---------------------------------------------------------------------------\u001b[0m",
      "\u001b[1;31mNameError\u001b[0m                                 Traceback (most recent call last)",
      "\u001b[1;32m<ipython-input-35-72a4b6c3cb86>\u001b[0m in \u001b[0;36m<module>\u001b[1;34m\u001b[0m\n\u001b[0;32m      8\u001b[0m         \u001b[0mchengf\u001b[0m\u001b[1;33m(\u001b[0m\u001b[1;33m)\u001b[0m\u001b[1;33m\u001b[0m\u001b[1;33m\u001b[0m\u001b[0m\n\u001b[0;32m      9\u001b[0m \u001b[1;33m\u001b[0m\u001b[0m\n\u001b[1;32m---> 10\u001b[1;33m \u001b[0mjiujiu\u001b[0m\u001b[1;33m(\u001b[0m\u001b[1;33m)\u001b[0m\u001b[1;33m\u001b[0m\u001b[1;33m\u001b[0m\u001b[0m\n\u001b[0m",
      "\u001b[1;32m<ipython-input-35-72a4b6c3cb86>\u001b[0m in \u001b[0;36mjiujiu\u001b[1;34m()\u001b[0m\n\u001b[0;32m      6\u001b[0m \u001b[1;32mdef\u001b[0m \u001b[0mjiujiu\u001b[0m\u001b[1;33m(\u001b[0m\u001b[1;33m)\u001b[0m\u001b[1;33m:\u001b[0m\u001b[1;33m\u001b[0m\u001b[1;33m\u001b[0m\u001b[0m\n\u001b[0;32m      7\u001b[0m     \u001b[1;32mfor\u001b[0m \u001b[0mr\u001b[0m \u001b[1;32min\u001b[0m \u001b[0mrange\u001b[0m\u001b[1;33m(\u001b[0m\u001b[1;36m1\u001b[0m\u001b[1;33m,\u001b[0m\u001b[1;36m10\u001b[0m\u001b[1;33m)\u001b[0m\u001b[1;33m:\u001b[0m\u001b[1;33m\u001b[0m\u001b[1;33m\u001b[0m\u001b[0m\n\u001b[1;32m----> 8\u001b[1;33m         \u001b[0mchengf\u001b[0m\u001b[1;33m(\u001b[0m\u001b[1;33m)\u001b[0m\u001b[1;33m\u001b[0m\u001b[1;33m\u001b[0m\u001b[0m\n\u001b[0m\u001b[0;32m      9\u001b[0m \u001b[1;33m\u001b[0m\u001b[0m\n\u001b[0;32m     10\u001b[0m \u001b[0mjiujiu\u001b[0m\u001b[1;33m(\u001b[0m\u001b[1;33m)\u001b[0m\u001b[1;33m\u001b[0m\u001b[1;33m\u001b[0m\u001b[0m\n",
      "\u001b[1;32m<ipython-input-35-72a4b6c3cb86>\u001b[0m in \u001b[0;36mchengf\u001b[1;34m()\u001b[0m\n\u001b[0;32m      1\u001b[0m \u001b[1;31m#错误示例\u001b[0m\u001b[1;33m\u001b[0m\u001b[1;33m\u001b[0m\u001b[1;33m\u001b[0m\u001b[0m\n\u001b[0;32m      2\u001b[0m \u001b[1;32mdef\u001b[0m \u001b[0mchengf\u001b[0m\u001b[1;33m(\u001b[0m\u001b[1;33m)\u001b[0m\u001b[1;33m:\u001b[0m\u001b[1;33m\u001b[0m\u001b[1;33m\u001b[0m\u001b[0m\n\u001b[1;32m----> 3\u001b[1;33m      \u001b[1;32mfor\u001b[0m \u001b[0mi\u001b[0m \u001b[1;32min\u001b[0m \u001b[0mrange\u001b[0m\u001b[1;33m(\u001b[0m\u001b[1;36m1\u001b[0m\u001b[1;33m,\u001b[0m\u001b[0mr\u001b[0m \u001b[1;33m+\u001b[0m \u001b[1;36m1\u001b[0m\u001b[1;33m)\u001b[0m\u001b[1;33m:\u001b[0m \u001b[1;31m#内循环，每次从第一个数字开始，打印到跟行数相同的数量\u001b[0m\u001b[1;33m\u001b[0m\u001b[1;33m\u001b[0m\u001b[0m\n\u001b[0m\u001b[0;32m      4\u001b[0m             \u001b[0mprint\u001b[0m\u001b[1;33m(\u001b[0m\u001b[0mi\u001b[0m\u001b[1;33m,\u001b[0m \u001b[1;34m\"*\"\u001b[0m\u001b[1;33m,\u001b[0m \u001b[0mr\u001b[0m \u001b[1;33m,\u001b[0m\u001b[1;34m\"=\"\u001b[0m\u001b[1;33m,\u001b[0m\u001b[0mr\u001b[0m \u001b[1;33m*\u001b[0m \u001b[0mi\u001b[0m\u001b[1;33m,\u001b[0m\u001b[0mend\u001b[0m \u001b[1;33m=\u001b[0m \u001b[1;34m\"  \"\u001b[0m\u001b[1;33m)\u001b[0m\u001b[1;33m\u001b[0m\u001b[1;33m\u001b[0m\u001b[0m\n\u001b[0;32m      5\u001b[0m      \u001b[0mprint\u001b[0m\u001b[1;33m(\u001b[0m\u001b[1;33m)\u001b[0m\u001b[1;33m\u001b[0m\u001b[1;33m\u001b[0m\u001b[0m\n",
      "\u001b[1;31mNameError\u001b[0m: name 'r' is not defined"
     ]
    }
   ],
   "source": [
    "#错误示例\n",
    "def chengf():\n",
    "     for i in range(1,r + 1): #内循环，每次从第一个数字开始，打印到跟行数相同的数量\n",
    "            print(i, \"*\", r ,\"=\",r * i,end = \"  \")\n",
    "     print()\n",
    "def jiujiu():\n",
    "    for r in range(1,10): \n",
    "        chengf()\n",
    "   \n",
    "jiujiu()        "
   ]
  },
  {
   "cell_type": "code",
   "execution_count": 22,
   "metadata": {},
   "outputs": [
    {
     "name": "stdout",
     "output_type": "stream",
     "text": [
      "1 * 1 = 1  \n",
      "1 * 2 = 2  2 * 2 = 4  \n",
      "1 * 3 = 3  2 * 3 = 6  3 * 3 = 9  \n",
      "1 * 4 = 4  2 * 4 = 8  3 * 4 = 12  4 * 4 = 16  \n",
      "1 * 5 = 5  2 * 5 = 10  3 * 5 = 15  4 * 5 = 20  5 * 5 = 25  \n",
      "1 * 6 = 6  2 * 6 = 12  3 * 6 = 18  4 * 6 = 24  5 * 6 = 30  6 * 6 = 36  \n",
      "1 * 7 = 7  2 * 7 = 14  3 * 7 = 21  4 * 7 = 28  5 * 7 = 35  6 * 7 = 42  7 * 7 = 49  \n",
      "1 * 8 = 8  2 * 8 = 16  3 * 8 = 24  4 * 8 = 32  5 * 8 = 40  6 * 8 = 48  7 * 8 = 56  8 * 8 = 64  \n",
      "1 * 9 = 9  2 * 9 = 18  3 * 9 = 27  4 * 9 = 36  5 * 9 = 45  6 * 9 = 54  7 * 9 = 63  8 * 9 = 72  9 * 9 = 81  \n"
     ]
    }
   ],
   "source": [
    "#使用函数嵌套打印九九乘法表\n",
    "def chengf(oe):\n",
    "     for i in range(1,oe+1): #内循环，每次从第一个数字开始，打印到跟行数相同的数量\n",
    "            print(i, \"*\", oe ,\"=\",oe * i,end = \"  \")\n",
    "     print()\n",
    "def jiujiu():\n",
    "    for o in range(1,10):\n",
    "        chengf(o)\n",
    "   \n",
    "jiujiu()\n",
    "\n"
   ]
  },
  {
   "cell_type": "markdown",
   "metadata": {},
   "source": [
    "# 参数详解\n",
    "- 普通参数/位置参数\n",
    "- 默认参数\n",
    "- 关键字参数\n",
    "- 收集参数"
   ]
  },
  {
   "cell_type": "code",
   "execution_count": 25,
   "metadata": {},
   "outputs": [
    {
     "name": "stdout",
     "output_type": "stream",
     "text": [
      "3\n"
     ]
    }
   ],
   "source": [
    "# 普通参数案例\n",
    "def normal_para(one,two,three):\n",
    "    print(one + two)\n",
    "    return None\n",
    "normal_para(1,2,3)#必须一一对应而且不能有空"
   ]
  },
  {
   "cell_type": "code",
   "execution_count": 29,
   "metadata": {},
   "outputs": [
    {
     "name": "stdout",
     "output_type": "stream",
     "text": [
      "3\n",
      "100\n",
      "3\n",
      "3\n"
     ]
    }
   ],
   "source": [
    "#默认参数案例\n",
    "def normal_para(one,two,three=100):\n",
    "    print(one + two)\n",
    "    print(three)\n",
    "    return None\n",
    "normal_para(1,2)\n",
    "normal_para(1,2,3)"
   ]
  },
  {
   "cell_type": "code",
   "execution_count": 29,
   "metadata": {},
   "outputs": [
    {
     "name": "stdout",
     "output_type": "stream",
     "text": [
      "4\n",
      "5\n"
     ]
    }
   ],
   "source": [
    "#关键字参数 不分顺序\n",
    "def normal_para(one,two,three):\n",
    "    print(one + two)\n",
    "    print(three)\n",
    "    return None\n",
    "normal_para(three=5,two=3,one=1)"
   ]
  },
  {
   "cell_type": "markdown",
   "metadata": {},
   "source": [
    "# 收集参数\n",
    "- 把没有位置，不能和定义时的参数位置相对应的参数，放入一个特定的数据结构中\n",
    "- 语法\n",
    "            def func(*args):\n",
    "                fun_boby\n",
    "                按照list的使用方式访问args得到传入的参数\n",
    "            \n",
    "            调用：\n",
    "            func（p1,p2,p3....）\n",
    "- 参数名args不是必须这么写，但是，我们推荐直接用args，约定俗成\n",
    "- 参数名args前需要用星号\n",
    "- 收集参数可以和其它参数共存"
   ]
  },
  {
   "cell_type": "code",
   "execution_count": 8,
   "metadata": {},
   "outputs": [
    {
     "name": "stdout",
     "output_type": "stream",
     "text": [
      "给大家做个简单的自我介绍\n",
      "<class 'tuple'>\n",
      "hello 大家好\n",
      "woshikkk\n",
      "很高兴认识大家\n",
      "给大家做个简单的自我介绍\n",
      "<class 'tuple'>\n",
      "我叫小明\n"
     ]
    }
   ],
   "source": [
    "#收集参数代码\n",
    "#模拟一个学生自我介绍，内容不确定\n",
    "#args把他看做一个list\n",
    "def stu(*args):\n",
    "    print(\"给大家做个简单的自我介绍\")\n",
    "    #type函数作用检测变量的类型\n",
    "    print(type(args))\n",
    "    for t in args:\n",
    "        print(t)\n",
    "    \n",
    "    \n",
    "stu(\"hello 大家好\",\"woshikkk\",\"很高兴认识大家\")\n",
    "\n",
    "stu(\"我叫小明\")"
   ]
  },
  {
   "cell_type": "code",
   "execution_count": 9,
   "metadata": {},
   "outputs": [
    {
     "name": "stdout",
     "output_type": "stream",
     "text": [
      "给大家做个简单的自我介绍\n",
      "<class 'tuple'>\n"
     ]
    }
   ],
   "source": [
    "#收集函数案例\n",
    "#说明收集函数可以不带任何实参被调用，此时收集参数为空tuple（list表弟）\n",
    "stu()"
   ]
  },
  {
   "cell_type": "markdown",
   "metadata": {},
   "source": [
    "# 收集参数之关键字收集参数\n",
    "- 把关键字参数按照字典格式存入收集参数\n",
    "- 语法\n",
    "              def func（**kwargs）：\n",
    "                  func_boby\n",
    "              #调用：\n",
    "              func(p1=v1,p2=v2.....)\n",
    "           - kwargs是约定俗成额\n",
    "           - 调用的时候，把多余的关键字参数放入kwargs\n",
    "           - 访问kwargs需要按字典格式访问\n",
    "              "
   ]
  },
  {
   "cell_type": "code",
   "execution_count": 3,
   "metadata": {},
   "outputs": [
    {
     "name": "stdout",
     "output_type": "stream",
     "text": [
      "大家好 自我介绍下\n",
      "<class 'dict'>\n",
      "{'name': '小明', 'age': '18', 'love': '小刚'}\n",
      "name - - - 小明\n",
      "age - - - 18\n",
      "love - - - 小刚\n",
      "**************************************************\n",
      "大家好 自我介绍下\n",
      "<class 'dict'>\n",
      "{'name': '小红'}\n",
      "name - - - 小红\n"
     ]
    }
   ],
   "source": [
    "#收集参数案例\n",
    "#自我介绍\n",
    "#调用的时候需要使用关键字参数调用\n",
    "def stu(**kwargs):\n",
    "    #在函数体内对于kwargs的使用不用带星号\n",
    "    print(\"大家好 自我介绍下\")\n",
    "    print(type(kwargs))\n",
    "    print(kwargs)\n",
    "    #对于字典的访问Python2和Python3中有区别\n",
    "    for k,v in kwargs.items():\n",
    "        print(k,\"- - -\",v)\n",
    "stu(name=\"小明\",age=\"18\",love=\"小刚\")\n",
    "print(\"*\" * 50)\n",
    "stu(name=\"小红\")\n",
    "        \n",
    "        "
   ]
  },
  {
   "cell_type": "markdown",
   "metadata": {},
   "source": [
    "# 收集参数混合调用顺序问题\n",
    "- 收集参数，关键字参数，普通参数可以混合使用\n",
    "- 使用规则是，普通参数和关键字参数优先\n",
    "- 定义的时候一般找普通参数，关键字参数，收集参数tuple，收集参数dict\n"
   ]
  },
  {
   "cell_type": "code",
   "execution_count": 6,
   "metadata": {},
   "outputs": [
    {
     "name": "stdout",
     "output_type": "stream",
     "text": [
      "大家好自我介绍下\n",
      "我叫王绍辉,我今年18岁\n",
      "我的爱好是打代码 唱个歌 爱你 \n",
      " * * * * * * * * * * * * * * * * * * * * * * * * * * * * * *\n",
      "www --- woaini\n",
      "hoby2 --- 变成\n",
      " # # # # # # # # # # # # # # # # # # # # # # # # # # # # # #\n"
     ]
    }
   ],
   "source": [
    "# 收集参数混合案例\n",
    "#stu模拟自我介绍\n",
    "#因为在调用函数时，普通参数调用完后，有一些没有定义的参数所以要紧跟着收集参数收集起没有调用的参数之后关键字参数\n",
    "def stu(name,age,*args,hobby=\"没有\",**kwargs):\n",
    "    print(\"大家好自我介绍下\")\n",
    "    print(\"我叫{},我今年{}岁\".format(name,age))\n",
    "    if hobby == \"没有\":\n",
    "        print(\"很遗憾\")\n",
    "    else:\n",
    "        print(\"我的爱好是{}\".format(hobby),end=\" \")\n",
    "    \n",
    "    for i in args:\n",
    "        print(i,end=\" \")\n",
    "    print()\n",
    "    print(\" *\" * 30)\n",
    "    for k,v in kwargs.items():\n",
    "        print(k,\"---\",v)\n",
    "    print(\" #\" * 30)\n",
    "    \n",
    "stu(\"王绍辉\",18,\"唱个歌\",\"爱你\",hobby=\"打代码\",www=\"woaini\",hoby2=\"变成\")\n"
   ]
  },
  {
   "cell_type": "markdown",
   "metadata": {},
   "source": [
    "### 收集参数的解包问题\n",
    "- 把参数放入list或字典中，直接把list/dict的值放入收集参数中\n",
    "- 语法看案例"
   ]
  },
  {
   "cell_type": "code",
   "execution_count": 15,
   "metadata": {},
   "outputs": [
    {
     "name": "stdout",
     "output_type": "stream",
     "text": [
      "hahahh\n",
      "<class 'tuple'>\n",
      "0\n",
      "['woaini', 'wosahohui', 18]\n",
      "hahahh\n",
      "<class 'tuple'>\n",
      "0\n",
      "woaini\n",
      "<class 'tuple'>\n",
      "1\n",
      "wosahohui\n",
      "<class 'tuple'>\n",
      "2\n",
      "18\n"
     ]
    }
   ],
   "source": [
    "# 收集参数解包问题\n",
    "def sttu(*args):\n",
    "    print(\"hahahh\")\n",
    "    n = 0\n",
    "    for i in args:\n",
    "        print(type(args))\n",
    "        #n表示循环次数\n",
    "        #主要用来调试\n",
    "        print(n)\n",
    "        n += 1\n",
    "        print(i)\n",
    "l = list()\n",
    "l.append(\"woaini\")\n",
    "l.append(\"wosahohui\")\n",
    "l.append(18)\n",
    "sttu(l)\n",
    "#就是相当与现在的l就是一个list类型的元素，并不是将三个元素收集到args中\n",
    "#此时，args的表示形式是tuple内的一个list类型的元素，即args=（['woaini', 'wosahohui', 18],）\n",
    "#与我们的想法违背\n",
    "\n",
    "\n",
    "#此时的调用，我们需要解包符号，即调用的时候前面加个星号*\n",
    "sttu(*l)"
   ]
  },
  {
   "cell_type": "markdown",
   "metadata": {},
   "source": [
    "# str字符串\n",
    "- str\n",
    "- 转义字符\n",
    "- 格式化\n",
    "- 内建函数"
   ]
  },
  {
   "cell_type": "markdown",
   "metadata": {},
   "source": [
    "# 字符串\n",
    "- 表示文字信息\n",
    "- 用单引号，双引号，三引号括起来\n"
   ]
  },
  {
   "cell_type": "markdown",
   "metadata": {},
   "source": [
    "# 转义字符\n",
    "- 用一个特色的方法表示出一系列不方便写出的内容，比如回车键，换行，退格键\n",
    "- 借助反斜杠字符，一旦字符串出现反斜杠，则反斜杠后面一个或者几个字符已经不是原来的意思，进行了转义\n",
    "- 在字符串出现转义字符加倍小心\n",
    "- 不同操作系统之间不同显示\n",
    "     - windows \\n\n",
    "     - linux  \\r\\n"
   ]
  },
  {
   "cell_type": "code",
   "execution_count": 8,
   "metadata": {},
   "outputs": [
    {
     "name": "stdout",
     "output_type": "stream",
     "text": [
      "Let's go\n",
      "Let's go\n",
      "c:\\User\n",
      "wo\n",
      "ai\n",
      "sunjiajia\n"
     ]
    }
   ],
   "source": [
    "#转义字符的案例\n",
    "#表达Let's go\n",
    "#使用转义字符\n",
    "s  = 'Let\\'s go'\n",
    "print(s)\n",
    "\n",
    "#使用单双引号嵌套\n",
    "s = \"Let's go\"\n",
    "print(s)\n",
    "\n",
    "#表示斜杠\n",
    "#例如 c:\\User\n",
    "s = \"c:\\\\User\"\n",
    "print(s)\n",
    "\n",
    "#表示回车换行\n",
    "s = \"wo\\nai\\nsunjiajia\"\n",
    "print(s)"
   ]
  },
  {
   "cell_type": "markdown",
   "metadata": {},
   "source": [
    "# 常用的转移字符\n",
    "- 转义字符\n",
    "- 转义字符\t描述\n",
    "   - \\ (在行尾时)\t续行符\n",
    "   - \\\\\t反斜杠符号\n",
    "   - \\’\t单引号\n",
    "   - \\”\t双引号\n",
    "   - \\a\t响铃\n",
    "   - \\b\t退格(Backspace)\n",
    "   - \\e\t转义\n",
    "   - \\000\t空\n",
    "   - \\n\t换行\n",
    "   - \\v\t纵向制表符\n",
    "   - \\t\t横向制表符\n",
    "   - \\r\t回车\n",
    "   - \\f\t换页\n",
    "   - \\oyy\t八进制数yy代表的字符，例如：\\o12代表换行\n",
    "   - \\xyy\t十进制数yy代表的字符，例如：\\x0a代表换行\n",
    "   - \\other\t其它的字符以普通格式输出\n"
   ]
  },
  {
   "cell_type": "code",
   "execution_count": 14,
   "metadata": {},
   "outputs": [
    {
     "name": "stdout",
     "output_type": "stream",
     "text": [
      "waiidi\n"
     ]
    }
   ],
   "source": [
    "# 单个斜杠的用法\n",
    "# 在Python里单个反斜杠表示行并未结束，出于美观，需要下一行继续\n",
    "#理论上应该写成 def zg(我爱你,中国,我的母亲)：\n",
    "def zg(我爱你, \\\n",
    "     中国, \\\n",
    "     我的母亲):\n",
    "    print(\"waiidi\")\n",
    "zg(1,2,3)\n",
    "\n"
   ]
  },
  {
   "cell_type": "markdown",
   "metadata": {},
   "source": [
    "# 格式化\n",
    "- 把字符按照一定的格式打印或填充\n"
   ]
  },
  {
   "cell_type": "code",
   "execution_count": 17,
   "metadata": {},
   "outputs": [
    {
     "name": "stdout",
     "output_type": "stream",
     "text": [
      "wo jinnian 18sui\n",
      "wo jinnian 17sui\n",
      "wo jinnian 19sui\n"
     ]
    }
   ],
   "source": [
    "# 填充\n",
    "s = \"wo jinnian 18sui\"\n",
    "print(s)\n",
    "\n",
    "s = \"wo jinnian 17sui\"\n",
    "print(s)\n",
    "\n",
    "s = \"wo jinnian 19sui\"\n",
    "print(s)\n"
   ]
  },
  {
   "cell_type": "markdown",
   "metadata": {},
   "source": [
    "   # 字符串的传统格式化方法\n",
    "   - 使用%进行格式化\n",
    "   - %（百分号）也叫占位符\n",
    "        %s    字符串 (采用str()的显示)\n",
    "\n",
    "        %r    字符串 (采用repr()的显示)\n",
    "\n",
    "        %c    单个字符\n",
    "\n",
    "        %b    二进制整数\n",
    "\n",
    "        %d    十进制整数\n",
    "\n",
    "        %i    十进制整数\n",
    "\n",
    "        %o    八进制整数\n",
    "\n",
    "        %x    十六进制整数\n",
    "\n",
    "        %e    指数 (基底写为e)\n",
    "\n",
    "        %E    指数 (基底写为E)\n",
    "\n",
    "        %f    浮点数\n",
    "\n",
    "        %F    浮点数，与上相同\n",
    "\n",
    "        %g    指数(e)\u0010或浮点数 (根据显示长度)\n",
    "\n",
    "        %G    指数(E)或浮点数 (根据显示长度)\n",
    "\n",
    "\n",
    "\n",
    "        %%    字符\"%\""
   ]
  },
  {
   "cell_type": "code",
   "execution_count": 25,
   "metadata": {},
   "outputs": [
    {
     "name": "stdout",
     "output_type": "stream",
     "text": [
      "i love %s\n",
      "i love zhongguo\n",
      "i love 100\n"
     ]
    }
   ],
   "source": [
    "# %s 表示简单的字符串\n",
    "s = \"i love %s\"\n",
    "\n",
    "print(s)\n",
    "print(s%\"zhongguo\")\n",
    "# 占位符一般只能被同类型的替换，或者替换类型能被转换成占位符的类型\n",
    "# 数字在没有定义整型的前提下打印，打印出来的就是字符串类型\n",
    "print(s%100)"
   ]
  },
  {
   "cell_type": "code",
   "execution_count": 26,
   "metadata": {},
   "outputs": [
    {
     "name": "stdout",
     "output_type": "stream",
     "text": [
      "我今年 18 岁\n"
     ]
    }
   ],
   "source": [
    "s = (\"我今年 %d 岁\")\n",
    "print(s%18)\n",
    "# 这里的18是整形的18不是字符串"
   ]
  },
  {
   "cell_type": "code",
   "execution_count": 31,
   "metadata": {},
   "outputs": [
    {
     "name": "stdout",
     "output_type": "stream",
     "text": [
      "L am 80.000000KG, 1.960000m \n",
      "L am 80.00KG, 1.96m \n"
     ]
    }
   ],
   "source": [
    "s = \"L am %fKG, %fm \"\n",
    "# 如果需要格式化的信息多余一个用括号括起来就可以了\n",
    "#打印使用了默认格式\n",
    "print(s%(80,1.96))\n",
    "\n",
    "#实际需要格式化的信息数量与百分号后面给出的数量匹配否则错误\n",
    "\n",
    "\n",
    "s = \"L am %.2fKG, %.2fm \"\n",
    "# 如果需要格式化的信息多余一个用括号括起来就可以了\n",
    "\n",
    "print(s%(80,1.96))"
   ]
  },
  {
   "cell_type": "markdown",
   "metadata": {},
   "source": [
    "# format格式化\n",
    "- 使用函数形式进行格式化，代替以前的百分号"
   ]
  },
  {
   "cell_type": "code",
   "execution_count": 41,
   "metadata": {},
   "outputs": [
    {
     "name": "stdout",
     "output_type": "stream",
     "text": [
      "hello word!\n",
      "he wowo!\n",
      "hello word!\n",
      "word word!\n"
     ]
    }
   ],
   "source": [
    "# 不用制定位置，按顺序读取\n",
    "#方式1\n",
    "s = \"{} {}!\"\n",
    "print(s.format(\"hello\",\"word\"))\n",
    "\n",
    "#方式2\n",
    "s = \"{} {}!\".format(\"he\",\"wowo\")\n",
    "print(s)\n",
    "\n",
    "#设定指定位置\n",
    "s = \"{0} {1}!\".format(\"hello\",\"word\")#format编码参数从0开始\n",
    "\n",
    "print(s)\n",
    "\n",
    "s = \"{1} {1}!\".format(\"hello\",\"word\")#format编码参数从0开始\n",
    "\n",
    "print(s)"
   ]
  },
  {
   "cell_type": "code",
   "execution_count": 45,
   "metadata": {},
   "outputs": [
    {
     "name": "stdout",
     "output_type": "stream",
     "text": [
      "hello hello!\n",
      "我爱孙佳佳  孙佳佳爱我\n"
     ]
    }
   ],
   "source": [
    "s = \"{0} {0}!\".format(\"hello\",\"word\")#format编码参数从0开始\n",
    "\n",
    "print(s)\n",
    "\n",
    "\n",
    "s = \"我爱{0}  {0}爱我\".format(\"孙佳佳\")#format编码参数从0开始\n",
    "\n",
    "print(s)\n",
    "#上下对比案例\n",
    "#s = \"我爱{}  {}爱我\".format(\"孙佳佳\")#format编码参数从0开始\n",
    "\n",
    "#print(s)"
   ]
  },
  {
   "cell_type": "code",
   "execution_count": 49,
   "metadata": {},
   "outputs": [
    {
     "name": "stdout",
     "output_type": "stream",
     "text": [
      "我们的学校是烟台南山学院 网址是www.yantainashanxueyuan.com 王绍辉最帅 \n"
     ]
    }
   ],
   "source": [
    "# 使用命名参数\n",
    "s = \"我们的学校是{school_name} 网址是{url} {me}最帅 \"\n",
    "s = s.format(school_name=\"烟台南山学院\",url=\"www.yantainashanxueyuan.com\",me=\"王绍辉\")\n",
    "print(s)"
   ]
  },
  {
   "cell_type": "code",
   "execution_count": 53,
   "metadata": {},
   "outputs": [
    {
     "name": "stdout",
     "output_type": "stream",
     "text": [
      "我们的学校是烟台南山学院 网址是www.yantainashanxueyuan.com 王绍辉最帅 \n"
     ]
    }
   ],
   "source": [
    "#通过字典设置参数需要解包\n",
    "# 使用命名参数\n",
    "s = \"我们的学校是{school_name} 网址是{url} {me}最帅 \"\n",
    "s_dict = {\"school_name\":\"烟台南山学院\", \\\n",
    "          \"url\":\"www.yantainashanxueyuan.com\", \\\n",
    "          \"me\":\"王绍辉\"}\n",
    "#**是解包操作\n",
    "s = s.format(**s_dict)\n",
    "print(s)"
   ]
  },
  {
   "cell_type": "code",
   "execution_count": 55,
   "metadata": {},
   "outputs": [
    {
     "name": "stdout",
     "output_type": "stream",
     "text": [
      "wangshaohui is 1.96m heigh, 80.00kg\n"
     ]
    }
   ],
   "source": [
    "#对数字的格式化用到\n",
    "s = \"wangshaohui is {:.2f}m heigh, {:.2f}kg\"\n",
    "print(s.format(1.96,80))"
   ]
  },
  {
   "cell_type": "markdown",
   "metadata": {},
   "source": [
    "# str 内置函数\n",
    "   - 很多语言字符串使用string"
   ]
  },
  {
   "cell_type": "markdown",
   "metadata": {},
   "source": [
    "# 函数的文档 \n",
    "- 函数的文档的作用是对当前函数提供使用相关的参考信息\n",
    "- 文档的写法：\n",
    "        - 在函数内部开始的第一行使用三引号字符串定义符\n",
    "        - 一般有特定格式\n",
    "        - 参看案例\n",
    "- 文档查看：\n",
    "        - 使用help函数，比如help(函数变量名)#这里的函数变量名后面不需要加括号\n",
    "        - 使用__doc__,看案例"
   ]
  },
  {
   "cell_type": "code",
   "execution_count": 19,
   "metadata": {},
   "outputs": [],
   "source": [
    "#文档案例\n",
    "#函数stu 是自我介绍的内容\n",
    "def stdu(name,age):\n",
    "    \n",
    "    '''\n",
    "    第一行\n",
    "    第二行\n",
    "    \n",
    "    \n",
    "    '''\n",
    "    print(\"wowooow\")"
   ]
  },
  {
   "cell_type": "code",
   "execution_count": 22,
   "metadata": {},
   "outputs": [
    {
     "name": "stdout",
     "output_type": "stream",
     "text": [
      "Help on function stdu in module __main__:\n",
      "\n",
      "stdu(name, age)\n",
      "    第一行\n",
      "    第二行\n",
      "\n"
     ]
    },
    {
     "data": {
      "text/plain": [
       "'\\n    第一行\\n    第二行\\n    \\n    \\n    '"
      ]
     },
     "execution_count": 22,
     "metadata": {},
     "output_type": "execute_result"
    }
   ],
   "source": [
    "#文档查看\n",
    "help(stdu)\n",
    "\n",
    "stdu.__doc__"
   ]
  }
 ],
 "metadata": {
  "kernelspec": {
   "display_name": "Python 3",
   "language": "python",
   "name": "python3"
  },
  "language_info": {
   "codemirror_mode": {
    "name": "ipython",
    "version": 3
   },
   "file_extension": ".py",
   "mimetype": "text/x-python",
   "name": "python",
   "nbconvert_exporter": "python",
   "pygments_lexer": "ipython3",
   "version": "3.7.3"
  }
 },
 "nbformat": 4,
 "nbformat_minor": 2
}
