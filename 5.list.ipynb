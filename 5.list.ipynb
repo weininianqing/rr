{
 "cells": [
  {
   "cell_type": "code",
   "execution_count": 1,
   "metadata": {
    "scrolled": true
   },
   "outputs": [
    {
     "name": "stdout",
     "output_type": "stream",
     "text": [
      "2607026797320\n",
      "[1, 2, 3, 4, 5, 6]\n",
      "[1, 2, 300, 4, 5, 6]\n",
      "[1, 2, 300, 4, 5, 6]\n",
      "2607026797320\n",
      "9\n",
      "109\n",
      "9\n"
     ]
    }
   ],
   "source": [
    "# 传值和传地址的区别\n",
    "#传值就是传入一个参数的值，传址就是传入一个参数的地址，也就是内存的地址（相当于指针）。\n",
    "#他们的区别是如果函数里面对传入的参数重新赋值，函数外的全局变量是否相应改变：用传值传入的参数是不会改变的，用传址传入就会。\n",
    "\n",
    "# 对于简单的数值采取传值操作，即在函数内对参数的操作不影响外部的变量\n",
    "# 对于复杂变量，采取传地址操作，此时函数内的参数和外部变量是同一份内容，任何地方对此内容修改都影响变量或参数的使用\n",
    "def a(n):\n",
    "    n[2] = 300\n",
    "    print(n)\n",
    "    return None\n",
    "\n",
    "def b(n):\n",
    "    n += 100\n",
    "    print(n)\n",
    "    return None\n",
    "\n",
    "an = [1,2,3,4,5,6]\n",
    "bn = 9\n",
    "print(id(an))\n",
    "print(an)\n",
    "a(an)\n",
    "print(an)\n",
    "print(id(an))\n",
    "\n",
    "print(bn)\n",
    "b(bn)\n",
    "print(bn)"
   ]
  },
  {
   "cell_type": "markdown",
   "metadata": {},
   "source": [
    "# 关于列表的函数"
   ]
  },
  {
   "cell_type": "code",
   "execution_count": 1,
   "metadata": {
    "scrolled": true
   },
   "outputs": [
    {
     "name": "stdout",
     "output_type": "stream",
     "text": [
      "wa ngshaohui\n",
      "['w', 'a', ' ', 'n', 'g', 's', 'h', 'a', 'o', 'h', 'u', 'i']\n",
      "woaini\n",
      "['w', 'o', 'a', 'i', 'n', 'i']\n",
      "2\n"
     ]
    },
    {
     "ename": "TypeError",
     "evalue": "'int' object is not iterable",
     "output_type": "error",
     "traceback": [
      "\u001b[1;31m---------------------------------------------------------------------------\u001b[0m",
      "\u001b[1;31mTypeError\u001b[0m                                 Traceback (most recent call last)",
      "\u001b[1;32m<ipython-input-1-627397669058>\u001b[0m in \u001b[0;36m<module>\u001b[1;34m\u001b[0m\n\u001b[0;32m      3\u001b[0m \u001b[1;32mfor\u001b[0m \u001b[0mi\u001b[0m \u001b[1;32min\u001b[0m \u001b[0ml\u001b[0m\u001b[1;33m:\u001b[0m\u001b[1;33m\u001b[0m\u001b[1;33m\u001b[0m\u001b[0m\n\u001b[0;32m      4\u001b[0m     \u001b[0mprint\u001b[0m\u001b[1;33m(\u001b[0m\u001b[0mi\u001b[0m\u001b[1;33m)\u001b[0m\u001b[1;33m\u001b[0m\u001b[1;33m\u001b[0m\u001b[0m\n\u001b[1;32m----> 5\u001b[1;33m     \u001b[0mprint\u001b[0m\u001b[1;33m(\u001b[0m\u001b[0mlist\u001b[0m\u001b[1;33m(\u001b[0m\u001b[0mi\u001b[0m\u001b[1;33m)\u001b[0m\u001b[1;33m)\u001b[0m\u001b[1;33m\u001b[0m\u001b[1;33m\u001b[0m\u001b[0m\n\u001b[0m\u001b[0;32m      6\u001b[0m \u001b[1;31m#为什么出错？因为后面的整型不能用列表分开\u001b[0m\u001b[1;33m\u001b[0m\u001b[1;33m\u001b[0m\u001b[1;33m\u001b[0m\u001b[0m\n",
      "\u001b[1;31mTypeError\u001b[0m: 'int' object is not iterable"
     ]
    }
   ],
   "source": [
    "l = [\"wa ngshaohui\",\"woaini\",2,23,34]\n",
    "\n",
    "for i in l:\n",
    "    print(i)\n",
    "    print(list(i))\n",
    "#为什么出错？因为后面的整型不能用列表分开"
   ]
  },
  {
   "cell_type": "code",
   "execution_count": 2,
   "metadata": {},
   "outputs": [
    {
     "name": "stdout",
     "output_type": "stream",
     "text": [
      "[1, 2, 3, 4, 0]\n",
      "['w', 'a', 'n', 'g', 's', 'h', 'a', 'o', 'h', 'u', 'i']\n"
     ]
    }
   ],
   "source": [
    "# append 在列表最后插入一个内容\n",
    "a = [i for i in range(1,5)]\n",
    "a.append(0)\n",
    "print(a)\n",
    "k2 = \"wangshaohui\"\n",
    "print(list(k2))"
   ]
  },
  {
   "cell_type": "code",
   "execution_count": 30,
   "metadata": {},
   "outputs": [
    {
     "name": "stdout",
     "output_type": "stream",
     "text": [
      "[1, 2, 3, 4, 0]\n",
      "[1, 2, 3, 777, 4, 0]\n"
     ]
    }
   ],
   "source": [
    "# insert 指定位置插入\n",
    "# insert(index,data),插入的内容是index前面\n",
    "print(a)\n",
    "a.insert(3,777)\n",
    "print(a)"
   ]
  },
  {
   "cell_type": "code",
   "execution_count": 5,
   "metadata": {},
   "outputs": [
    {
     "name": "stdout",
     "output_type": "stream",
     "text": [
      "[1, 2, 3, 4, 5, 56, 7]\n",
      "3\n",
      "[1, 2, 4, 5, 56, 7]\n"
     ]
    }
   ],
   "source": [
    "#删除\n",
    "#del 删除\n",
    "#pop ，从队尾拿出一个元素，即把最后一个元素拿出来\n",
    "a = [1,2,3,4,5,56,7]\n",
    "print(a)\n",
    "a1 = a.pop(2)\n",
    "print(a1)\n",
    "print(a)"
   ]
  },
  {
   "cell_type": "code",
   "execution_count": 34,
   "metadata": {},
   "outputs": [
    {
     "name": "stdout",
     "output_type": "stream",
     "text": [
      "[5, 23, 34, 55, 5, 'wang']\n",
      "1851561598536\n",
      "[5, 34, 55, 5, 'wang']\n",
      "1851561598536\n"
     ]
    }
   ],
   "source": [
    "#remove :从列表中删除指定的值\n",
    "#if x in list:\n",
    "#      list.remove(x)\n",
    "v = [5,23,34,55,5,\"wang\"]\n",
    "print(v)\n",
    "print(id(v))\n",
    "\n",
    "v.remove(23)\n",
    "print(v)\n",
    "print(id(v))\n",
    "#输出的两个id值是一样的，说明remove操作是在原list上直接操作，并没有生成新的数据"
   ]
  },
  {
   "cell_type": "code",
   "execution_count": 35,
   "metadata": {},
   "outputs": [
    {
     "name": "stdout",
     "output_type": "stream",
     "text": [
      "[2, 3, 4, 44, 'hui']\n",
      "1851567356232\n",
      "[]\n",
      "1851567356232\n"
     ]
    }
   ],
   "source": [
    "#clear 清空\n",
    "q = [2,3,4,44,\"hui\"]\n",
    "print(q)\n",
    "print(id(q))\n",
    "q.clear()\n",
    "\n",
    "print(q)\n",
    "print(id(q))\n",
    "#在原列表的基础上清空\n",
    "#如果不需要列表地址保持不变，则清空列表可以使用以下方式\n",
    "#a = list\n",
    "#a = []"
   ]
  },
  {
   "cell_type": "code",
   "execution_count": 36,
   "metadata": {},
   "outputs": [
    {
     "name": "stdout",
     "output_type": "stream",
     "text": [
      "[5, 4, 3, 2, 1]\n"
     ]
    }
   ],
   "source": [
    "#reverse:翻转\n",
    "w = [1,2,3,4,5]\n",
    "w.reverse()\n",
    "print(w)\n",
    "#id也是没变，原地翻转，不打出来了"
   ]
  },
  {
   "cell_type": "code",
   "execution_count": 38,
   "metadata": {},
   "outputs": [
    {
     "name": "stdout",
     "output_type": "stream",
     "text": [
      "[1, 2, 3, 4, 5, 6]\n"
     ]
    }
   ],
   "source": [
    "#extend ： 扩展列表，把两个列表拼在一起，把一个直接拼到后一个上\n",
    "e = [1,2,3]\n",
    "r = [4,5,6]\n",
    "e.extend(r)\n",
    "print(e)"
   ]
  },
  {
   "cell_type": "code",
   "execution_count": 40,
   "metadata": {},
   "outputs": [
    {
     "name": "stdout",
     "output_type": "stream",
     "text": [
      "[1, 2, 3, 4, 5, 8]\n",
      "[1, 2, 3, 4, 8, 5, 8]\n",
      "2\n"
     ]
    }
   ],
   "source": [
    "# count:查找列表中的某个值或元素的个数\n",
    "a = [1,2,3,4,5]\n",
    "a.append(8)\n",
    "print(a)\n",
    "a.insert(4,8)\n",
    "print(a)\n",
    "print(a.count(8))"
   ]
  },
  {
   "cell_type": "code",
   "execution_count": 1,
   "metadata": {},
   "outputs": [
    {
     "name": "stdout",
     "output_type": "stream",
     "text": [
      "[1, 2, 3, 4, 55]\n",
      "1807008796872\n",
      "[1, 2, 3, 4, 55]\n",
      "[1, 2, 3, 333, 55]\n",
      "[1, 2, 3, 333, 55]\n",
      "1807008796872\n",
      "********************\n",
      "[1, 2, 3, 444, 55]\n",
      "1807008796872\n",
      "[1, 2, 3, 333, 55]\n",
      "1807008796808\n"
     ]
    }
   ],
   "source": [
    "#copy :浅拷贝\n",
    "#列表类型变量赋值示例\n",
    "a = [1,2,3,4,55]\n",
    "print(a)\n",
    "print(id(a))\n",
    "b = a\n",
    "#list 类型，简单的赋值操作就是传地址\n",
    "print(b)\n",
    "b[3] = 333\n",
    "print(a)\n",
    "print(b)\n",
    "print(id(b))\n",
    "\n",
    "print(\"*\" * 20)\n",
    "#为了解决上面问题，list赋值需要采用copy函数\n",
    "b = a.copy()\n",
    "# copy 的意思就是 把 list里面的数值元素考出来然后赋值给一个新的变量，上面的是把list直接赋值给一个变量\n",
    "a[3] = 444\n",
    "print(a)\n",
    "print(id(a))\n",
    "print(b)\n",
    "print(id(b))"
   ]
  },
  {
   "cell_type": "code",
   "execution_count": 46,
   "metadata": {},
   "outputs": [
    {
     "name": "stdout",
     "output_type": "stream",
     "text": [
      "1851566938248\n",
      "1851566020296\n",
      "********************\n",
      "1851566936968\n",
      "1851566936968\n",
      "[1, 2, 3, [10, 20, 666]]\n",
      "[1, 2, 3, [10, 20, 666]]\n"
     ]
    }
   ],
   "source": [
    "#深拷贝跟浅拷贝的区别\n",
    "#出现下列问题原因是，copy只是浅拷贝函数，即只拷贝一层内容\n",
    "#\n",
    "a = [1,2,3,[10,20,30]]\n",
    "b = a.copy()\n",
    "print(id(a))\n",
    "print(id(b))\n",
    "print(\"*\" * 20)\n",
    "print(id(a[3]))\n",
    "print(id(b[3]))\n",
    "a[3][2] = 666\n",
    "print(a)\n",
    "print(b)"
   ]
  },
  {
   "cell_type": "code",
   "execution_count": 6,
   "metadata": {},
   "outputs": [
    {
     "data": {
      "text/plain": [
       "True"
      ]
     },
     "execution_count": 6,
     "metadata": {},
     "output_type": "execute_result"
    }
   ],
   "source": [
    "#isinstance(a,b)a是实例对象，b是可以是直接或间接类名、基本类型或者由它们组成的元组\n",
    "a = 2\n",
    "\n",
    "isinstance(a,int)"
   ]
  },
  {
   "cell_type": "code",
   "execution_count": 6,
   "metadata": {},
   "outputs": [
    {
     "name": "stdout",
     "output_type": "stream",
     "text": [
      "3 出现的次数： 3\n",
      "5 出现的次数： 1\n",
      "6 出现的次数： 3\n",
      "7 出现的次数： 1\n",
      "8 出现的次数： 1\n",
      "9 出现的次数： 1\n",
      "10 出现的次数： 1\n",
      "13 出现的次数： 2\n",
      "14 出现的次数： 1\n",
      "15 出现的次数： 2\n",
      "16 出现的次数： 3\n",
      "17 出现的次数： 2\n",
      "18 出现的次数： 1\n",
      "20 出现的次数： 2\n",
      "21 出现的次数： 1\n",
      "22 出现的次数： 1\n",
      "24 出现的次数： 2\n",
      "25 出现的次数： 1\n",
      "28 出现的次数： 3\n",
      "29 出现的次数： 1\n",
      "31 出现的次数： 1\n",
      "32 出现的次数： 4\n",
      "36 出现的次数： 2\n",
      "38 出现的次数： 1\n",
      "40 出现的次数： 3\n",
      "41 出现的次数： 1\n",
      "42 出现的次数： 2\n",
      "43 出现的次数： 1\n",
      "44 出现的次数： 2\n",
      "45 出现的次数： 1\n",
      "46 出现的次数： 1\n",
      "47 出现的次数： 1\n",
      "49 出现的次数： 1\n",
      "51 出现的次数： 1\n",
      "52 出现的次数： 3\n",
      "56 出现的次数： 1\n",
      "57 出现的次数： 1\n",
      "60 出现的次数： 1\n",
      "62 出现的次数： 1\n",
      "63 出现的次数： 1\n",
      "65 出现的次数： 1\n",
      "66 出现的次数： 1\n",
      "67 出现的次数： 1\n",
      "69 出现的次数： 3\n",
      "70 出现的次数： 1\n",
      "71 出现的次数： 1\n",
      "72 出现的次数： 1\n",
      "73 出现的次数： 1\n",
      "74 出现的次数： 1\n",
      "75 出现的次数： 1\n",
      "76 出现的次数： 1\n",
      "77 出现的次数： 3\n",
      "81 出现的次数： 1\n",
      "82 出现的次数： 2\n",
      "84 出现的次数： 3\n",
      "88 出现的次数： 1\n",
      "89 出现的次数： 2\n",
      "90 出现的次数： 2\n",
      "92 出现的次数： 1\n",
      "93 出现的次数： 2\n",
      "94 出现的次数： 1\n",
      "96 出现的次数： 1\n",
      "98 出现的次数： 2\n",
      "99 出现的次数： 2\n",
      "[3, 3, 3, 5, 6, 6, 6, 7, 8, 9, 10, 13, 13, 14, 15, 15, 16, 16, 16, 17, 17, 18, 20, 20, 21, 22, 24, 24, 25, 28, 28, 28, 29, 31, 32, 32, 32, 32, 36, 36, 38, 40, 40, 40, 41, 42, 42, 43, 44, 44, 45, 46, 47, 49, 51, 52, 52, 52, 56, 57, 60, 62, 63, 65, 66, 67, 69, 69, 69, 70, 71, 72, 73, 74, 75, 76, 77, 77, 77, 81, 82, 82, 84, 84, 84, 88, 89, 89, 90, 90, 92, 93, 93, 94, 96, 98, 98, 99, 99, 100]\n"
     ]
    }
   ],
   "source": [
    "#列表.sort()升序排序\n",
    "#列表.sort(reverse=True降序排序\n",
    "import random\n",
    "l = list()\n",
    "for i in range(100):\n",
    "    l.append(random.randint(1,100))\n",
    "for a in range(1,100):\n",
    "    if l.count(a) == 0:\n",
    "        pass\n",
    "    else:\n",
    "        print(a,\"出现的次数：\",l.count(a))\n",
    "l.sort()\n",
    "print(l)"
   ]
  },
  {
   "cell_type": "code",
   "execution_count": 6,
   "metadata": {},
   "outputs": [
    {
     "name": "stdout",
     "output_type": "stream",
     "text": [
      "0 --> 1\n",
      "1 --> 2\n",
      "2 --> 3\n",
      "3 --> 4\n",
      "4 --> 5\n",
      "5 --> 6\n",
      "<class 'enumerate'>\n",
      "0 1\n",
      "1 2\n",
      "2 3\n",
      "3 4\n",
      "4 5\n",
      "5 6\n"
     ]
    }
   ],
   "source": [
    "#enumerate() 函数用于将一个可遍历的数据对象(如列表、元组或字符串)组合为一个索引序列，同时列出数据和数据下标，一般用在 for 循环当中。\n",
    "'''enumerate(sequence, [start=0])\n",
    "参数\n",
    "sequence -- 一个序列、迭代器或其他支持迭代对象。\n",
    "start -- 下标起始位置。'''\n",
    "\n",
    "l = [i for i in range(1,7)]\n",
    "for k,i in enumerate(l):\n",
    "    print(k,\"-->\",i)\n",
    "#print(enumerate(l))\n",
    "print(type(enumerate(l)))\n",
    "l1=list(enumerate(l))\n",
    "for k,v in l1:\n",
    "    print(k,v)"
   ]
  },
  {
   "cell_type": "code",
   "execution_count": 1,
   "metadata": {},
   "outputs": [
    {
     "name": "stdout",
     "output_type": "stream",
     "text": [
      "请输入一个个位数3\n",
      "请输入一个个位数4\n",
      "请输入一个个位数5\n",
      "3 --> 4 --> 5\n"
     ]
    }
   ],
   "source": [
    "def s():\n",
    "    a = input(\"请输入一个个位数\")\n",
    "    b = input(\"请输入一个个位数\")\n",
    "    c = input(\"请输入一个个位数\")\n",
    "    a1 = input(\"请输入一个个位数\")\n",
    "    b1 = input(\"请输入一个个位数\")\n",
    "    c1 = input(\"请输入一个个位数\")\n",
    "    print(a,\"-->\",b,\"-->\",c,\"+\",a1,\"-->\",b1,\"-->\",c1)\n",
    "    print(a,\"-->\",b,\"-->\",c)\n",
    "    \n",
    "def \n",
    "    \n"
   ]
  }
 ],
 "metadata": {
  "kernelspec": {
   "display_name": "Python 3",
   "language": "python",
   "name": "python3"
  },
  "language_info": {
   "codemirror_mode": {
    "name": "ipython",
    "version": 3
   },
   "file_extension": ".py",
   "mimetype": "text/x-python",
   "name": "python",
   "nbconvert_exporter": "python",
   "pygments_lexer": "ipython3",
   "version": "3.7.3"
  }
 },
 "nbformat": 4,
 "nbformat_minor": 2
}
