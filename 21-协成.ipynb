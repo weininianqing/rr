{
 "cells": [
  {
   "cell_type": "markdown",
   "metadata": {},
   "source": [
    "# 协程\n",
    "- http://python.jobbole.com/86481/\n",
    "- http://python.jobbole.com/87310/\n",
    "- https://segmentfault.com/a/1190000009781688\n",
    "\n",
    "# 迭代器\n",
    "- 可迭代（Iterable）：直接作用于for循环的变量\n",
    "- 迭代器（Iterator）：不但可以作用于for循环，还可以被next调用\n",
    "- list是典型的可迭代的对象，但不是迭代器\n",
    "- 可以通过isinstance判断\n",
    "- Iterable和Iterator可以相互转换\n",
    "    - iter函数"
   ]
  },
  {
   "cell_type": "code",
   "execution_count": 5,
   "metadata": {},
   "outputs": [
    {
     "name": "stdout",
     "output_type": "stream",
     "text": [
      "0\n",
      "1\n",
      "2\n",
      "3\n",
      "4\n",
      "5\n",
      "6\n",
      "7\n",
      "8\n",
      "9\n"
     ]
    }
   ],
   "source": [
    "#可迭代\n",
    "l = [i for i in range(10)]\n",
    "\n",
    "#l是可迭代对象，range是迭代器\n",
    "for idx in l:\n",
    "    print(idx)"
   ]
  },
  {
   "cell_type": "code",
   "execution_count": 11,
   "metadata": {},
   "outputs": [
    {
     "name": "stdout",
     "output_type": "stream",
     "text": [
      "True\n",
      "False\n"
     ]
    }
   ],
   "source": [
    "from collections import Iterator\n",
    "from collections import Iterable\n",
    "\n",
    "#isinstance判断\n",
    "#判断一个变量是否是一个实例\n",
    "l1 = [i for i in range(5)]\n",
    "\n",
    "print(isinstance(l1,Iterable))\n",
    "print(isinstance(l1,Iterator))"
   ]
  },
  {
   "cell_type": "code",
   "execution_count": 14,
   "metadata": {},
   "outputs": [
    {
     "name": "stdout",
     "output_type": "stream",
     "text": [
      "True\n",
      "False\n",
      "True\n",
      "True\n"
     ]
    }
   ],
   "source": [
    "#iter函数\n",
    "s = 'wangshaophui'\n",
    "print(isinstance(s,Iterable))\n",
    "print(isinstance(s,Iterator))\n",
    "\n",
    "s_iter = iter(s)\n",
    "print(isinstance(s_iter,Iterable))\n",
    "print(isinstance(s_iter,Iterator))"
   ]
  },
  {
   "cell_type": "markdown",
   "metadata": {},
   "source": [
    "# 生成器\n",
    "- generator:一边循环一边计算下一个元素的机制/算法\n",
    "- 需要满足三个条件\n",
    "    - 每次调用都生产出for循环需要的下一个元素\n",
    "    - 如果达到最后一个，爆出StopIteration异常\n",
    "    - 可以被next函数调用\n",
    "- 如何生成一个生成器\n",
    "    - 直接使用\n",
    "    - next调用 yield返回"
   ]
  },
  {
   "cell_type": "code",
   "execution_count": 17,
   "metadata": {},
   "outputs": [
    {
     "name": "stdout",
     "output_type": "stream",
     "text": [
      "<class 'list'>\n",
      "<class 'generator'>\n"
     ]
    }
   ],
   "source": [
    "#直接使用生成器\n",
    "L = [x**2 for x in range(5)]#放在中括号里是列表生成器\n",
    "\n",
    "g = (x**2 for x in range(5))#放在小括号里就是生成器\n",
    "\n",
    "print(type(L))\n",
    "print(type(g))"
   ]
  },
  {
   "cell_type": "code",
   "execution_count": 19,
   "metadata": {},
   "outputs": [
    {
     "name": "stdout",
     "output_type": "stream",
     "text": [
      "11111\n",
      "22222\n",
      "33333\n"
     ]
    }
   ],
   "source": [
    "#函数案例\n",
    "def odd():\n",
    "    print(\"11111\")\n",
    "    print(\"22222\")\n",
    "    print(\"33333\")\n",
    "    return None\n",
    "odd()"
   ]
  },
  {
   "cell_type": "code",
   "execution_count": 27,
   "metadata": {},
   "outputs": [
    {
     "name": "stdout",
     "output_type": "stream",
     "text": [
      "11111\n",
      "1\n",
      "22222\n",
      "2\n",
      "33333\n",
      "3\n"
     ]
    }
   ],
   "source": [
    "#生成器案例\n",
    "#在函数odd里面，yield负责返回\n",
    "def odd():\n",
    "    print(\"11111\")\n",
    "    yield 1\n",
    "    print(\"22222\")\n",
    "    yield 2\n",
    "    print(\"33333\")\n",
    "    yield 3\n",
    "    \n",
    "odd = odd()\n",
    "one = next(odd)\n",
    "print(one)\n",
    "two = next(odd)\n",
    "print(two)\n",
    "three = next(odd)\n",
    "print(three)"
   ]
  },
  {
   "cell_type": "code",
   "execution_count": 33,
   "metadata": {},
   "outputs": [
    {
     "name": "stdout",
     "output_type": "stream",
     "text": [
      "1\n",
      "2\n",
      "3\n",
      "5\n"
     ]
    },
    {
     "data": {
      "text/plain": [
       "'Done'"
      ]
     },
     "execution_count": 33,
     "metadata": {},
     "output_type": "execute_result"
    }
   ],
   "source": [
    "# for循环调用生成器\n",
    "def fib(max):\n",
    "    n,a,b = 1,1,1# 斐波那契数列 n代表循环初始\n",
    "    while n<max:\n",
    "        print(b)\n",
    "        a,b = b,a+b#同时执行两个式子重点\n",
    "        \n",
    "        n += 1\n",
    "        \n",
    "    return 'Done'\n",
    "\n",
    "fib(5)"
   ]
  },
  {
   "cell_type": "code",
   "execution_count": 1,
   "metadata": {},
   "outputs": [
    {
     "name": "stdout",
     "output_type": "stream",
     "text": [
      "1\n",
      "2\n",
      "3\n",
      "5\n"
     ]
    },
    {
     "ename": "StopIteration",
     "evalue": "Done",
     "output_type": "error",
     "traceback": [
      "\u001b[1;31m---------------------------------------------------------------------------\u001b[0m",
      "\u001b[1;31mStopIteration\u001b[0m                             Traceback (most recent call last)",
      "\u001b[1;32m<ipython-input-1-4b6f1878e6ab>\u001b[0m in \u001b[0;36m<module>\u001b[1;34m\u001b[0m\n\u001b[0;32m     14\u001b[0m \u001b[1;33m\u001b[0m\u001b[0m\n\u001b[0;32m     15\u001b[0m \u001b[1;32mfor\u001b[0m \u001b[0mi\u001b[0m \u001b[1;32min\u001b[0m \u001b[0mrange\u001b[0m\u001b[1;33m(\u001b[0m\u001b[1;36m5\u001b[0m\u001b[1;33m)\u001b[0m\u001b[1;33m:\u001b[0m\u001b[1;33m\u001b[0m\u001b[1;33m\u001b[0m\u001b[0m\n\u001b[1;32m---> 16\u001b[1;33m     \u001b[0mrst\u001b[0m \u001b[1;33m=\u001b[0m \u001b[0mnext\u001b[0m\u001b[1;33m(\u001b[0m\u001b[0ma\u001b[0m\u001b[1;33m)\u001b[0m\u001b[1;33m\u001b[0m\u001b[1;33m\u001b[0m\u001b[0m\n\u001b[0m\u001b[0;32m     17\u001b[0m     \u001b[0mprint\u001b[0m\u001b[1;33m(\u001b[0m\u001b[0mrst\u001b[0m\u001b[1;33m)\u001b[0m\u001b[1;33m\u001b[0m\u001b[1;33m\u001b[0m\u001b[0m\n",
      "\u001b[1;31mStopIteration\u001b[0m: Done"
     ]
    }
   ],
   "source": [
    "# for循环调用生成器\n",
    "def fib(max):\n",
    "    n,a,b = 1,1,1# 斐波那契数列 n代表循环初始\n",
    "    while n<max:\n",
    "        \n",
    "        yield b\n",
    "        a,b = b,a+b#同时执行两个式子重点\n",
    "        \n",
    "        n += 1\n",
    "        \n",
    "    return 'Done'#需要注意，爆出异常的返回值是return的返回值\n",
    "\n",
    "a= fib(5)\n",
    "\n",
    "for i in range(5):\n",
    "    rst = next(a)\n",
    "    print(rst)"
   ]
  },
  {
   "cell_type": "code",
   "execution_count": 5,
   "metadata": {},
   "outputs": [
    {
     "name": "stdout",
     "output_type": "stream",
     "text": [
      "1\n",
      "2\n",
      "3\n",
      "5\n",
      "8\n",
      "13\n",
      "21\n",
      "34\n",
      "55\n"
     ]
    }
   ],
   "source": [
    "ge = fib(10)#生成生成器\n",
    "#生成器的典型就是在for循环里使用，常用的就是range\n",
    "for i in ge:\n",
    "    print(i)"
   ]
  },
  {
   "cell_type": "markdown",
   "metadata": {},
   "source": [
    "# 协程\n",
    "- 定义：协程是为了非抢占式多任务产生子程序的计算机程序组件，协程允许不同入口点在不同位置暂停或开始执行程序\n",
    "- 从技术角度讲，协程就是一个你可以暂停执行的函数，或者直接理解成生成器\n",
    "- 协程的实现：\n",
    "    - yield返回\n",
    "    - send调用\n",
    "- 协程的四个状态\n",
    "    - inspect.getgeneratorstate(.....)，函数确定，该函数会返回下列字符串中的一个\n",
    "    - GEN_CREATED:等待开始执行\n",
    "    - CEN_RUNNING:解释器正在执行、\n",
    "    - CEN_SUSPENED:在yield表达式处暂停\n",
    "    - CEN_CLOSED:执行结束\n",
    "    - next预激\n",
    "    - 案例v2\n",
    "- 协程终止\n",
    "    - 协程中未处理的异常会向上冒泡，传给next函数或send方法的调用方（即触发协程的对象）\n",
    "    - 终止协程的一种方式：发送某个哨符值，让协程退出。内置的None 和Ellipsis等常量经常用作哨符值==\n",
    "    \n",
    "- yield from\n",
    "    - 调用协程为了得到返回值，协程必须正常终止\n",
    "    - 生成器正常终止会发出StopIteration异常，异常对象vlaue属性保存返回值\n",
    "    - yield from 从内部捕获StopIteration异常\n",
    "    - 案例v03\n",
    "    - 委派生成器\n",
    "        - 包含yield from表达式的生成器函数\n",
    "        - 委派生成器在yield from表达式出暂停，调用方可以直接把数据发给子生成器\n",
    "        - 子生成器再把产出的值发给调用方\n",
    "        - 字生成器在最后，解释器会抛出StopIteration异常，并把返回值附加到异常对象上\n",
    "        - 案例v04"
   ]
  },
  {
   "cell_type": "code",
   "execution_count": 8,
   "metadata": {},
   "outputs": [
    {
     "name": "stdout",
     "output_type": "stream",
     "text": [
      "11111\n",
      "hahhah--->\n",
      "222222\n",
      "heheheh--> wocso\n"
     ]
    },
    {
     "ename": "StopIteration",
     "evalue": "",
     "output_type": "error",
     "traceback": [
      "\u001b[1;31m---------------------------------------------------------------------------\u001b[0m",
      "\u001b[1;31mStopIteration\u001b[0m                             Traceback (most recent call last)",
      "\u001b[1;32m<ipython-input-8-00d0d6a7743d>\u001b[0m in \u001b[0;36m<module>\u001b[1;34m\u001b[0m\n\u001b[0;32m      9\u001b[0m \u001b[0mnext\u001b[0m\u001b[1;33m(\u001b[0m\u001b[0ms\u001b[0m\u001b[1;33m)\u001b[0m\u001b[1;31m#预激\u001b[0m\u001b[1;33m\u001b[0m\u001b[1;33m\u001b[0m\u001b[0m\n\u001b[0;32m     10\u001b[0m \u001b[0mprint\u001b[0m\u001b[1;33m(\u001b[0m\u001b[1;36m222222\u001b[0m\u001b[1;33m)\u001b[0m\u001b[1;33m\u001b[0m\u001b[1;33m\u001b[0m\u001b[0m\n\u001b[1;32m---> 11\u001b[1;33m \u001b[0ms\u001b[0m\u001b[1;33m.\u001b[0m\u001b[0msend\u001b[0m\u001b[1;33m(\u001b[0m\u001b[1;34m\"wocso\"\u001b[0m\u001b[1;33m)\u001b[0m\u001b[1;33m\u001b[0m\u001b[1;33m\u001b[0m\u001b[0m\n\u001b[0m",
      "\u001b[1;31mStopIteration\u001b[0m: "
     ]
    }
   ],
   "source": [
    "#协程打吗案例1\n",
    "def sm():\n",
    "    print(\"hahhah--->\")\n",
    "    x = yield\n",
    "    print(\"heheheh-->\",x)\n",
    "\n",
    "s = sm()\n",
    "print(11111)\n",
    "next(s)#预激\n",
    "print(222222)\n",
    "s.send(\"wocso\")"
   ]
  },
  {
   "cell_type": "code",
   "execution_count": 12,
   "metadata": {},
   "outputs": [
    {
     "name": "stdout",
     "output_type": "stream",
     "text": [
      "woaininini---->\n",
      "5\n",
      "hahahahh----> 5 6\n",
      "11\n",
      "hehehheh---> 5 6 7\n"
     ]
    },
    {
     "ename": "StopIteration",
     "evalue": "",
     "output_type": "error",
     "traceback": [
      "\u001b[1;31m---------------------------------------------------------------------------\u001b[0m",
      "\u001b[1;31mStopIteration\u001b[0m                             Traceback (most recent call last)",
      "\u001b[1;32m<ipython-input-12-f0c04a01225f>\u001b[0m in \u001b[0;36m<module>\u001b[1;34m\u001b[0m\n\u001b[0;32m     18\u001b[0m \u001b[0mprint\u001b[0m\u001b[1;33m(\u001b[0m\u001b[0mbb\u001b[0m\u001b[1;33m)\u001b[0m\u001b[1;33m\u001b[0m\u001b[1;33m\u001b[0m\u001b[0m\n\u001b[0;32m     19\u001b[0m \u001b[1;33m\u001b[0m\u001b[0m\n\u001b[1;32m---> 20\u001b[1;33m \u001b[0mcc\u001b[0m \u001b[1;33m=\u001b[0m \u001b[0ms\u001b[0m\u001b[1;33m.\u001b[0m\u001b[0msend\u001b[0m\u001b[1;33m(\u001b[0m\u001b[1;36m7\u001b[0m\u001b[1;33m)\u001b[0m\u001b[1;33m\u001b[0m\u001b[1;33m\u001b[0m\u001b[0m\n\u001b[0m\u001b[0;32m     21\u001b[0m \u001b[0mprint\u001b[0m\u001b[1;33m(\u001b[0m\u001b[0mcc\u001b[0m\u001b[1;33m)\u001b[0m\u001b[1;33m\u001b[0m\u001b[1;33m\u001b[0m\u001b[0m\n\u001b[0;32m     22\u001b[0m \u001b[1;33m\u001b[0m\u001b[0m\n",
      "\u001b[1;31mStopIteration\u001b[0m: "
     ]
    }
   ],
   "source": [
    "#案例v2 ，协程的状态\n",
    "def smm(a):\n",
    "    print(\"woaininini---->\")\n",
    "    \n",
    "    b = yield a\n",
    "    print(\"hahahahh---->\",a,b)\n",
    "    \n",
    "    c = yield a+b\n",
    "    print(\"hehehheh--->\",a,b,c)\n",
    "    \n",
    "    #yield a+b+c\n",
    "s = smm(5)\n",
    "\n",
    "aa = next(s)\n",
    "print(aa)\n",
    "\n",
    "bb = s.send(6)\n",
    "print(bb)\n",
    "\n",
    "cc = s.send(7)\n",
    "print(cc)\n",
    "    "
   ]
  },
  {
   "cell_type": "code",
   "execution_count": 14,
   "metadata": {},
   "outputs": [
    {
     "name": "stdout",
     "output_type": "stream",
     "text": [
      "['A', 'B']\n",
      "['A', 'B']\n"
     ]
    }
   ],
   "source": [
    "#案例v03\n",
    "def gen():\n",
    "    for c in 'AB':\n",
    "        yield c\n",
    "#list直接用生成器作为参数\n",
    "print(list(gen()))\n",
    "\n",
    "def gen_new():\n",
    "    yield from 'AB'\n",
    "    \n",
    "print(list(gen_new()))"
   ]
  },
  {
   "cell_type": "code",
   "execution_count": 17,
   "metadata": {},
   "outputs": [
    {
     "name": "stdout",
     "output_type": "stream",
     "text": [
      "{'boys1': Res(co=8, av=35.2375), 'boys2': Res(co=8, av=36.675)}\n"
     ]
    }
   ],
   "source": [
    "#案例v04 委派生成器\n",
    "from collections import namedtuple\n",
    "\n",
    "\n",
    "ResClass = namedtuple('Res','co av')\n",
    "\n",
    "#子生成器\n",
    "def ave():\n",
    "    to = 0.0\n",
    "    co = 0\n",
    "    av = None\n",
    "    \n",
    "    while True:\n",
    "        trem = yield\n",
    "        #None就是哨符值\n",
    "        if trem is None:\n",
    "            break\n",
    "        to += trem\n",
    "        co += 1 \n",
    "        av = to / co\n",
    "        \n",
    "    return ResClass(co,av)\n",
    "\n",
    "# 委派生成器\n",
    "\n",
    "def gro(sto,key):\n",
    "    while True:\n",
    "        #获取ave()返回的值\n",
    "        sto[key] = yield from ave()\n",
    "        \n",
    "#客户端代码 \n",
    "def cil():\n",
    "    pro_da={'boys1':[36.3,38.7,32.1,36.6,30.0,35.5,35.8,36.9],'boys2':[33.5,40.1,25.7,41.2,38.8,39.6,38.5,36.0]}\n",
    "    sto = {}\n",
    "    for k,v in pro_da.items():\n",
    "        #获得协程\n",
    "        corut = gro(sto,k)\n",
    "        \n",
    "        #预激协程\n",
    "        next(corut)\n",
    "        \n",
    "        #发送数据到协程\n",
    "        for dt in v:\n",
    "            corut.send(dt)\n",
    "        \n",
    "        #终止协程\n",
    "        corut.send(None)\n",
    "    print(sto)\n",
    "    \n",
    "#run\n",
    "cil()"
   ]
  }
 ],
 "metadata": {
  "kernelspec": {
   "display_name": "Python 3",
   "language": "python",
   "name": "python3"
  },
  "language_info": {
   "codemirror_mode": {
    "name": "ipython",
    "version": 3
   },
   "file_extension": ".py",
   "mimetype": "text/x-python",
   "name": "python",
   "nbconvert_exporter": "python",
   "pygments_lexer": "ipython3",
   "version": "3.7.3"
  }
 },
 "nbformat": 4,
 "nbformat_minor": 2
}
