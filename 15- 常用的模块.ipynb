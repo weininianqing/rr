{
 "cells": [
  {
   "cell_type": "markdown",
   "metadata": {},
   "source": [
    "# 常用模块\n",
    "- calendar\n",
    "- time\n",
    "- datetime\n",
    "- timeit\n",
    "- os\n",
    "- shutil\n",
    "- zip\n",
    "- math\n",
    "- string\n",
    "- 上述模块使用理论上先导入，string是特例\n",
    "- calendar，time，datetime区别参考中文意思"
   ]
  },
  {
   "cell_type": "markdown",
   "metadata": {},
   "source": [
    "# calendar\n",
    "- 跟日历相关的模块"
   ]
  },
  {
   "cell_type": "code",
   "execution_count": null,
   "metadata": {},
   "outputs": [],
   "source": [
    "#使用前先导入\n",
    "import calendar\n"
   ]
  },
  {
   "cell_type": "code",
   "execution_count": 24,
   "metadata": {},
   "outputs": [
    {
     "name": "stdout",
     "output_type": "stream",
     "text": [
      "                                  2019\n",
      "\n",
      "      January                   February                   March\n",
      "Mo Tu We Th Fr Sa Su      Mo Tu We Th Fr Sa Su      Mo Tu We Th Fr Sa Su\n",
      "    1  2  3  4  5  6                   1  2  3                   1  2  3\n",
      " 7  8  9 10 11 12 13       4  5  6  7  8  9 10       4  5  6  7  8  9 10\n",
      "14 15 16 17 18 19 20      11 12 13 14 15 16 17      11 12 13 14 15 16 17\n",
      "21 22 23 24 25 26 27      18 19 20 21 22 23 24      18 19 20 21 22 23 24\n",
      "28 29 30 31               25 26 27 28               25 26 27 28 29 30 31\n",
      "\n",
      "       April                      May                       June\n",
      "Mo Tu We Th Fr Sa Su      Mo Tu We Th Fr Sa Su      Mo Tu We Th Fr Sa Su\n",
      " 1  2  3  4  5  6  7             1  2  3  4  5                      1  2\n",
      " 8  9 10 11 12 13 14       6  7  8  9 10 11 12       3  4  5  6  7  8  9\n",
      "15 16 17 18 19 20 21      13 14 15 16 17 18 19      10 11 12 13 14 15 16\n",
      "22 23 24 25 26 27 28      20 21 22 23 24 25 26      17 18 19 20 21 22 23\n",
      "29 30                     27 28 29 30 31            24 25 26 27 28 29 30\n",
      "\n",
      "        July                     August                  September\n",
      "Mo Tu We Th Fr Sa Su      Mo Tu We Th Fr Sa Su      Mo Tu We Th Fr Sa Su\n",
      " 1  2  3  4  5  6  7                1  2  3  4                         1\n",
      " 8  9 10 11 12 13 14       5  6  7  8  9 10 11       2  3  4  5  6  7  8\n",
      "15 16 17 18 19 20 21      12 13 14 15 16 17 18       9 10 11 12 13 14 15\n",
      "22 23 24 25 26 27 28      19 20 21 22 23 24 25      16 17 18 19 20 21 22\n",
      "29 30 31                  26 27 28 29 30 31         23 24 25 26 27 28 29\n",
      "                                                    30\n",
      "\n",
      "      October                   November                  December\n",
      "Mo Tu We Th Fr Sa Su      Mo Tu We Th Fr Sa Su      Mo Tu We Th Fr Sa Su\n",
      "    1  2  3  4  5  6                   1  2  3                         1\n",
      " 7  8  9 10 11 12 13       4  5  6  7  8  9 10       2  3  4  5  6  7  8\n",
      "14 15 16 17 18 19 20      11 12 13 14 15 16 17       9 10 11 12 13 14 15\n",
      "21 22 23 24 25 26 27      18 19 20 21 22 23 24      16 17 18 19 20 21 22\n",
      "28 29 30 31               25 26 27 28 29 30         23 24 25 26 27 28 29\n",
      "                                                    30 31\n",
      "\n"
     ]
    }
   ],
   "source": [
    "# calendar:获取一年的日历字符串\n",
    "#参数\n",
    "#w =每个日期之间的间隔字符串\n",
    "#l = 每周占用的行数\n",
    "# c=每个月之间的间隔字符数\n",
    "cal = calendar.calendar(2019)\n",
    "print(cal)"
   ]
  },
  {
   "cell_type": "code",
   "execution_count": 28,
   "metadata": {},
   "outputs": [
    {
     "name": "stdout",
     "output_type": "stream",
     "text": [
      "True\n"
     ]
    }
   ],
   "source": [
    "#isleap:判断某一年是否闰年\n",
    "c = calendar.isleap(2004)\n",
    "print(c)"
   ]
  },
  {
   "cell_type": "code",
   "execution_count": 31,
   "metadata": {},
   "outputs": [
    {
     "name": "stdout",
     "output_type": "stream",
     "text": [
      "50\n"
     ]
    }
   ],
   "source": [
    "#leapdays：获取指定年份之间闰年的个数\n",
    "a = calendar.leapdays(2000,2205)#年份范围包含左边不包含右边\n",
    "print(a)"
   ]
  },
  {
   "cell_type": "code",
   "execution_count": 33,
   "metadata": {},
   "outputs": [
    {
     "name": "stdout",
     "output_type": "stream",
     "text": [
      "     June 2019\n",
      "Mo Tu We Th Fr Sa Su\n",
      "                1  2\n",
      " 3  4  5  6  7  8  9\n",
      "10 11 12 13 14 15 16\n",
      "17 18 19 20 21 22 23\n",
      "24 25 26 27 28 29 30\n",
      "\n"
     ]
    }
   ],
   "source": [
    "# month():获取某年某个月的日历字符串\n",
    "#格式：calendar.month(年，月)\n",
    "#返回值：月日历的字符串\n",
    "print(calendar.month(2019,6))"
   ]
  },
  {
   "cell_type": "code",
   "execution_count": 5,
   "metadata": {},
   "outputs": [
    {
     "name": "stdout",
     "output_type": "stream",
     "text": [
      "3 31\n",
      "(3, 31)\n"
     ]
    }
   ],
   "source": [
    "#monthrange()：一个月从周几开始和这个月的天数\n",
    "#格式：calendar.monthrange(年,月)\n",
    "#回值：元组（周几开始，天数）\n",
    "#注意：周默认是0-6 表示周一到周天\n",
    "import calendar\n",
    "a,b = calendar.monthrange(2019,8)\n",
    "print(a,b)\n",
    "print(calendar.monthrange(2019,8))"
   ]
  },
  {
   "cell_type": "code",
   "execution_count": 37,
   "metadata": {},
   "outputs": [
    {
     "name": "stdout",
     "output_type": "stream",
     "text": [
      "[[0, 0, 0, 0, 0, 1, 2], [3, 4, 5, 6, 7, 8, 9], [10, 11, 12, 13, 14, 15, 16], [17, 18, 19, 20, 21, 22, 23], [24, 25, 26, 27, 28, 29, 30]]\n"
     ]
    }
   ],
   "source": [
    "#monthcalendar:返回一个月每天的矩阵列表\n",
    "#格式：calendar.monthcalendar(年，月)\n",
    "#回值：二级列表\n",
    "#注意：矩阵中没有的天数用0表示\n",
    "print(calendar.monthcalendar(2019,6))"
   ]
  },
  {
   "cell_type": "code",
   "execution_count": 47,
   "metadata": {},
   "outputs": [],
   "source": [
    "#prcal:print calendar直接打印出日历\n",
    "#calendar.prcal(2019,m=5)#m表示的列数，这里表示每行五列即五个月\n",
    "#help(calendar.prcal)"
   ]
  },
  {
   "cell_type": "code",
   "execution_count": 48,
   "metadata": {},
   "outputs": [
    {
     "data": {
      "text/plain": [
       "5"
      ]
     },
     "execution_count": 48,
     "metadata": {},
     "output_type": "execute_result"
    }
   ],
   "source": [
    "#weekday（）:获取周几\n",
    "#格式：calendar.weekday(年，月，日)\n",
    "#返回值：周几对应的数字\n",
    "calendar.weekday(2019,6,1)"
   ]
  },
  {
   "cell_type": "markdown",
   "metadata": {},
   "source": [
    "# time 模块\n",
    "### 时间戳\n",
    "    - 一个时间表示，根据不同的语言，他可以是浮点数或整数\n",
    "    - 是从1970年1月1日0时0分0秒到现在经历的秒数\n",
    "    - 如果表示得到时间是1970年以前或者太遥远的未来，可能出现异常\n",
    "    - 32位操作系统能够支持到2038年\n",
    "    \n",
    "### utc时间\n",
    "    - utc又称为世界协调时间，以英国的格林尼治天文所在的地区的时间作为参考时间，也叫世界标准时间\n",
    "    - 中国时间 utc- 8 东八区\n",
    "    \n",
    "### 夏令时\n",
    "    - 夏令时就是在夏天的时候将时间调快一个小时，本意督促大家早睡早起节省蜡烛！每天变成25个小时，本质没变还是24个小时\n",
    "    \n",
    "### 时间元组\n",
    "    - 一个包含时间的普通元组\n",
    "    \n",
    "    \n",
    "    索引               内容       属性      值\n",
    "    0                 年        tm_year    2015\n",
    "    1                 月        tm_mon     1-12\n",
    "    2                 日        tm_mday    1-31\n",
    "    3                 时        tm_hour    0-23\n",
    "    4                 分        tm_min     0-60\n",
    "    5                 秒        tm_sec     0-61 60表示闰秒 61保留只\n",
    "    6                 周几       tm_wday    0-6\n",
    "    7                 第几天     tm_yday    1-366\n",
    "    8                 夏令时     tm_isdst   0,1,-1(表示夏令时)"
   ]
  },
  {
   "cell_type": "code",
   "execution_count": 7,
   "metadata": {},
   "outputs": [],
   "source": [
    "import time\n",
    "#需要单独导入"
   ]
  },
  {
   "cell_type": "code",
   "execution_count": 8,
   "metadata": {},
   "outputs": [
    {
     "name": "stdout",
     "output_type": "stream",
     "text": [
      "-32400\n",
      "-28800\n",
      "0\n"
     ]
    }
   ],
   "source": [
    "#时间模块的属性\n",
    "#timezone: 当前时区和utc时间相差的秒数，在没有夏令时的情况下的间隔\n",
    "#altzone:有夏令时的情况\n",
    "#daylight:测当前是否是夏令时间状态，0表示是\n",
    "print(time.altzone)\n",
    "print(time.timezone)\n",
    "print(time.daylight)"
   ]
  },
  {
   "cell_type": "code",
   "execution_count": 64,
   "metadata": {},
   "outputs": [
    {
     "data": {
      "text/plain": [
       "1558857277.2198677"
      ]
     },
     "execution_count": 64,
     "metadata": {},
     "output_type": "execute_result"
    }
   ],
   "source": [
    "#得到时间戳\n",
    "time.time()\n"
   ]
  },
  {
   "cell_type": "code",
   "execution_count": 132,
   "metadata": {},
   "outputs": [
    {
     "name": "stdout",
     "output_type": "stream",
     "text": [
      "time.struct_time(tm_year=2019, tm_mon=5, tm_mday=26, tm_hour=21, tm_min=22, tm_sec=32, tm_wday=6, tm_yday=146, tm_isdst=0)\n",
      "2019\n"
     ]
    }
   ],
   "source": [
    "# localtime,得到当前的时间结构\n",
    "#可以通过点操作符得到相应的时间属性元素的内容\n",
    "t = time.localtime()\n",
    "print(t)\n",
    "print(t.tm_year)"
   ]
  },
  {
   "cell_type": "code",
   "execution_count": 71,
   "metadata": {},
   "outputs": [
    {
     "name": "stdout",
     "output_type": "stream",
     "text": [
      "<class 'str'>\n",
      "Sun May 26 16:03:54 2019\n"
     ]
    }
   ],
   "source": [
    "#asctime()返回元组的正常字符串之后的时间格式\n",
    "#格式：time.asctime(时间元组)\n",
    "#返回值：字符串 Tue jun 6 11:11:00  2017 周几 月  几号 时分秒 年\n",
    "print(type(time.asctime()))\n",
    "print(time.asctime())"
   ]
  },
  {
   "cell_type": "code",
   "execution_count": 73,
   "metadata": {},
   "outputs": [
    {
     "name": "stdout",
     "output_type": "stream",
     "text": [
      "<class 'str'>\n",
      "Sun May 26 16:04:41 2019\n"
     ]
    }
   ],
   "source": [
    "#ctime:获取字符串化的当前时间\n",
    "t = time.ctime()\n",
    "print(type(t))\n",
    "print(t)"
   ]
  },
  {
   "cell_type": "code",
   "execution_count": 76,
   "metadata": {},
   "outputs": [
    {
     "name": "stdout",
     "output_type": "stream",
     "text": [
      "1558858094.0\n"
     ]
    }
   ],
   "source": [
    "#mktime()使用时间元组获取对应的时间戳\n",
    "#格式：time.mktime(时间元组)\n",
    "#返回值：浮点数时间戳\n",
    "lt = time.localtime()\n",
    "ts = time.mktime(lt)\n",
    "print(ts)"
   ]
  },
  {
   "cell_type": "code",
   "execution_count": 78,
   "metadata": {},
   "outputs": [
    {
     "name": "stdout",
     "output_type": "stream",
     "text": [
      "<built-in function clock>\n"
     ]
    }
   ],
   "source": [
    "#clock :获取cpu时间，3.0-3.3版本直接使用，3.6调用有问题\n",
    "print(time.clock)"
   ]
  },
  {
   "cell_type": "code",
   "execution_count": 80,
   "metadata": {},
   "outputs": [
    {
     "name": "stdout",
     "output_type": "stream",
     "text": [
      "1\n",
      "2\n",
      "3\n",
      "4\n",
      "5\n",
      "6\n",
      "7\n",
      "8\n",
      "9\n"
     ]
    }
   ],
   "source": [
    "#sleep：是程序进入睡眠，n秒后继续\n",
    "for i in range(1,10):\n",
    "    print(i)\n",
    "    time.sleep(1)"
   ]
  },
  {
   "cell_type": "code",
   "execution_count": 12,
   "metadata": {},
   "outputs": [
    {
     "name": "stdout",
     "output_type": "stream",
     "text": [
      "<class 'float'>\n",
      "-1.0\n"
     ]
    }
   ],
   "source": [
    "def p():\n",
    "    time.sleep(5)\n",
    "    \n",
    "t0 = time.process_time()+1\n",
    "print(type(t0))\n",
    "p()\n",
    "t1 = time.process_time()\n",
    "print(t1 - t0)\n",
    "#在python 3.3中，time.clock已被弃用，将从python 3.8中删除：改用time.perf_counter或time.process_time"
   ]
  },
  {
   "cell_type": "markdown",
   "metadata": {},
   "source": [
    "## strftime：将时间格式转化为自定义的字符串格式\n",
    "\n",
    "    %y 两位数的年份表示（00-99）\n",
    "    %Y 四位数的年份表示（000-9999）\n",
    "    %m 月份（01-12）\n",
    "    %d 月内中的一天（0-31）\n",
    "    %H 24小时制小时数（0-23）\n",
    "    %I 12小时制小时数（01-12）\n",
    "    %M 分钟数（00=59）\n",
    "    %S 秒（00-59）\n",
    "    %a 本地简化星期名称\n",
    "    %A 本地完整星期名称\n",
    "    %b 本地简化的月份名称\n",
    "    %B 本地完整的月份名称\n",
    "    %c 本地相应的日期表示和时间表示\n",
    "    %j 年内的一天（001-366）\n",
    "    %p 本地A.M.或P.M.的等价符\n",
    "    %U 一年中的星期数（00-53）星期天为星期的开始\n",
    "    %w 星期（0-6），星期天为星期的开始\n",
    "    %W 一年中的星期数（00-53）星期一为星期的开始\n",
    "    %x 本地相应的日期表示\n",
    "    %X 本地相应的时间表示\n",
    "    %Z 当前时区的名称\n",
    "    %% %号本身"
   ]
  },
  {
   "cell_type": "code",
   "execution_count": 96,
   "metadata": {},
   "outputs": [
    {
     "ename": "UnicodeEncodeError",
     "evalue": "'locale' codec can't encode character '\\u5e74' in position 2: encoding error",
     "output_type": "error",
     "traceback": [
      "\u001b[1;31m---------------------------------------------------------------------------\u001b[0m",
      "\u001b[1;31mUnicodeEncodeError\u001b[0m                        Traceback (most recent call last)",
      "\u001b[1;32m<ipython-input-96-4a856895b6b5>\u001b[0m in \u001b[0;36m<module>\u001b[1;34m\u001b[0m\n\u001b[0;32m      1\u001b[0m \u001b[1;31m# 把时间表示成年月日时分秒\u001b[0m\u001b[1;33m\u001b[0m\u001b[1;33m\u001b[0m\u001b[1;33m\u001b[0m\u001b[0m\n\u001b[0;32m      2\u001b[0m \u001b[0mt\u001b[0m \u001b[1;33m=\u001b[0m \u001b[0mtime\u001b[0m\u001b[1;33m.\u001b[0m\u001b[0mlocaltime\u001b[0m\u001b[1;33m(\u001b[0m\u001b[1;33m)\u001b[0m\u001b[1;33m\u001b[0m\u001b[1;33m\u001b[0m\u001b[0m\n\u001b[1;32m----> 3\u001b[1;33m \u001b[0mft\u001b[0m \u001b[1;33m=\u001b[0m \u001b[0mtime\u001b[0m\u001b[1;33m.\u001b[0m\u001b[0mstrftime\u001b[0m\u001b[1;33m(\u001b[0m\u001b[1;34m\"%Y年\"\u001b[0m\u001b[1;33m,\u001b[0m\u001b[0mt\u001b[0m\u001b[1;33m)\u001b[0m\u001b[1;33m\u001b[0m\u001b[1;33m\u001b[0m\u001b[0m\n\u001b[0m\u001b[0;32m      4\u001b[0m \u001b[0mprint\u001b[0m\u001b[1;33m(\u001b[0m\u001b[0mft\u001b[0m\u001b[1;33m)\u001b[0m\u001b[1;33m\u001b[0m\u001b[1;33m\u001b[0m\u001b[0m\n",
      "\u001b[1;31mUnicodeEncodeError\u001b[0m: 'locale' codec can't encode character '\\u5e74' in position 2: encoding error"
     ]
    }
   ],
   "source": [
    "# 把时间表示成年月日时分秒\n",
    "t = time.localtime()\n",
    "ft = time.strftime(\"%Y年\",t)\n",
    "print(ft)"
   ]
  },
  {
   "cell_type": "markdown",
   "metadata": {},
   "source": [
    "# datetime模块\n",
    "- datetime提供日期和时间的运算和表示"
   ]
  },
  {
   "cell_type": "code",
   "execution_count": 97,
   "metadata": {},
   "outputs": [],
   "source": [
    "import datetime\n"
   ]
  },
  {
   "cell_type": "code",
   "execution_count": 102,
   "metadata": {},
   "outputs": [
    {
     "name": "stdout",
     "output_type": "stream",
     "text": [
      "2019-05-26\n",
      "2019\n",
      "5\n",
      "26\n"
     ]
    }
   ],
   "source": [
    "#datetime 常见的属性\n",
    "#datetime.date :一个理想和日期，提供year，month ，day属性\n",
    "dt = datetime.date(2019,5,26)\n",
    "print(dt)\n",
    "print(dt.year)\n",
    "print(dt.month)\n",
    "print(dt.day)\n",
    "\n",
    "# datetime.time提供一个理想和的时间，具有hour，mintu，microsec得内容\n",
    "#datetime.datetime:提供日期时间的组合\n",
    "#datetime.timedelta:提供一个时间差，时间长度\n"
   ]
  },
  {
   "cell_type": "code",
   "execution_count": 4,
   "metadata": {
    "scrolled": true
   },
   "outputs": [
    {
     "name": "stdout",
     "output_type": "stream",
     "text": [
      "2018-05-21 00:00:00\n",
      "2019-05-27 17:00:43.344494\n",
      "2019-05-27 17:00:43.344493\n",
      "2019-05-27 17:00:43.344494\n"
     ]
    }
   ],
   "source": [
    "#datetime.detatime\n",
    "from datetime import datetime\n",
    "#常用类方法\n",
    "#today：\n",
    "#now：\n",
    "#utcnow\n",
    "#fromtimestamp：从时间戳中返回本地时间\n",
    "dt = datetime(2018,5,21)\n",
    "print(dt)\n",
    "print(dt.today())\n",
    "print(dt.now())\n",
    "import time\n",
    "print(dt.fromtimestamp(time.time()))"
   ]
  },
  {
   "cell_type": "code",
   "execution_count": 21,
   "metadata": {},
   "outputs": [
    {
     "name": "stdout",
     "output_type": "stream",
     "text": [
      "2019-07-21 14:32:47\n",
      "2019-07-21 15:33:48\n"
     ]
    }
   ],
   "source": [
    "#datetime.timedelta\n",
    "#表示一个时间间隔\n",
    "from datetime import datetime,timedelta\n",
    "\n",
    "#得到的当前时间\n",
    "t1 = datetime.now()\n",
    "print(t1.strftime(\"%Y-%m-%d %H:%M:%S\"))\n",
    "\n",
    "#时间间隔为一个小时，td表示以小时的时间长度\n",
    "td = timedelta(hours=1,minutes=1,seconds=1)\n",
    "print((t1+td).strftime(\"%Y-%m-%d %H:%M:%S\"))"
   ]
  },
  {
   "cell_type": "code",
   "execution_count": 22,
   "metadata": {},
   "outputs": [
    {
     "name": "stdout",
     "output_type": "stream",
     "text": [
      "2.0000710487365723\n",
      "Help on function timeit in module timeit:\n",
      "\n",
      "timeit(stmt='pass', setup='pass', timer=<built-in function perf_counter>, number=1000000, globals=None)\n",
      "    Convenience function to create Timer object and call timeit method.\n",
      "\n"
     ]
    }
   ],
   "source": [
    "# timeit-时间测量工具\n",
    "def s():\n",
    "    time.sleep(2)\n",
    "t1 = time.time()\n",
    "s()\n",
    "print(time.time()-t1)\n",
    "import timeit\n",
    "help(timeit.timeit)"
   ]
  },
  {
   "cell_type": "code",
   "execution_count": 27,
   "metadata": {},
   "outputs": [
    {
     "name": "stdout",
     "output_type": "stream",
     "text": [
      "3.0801992130000144\n",
      "6.294835795000381\n"
     ]
    }
   ],
   "source": [
    "#生成列表的两种方法\n",
    "#如果单纯生成一个列表的时间，可能很难实现\n",
    "import timeit\n",
    "c = '''\n",
    "sum = []\n",
    "for i in range(1000):\n",
    "    sum.append(i)\n",
    "\n",
    "'''\n",
    "#利用timeit调用代码，执行100000次，查看运行时间\n",
    "# 这里列表的生成方法 在timeit里面调用时执行字符串内容，这时就不是字符串了 就成了一个列表生成式了\n",
    "\n",
    "t= timeit.timeit(stmt= \"[i for i in range(1000)]\",number = 100000)\n",
    "\n",
    "#测量代码c执行100000次的运行结果\n",
    "\n",
    "t1 = timeit.timeit(stmt= c,number=100000)\n",
    "\n",
    "print(t)\n",
    "print(t1)"
   ]
  },
  {
   "cell_type": "code",
   "execution_count": 34,
   "metadata": {},
   "outputs": [
    {
     "name": "stdout",
     "output_type": "stream",
     "text": [
      "结果：0\n",
      "结果：1\n",
      "结果：2\n",
      "结果：0\n",
      "结果：1\n",
      "结果：2\n",
      "结果：0\n",
      "结果：1\n",
      "结果：2\n",
      "结果：0\n",
      "结果：1\n",
      "结果：2\n",
      "结果：0\n",
      "结果：1\n",
      "结果：2\n",
      "结果：0\n",
      "结果：1\n",
      "结果：2\n",
      "结果：0\n",
      "结果：1\n",
      "结果：2\n",
      "结果：0\n",
      "结果：1\n",
      "结果：2\n",
      "结果：0\n",
      "结果：1\n",
      "结果：2\n",
      "结果：0\n",
      "结果：1\n",
      "结果：2\n",
      "0.000999567999770079\n"
     ]
    }
   ],
   "source": [
    "#timeit 可以执行一个函数，来测量一个函数的执行时间\n",
    "import timeit\n",
    "def d():\n",
    "    num= 3\n",
    "    for i in range(num):\n",
    "        print(\"结果：{0}\".format(i))\n",
    "#执行函数，重复10次        \n",
    "t2 = timeit.timeit(stmt=d,number=10)\n",
    "print(t2)"
   ]
  },
  {
   "cell_type": "code",
   "execution_count": 131,
   "metadata": {},
   "outputs": [
    {
     "name": "stdout",
     "output_type": "stream",
     "text": [
      "结果：0\n",
      "结果：1\n",
      "结果：2\n",
      "结果：0\n",
      "结果：1\n",
      "结果：2\n",
      "结果：0\n",
      "结果：1\n",
      "结果：2\n",
      "结果：0\n",
      "结果：1\n",
      "结果：2\n",
      "结果：0\n",
      "结果：1\n",
      "结果：2\n",
      "结果：0\n",
      "结果：1\n",
      "结果：2\n",
      "结果：0\n",
      "结果：1\n",
      "结果：2\n",
      "结果：0\n",
      "结果：1\n",
      "结果：2\n",
      "结果：0\n",
      "结果：1\n",
      "结果：2\n",
      "结果：0\n",
      "结果：1\n",
      "结果：2\n",
      "0.0008522379976056982\n"
     ]
    }
   ],
   "source": [
    "s= '''\n",
    "def d(num):\n",
    "    for i in range(num):\n",
    "        print(\"结果：{0}\".format(i))\n",
    "      \n",
    "\n",
    "'''\n",
    "\n",
    "#执行d（num）\n",
    "#setup负责把环境变量准备好\n",
    "#实际相当于给timeit创造了一个小环境\n",
    "#再创造小环境中，代码执行顺序是\n",
    "#先找到这个函数然后给函数赋值之后调用10回这个函数\n",
    "t = timeit.timeit(\"d(num)\",setup=s+\"num=3\",number=10)\n",
    "print(t)\n"
   ]
  },
  {
   "cell_type": "markdown",
   "metadata": {},
   "source": [
    "#  datetime.datetime 模块\n",
    "- 提供比较好用的时间而已\n",
    "- 类定义\n",
    "    class datetime.datetime(year,month,day[,hour\n",
    "    [,month\n",
    "    [,second\n",
    "    [,micrsecond\n",
    "    [,tzinfo]]]]])"
   ]
  },
  {
   "cell_type": "markdown",
   "metadata": {},
   "source": [
    "# os-操作系统相关\n",
    "- 跟操作系统相关，主要是文件操作\n",
    "- 与操作系统相关，主要包含在三个模块里\n",
    "    - os，操作系统目录相关\n",
    "    - os.path系统路径相关操作\n",
    "    - shutil，高级文件操作，目录树的操作，文件赋值，删除，移动\n",
    "- 路径\n",
    "    - 绝对路径：总是从跟目录上开始\n",
    "    - 相对路径：基本上以当前环境为开始的一个相对的地方"
   ]
  },
  {
   "cell_type": "markdown",
   "metadata": {},
   "source": [
    "# os模块 "
   ]
  },
  {
   "cell_type": "code",
   "execution_count": 6,
   "metadata": {},
   "outputs": [],
   "source": [
    "import os"
   ]
  },
  {
   "cell_type": "code",
   "execution_count": 7,
   "metadata": {},
   "outputs": [
    {
     "name": "stdout",
     "output_type": "stream",
     "text": [
      "C:\\Users\\Dell\\学习\n"
     ]
    }
   ],
   "source": [
    "#getcwd():获取当前工作目录\n",
    "#格式：os.getcwd()\n",
    "#返回值：当前工作目录的字符串\n",
    "#当前工作目录就是在进行文件的相关操作，默认查找文件的目录\n",
    "\n",
    "mydir = os.getcwd()\n",
    "print(mydir)"
   ]
  },
  {
   "cell_type": "code",
   "execution_count": 22,
   "metadata": {},
   "outputs": [
    {
     "name": "stdout",
     "output_type": "stream",
     "text": [
      "C:\\Users\\Dell\n"
     ]
    }
   ],
   "source": [
    "#chdir()改变当前工作目录\n",
    "#change directory\n",
    "#格式：os.chdir(路径)\n",
    "#返回值：无\n",
    "os.chdir('C:\\\\Users\\Dell')\n",
    "mydir1 = os.getcwd()\n",
    "print(mydir1)"
   ]
  },
  {
   "cell_type": "code",
   "execution_count": 29,
   "metadata": {},
   "outputs": [
    {
     "name": "stdout",
     "output_type": "stream",
     "text": [
      "['.ipynb_checkpoints', '1.变量运算符分支循环.ipynb', '10.oop-类.ipynb', '11.oop-类.ipynb', '12 oop-类属性.ipynb', '13.类成员描述符.ipynb', '14-异常处理.ipynb', '15- 常用的模块.ipynb', '2.函数.ipynb', '3.作用域list dict.ipynb', '4.内置数据结构list.ipynb', '5.list.ipynb', '6.元组tuple.ipynb', '7.内置函数结构set.ipynb', '8.内置函数结构dict.ipynb', '9.oop-类.ipynb', '函数的意义.ipynb', '练习题.ipynb', '练习题2.ipynb', '课后习题.ipynb', '面向对象类的练习题.ipynb']\n"
     ]
    }
   ],
   "source": [
    "#listdir():获取一个目录中所有子目录和文件的名称列表\n",
    "#格式：os.listdir(路径)\n",
    "#返回值：所有子目录和文件名称的列表\n",
    "print(os.listdir(\"C:\\\\Users\\Dell\\学习\"))"
   ]
  },
  {
   "cell_type": "code",
   "execution_count": 36,
   "metadata": {},
   "outputs": [],
   "source": [
    "# makedirs():递归创建文件夹\n",
    "#格式：os.mkedir(递归路径)\n",
    "#返回值：无\n",
    "#递归路径：多个文件夹层层包含的路径就是递归路径 例如：C:\\\\Users\\Dell..\n",
    "#os.makedirs(\"hiuhui\")"
   ]
  },
  {
   "cell_type": "code",
   "execution_count": 59,
   "metadata": {},
   "outputs": [
    {
     "name": "stdout",
     "output_type": "stream",
     "text": [
      "0\n",
      "0\n"
     ]
    }
   ],
   "source": [
    "#system()运行shell命令\n",
    "#格式：os.system(系统命令)\n",
    "\n",
    "#一般推荐使用subprocess代替\n",
    "#返回值打开一个shell或者终端页面\n",
    "#ls是列出当前文件和文件夹的系统命令\n",
    "rst = os.system(\"python\")\n",
    "print(rst)\n",
    "r = os.system(\"type nul>jiazi.txt\")\n",
    "print(r)\n",
    "#0代表执行成功了"
   ]
  },
  {
   "cell_type": "code",
   "execution_count": 43,
   "metadata": {},
   "outputs": [
    {
     "name": "stdout",
     "output_type": "stream",
     "text": [
      "D:\\Anaconda;D:\\Anaconda\\Library\\mingw-w64\\bin;D:\\Anaconda\\Library\\usr\\bin;D:\\Anaconda\\Library\\bin;D:\\Anaconda\\Scripts;C:\\Program Files\\Python37\\Scripts\\;C:\\Program Files\\Python37\\;C:\\Windows\\system32;C:\\Windows;C:\\Windows\\System32\\Wbem;C:\\Windows\\System32\\WindowsPowerShell\\v1.0\\;C:\\Program Files (x86)\\NVIDIA Corporation\\PhysX\\Common;C:\\WINDOWS\\system32;C:\\WINDOWS;C:\\WINDOWS\\System32\\Wbem;C:\\WINDOWS\\System32\\WindowsPowerShell\\v1.0\\;C:\\WINDOWS\\System32\\OpenSSH\\;C:\\Program Files\\Intel\\WiFi\\bin\\;C:\\Program Files\\Common Files\\Intel\\WirelessCommon\\;\"D:\\java\\jdk1.8.0\\bin;D:\\java\\jdk1.8.0\\jre\\bin;\";C:\\Program Files\\Microsoft SQL Server\\Client SDK\\ODBC\\130\\Tools\\Binn\\;C:\\Program Files (x86)\\Microsoft SQL Server\\140\\Tools\\Binn\\;C:\\Program Files\\Microsoft SQL Server\\140\\Tools\\Binn\\;C:\\Program Files\\Microsoft SQL Server\\140\\DTS\\Binn\\;C:\\Program Files (x86)\\Microsoft SQL Server\\Client SDK\\ODBC\\130\\Tools\\Binn\\;C:\\Program Files (x86)\\Microsoft SQL Server\\140\\DTS\\Binn\\;C:\\Program Files (x86)\\Microsoft SQL Server\\140\\Tools\\Binn\\ManagementStudio\\;D:\\Anaconda;D:\\Anaconda\\Library\\mingw-w64\\bin;D:\\Anaconda\\Library\\usr\\bin;D:\\Anaconda\\Library\\bin;D:\\Anaconda\\Scripts;C:\\Users\\Dell\\AppData\\Local\\Microsoft\\WindowsApps\n"
     ]
    }
   ],
   "source": [
    "#getenv()获取指定系统环境变量值\n",
    "#相应的还有putenv\n",
    "#格式：os.getenv(\"环境变量名\")\n",
    "#返回值：指定环境变量名对应的值\n",
    "print(os.getenv(\"PATH\"))\n"
   ]
  },
  {
   "cell_type": "code",
   "execution_count": 44,
   "metadata": {},
   "outputs": [],
   "source": [
    "#exit（）退出当前程序\n",
    "#格式：exit()\n",
    "#返回值：无"
   ]
  },
  {
   "cell_type": "markdown",
   "metadata": {},
   "source": [
    "# 值部分 \n",
    "- os.curdir:curretn dir ,当前目录\n",
    "- os.pardir:parent dir,父亲目录\n",
    "- os.sep:当前系统的路径分隔符\n",
    "    - windows:\\r\\n\n",
    "    - unix,linux,macos:\\n\n",
    "- os.name:当前系统名称\n",
    "    - windows:nt\n",
    "    - macos,unix,linux:posix"
   ]
  },
  {
   "cell_type": "code",
   "execution_count": 48,
   "metadata": {},
   "outputs": [
    {
     "name": "stdout",
     "output_type": "stream",
     "text": [
      "..\n",
      ".\n",
      "\\\n",
      "nt\n"
     ]
    }
   ],
   "source": [
    "print(os.pardir)\n",
    "print(os.curdir)\n",
    "print(os.sep)\n",
    "print(os.name)\n"
   ]
  },
  {
   "cell_type": "code",
   "execution_count": 56,
   "metadata": {},
   "outputs": [
    {
     "name": "stdout",
     "output_type": "stream",
     "text": [
      "\r\n",
      "\n"
     ]
    }
   ],
   "source": [
    "print(os.linesep)\n"
   ]
  },
  {
   "cell_type": "markdown",
   "metadata": {},
   "source": []
  },
  {
   "cell_type": "code",
   "execution_count": null,
   "metadata": {},
   "outputs": [],
   "source": []
  }
 ],
 "metadata": {
  "kernelspec": {
   "display_name": "Python 3",
   "language": "python",
   "name": "python3"
  },
  "language_info": {
   "codemirror_mode": {
    "name": "ipython",
    "version": 3
   },
   "file_extension": ".py",
   "mimetype": "text/x-python",
   "name": "python",
   "nbconvert_exporter": "python",
   "pygments_lexer": "ipython3",
   "version": "3.7.3"
  }
 },
 "nbformat": 4,
 "nbformat_minor": 2
}
