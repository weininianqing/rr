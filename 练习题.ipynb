{
 "cells": [
  {
   "cell_type": "code",
   "execution_count": 1,
   "metadata": {},
   "outputs": [
    {
     "name": "stdout",
     "output_type": "stream",
     "text": [
      "hello word!\n"
     ]
    }
   ],
   "source": [
    "print(\"hello word!\")"
   ]
  },
  {
   "cell_type": "code",
   "execution_count": 2,
   "metadata": {},
   "outputs": [
    {
     "name": "stdout",
     "output_type": "stream",
     "text": [
      "my name is litianyi\n"
     ]
    }
   ],
   "source": [
    "print(\"my name is litianyi\")"
   ]
  },
  {
   "cell_type": "markdown",
   "metadata": {},
   "source": [
    "# 计算一个12.5m*16.7m的矩形房间的面积和周长\n",
    "a = 12.5\n",
    "b = 16.7\n",
    "c = a * b\n",
    "d = (a + b) * 2\n",
    "\n",
    "print('面积为',c,'m²','周长为',d,'m')"
   ]
  },
  {
   "cell_type": "code",
   "execution_count": 1,
   "metadata": {},
   "outputs": [
    {
     "name": "stdout",
     "output_type": "stream",
     "text": [
      "请输入成绩55\n",
      "退学吧小宝贝\n"
     ]
    }
   ],
   "source": [
    "#考试成绩判断\n",
    "#成绩由用户输入\n",
    "#90以上为优秀\n",
    "#80-90为良\n",
    "#70-80为中\n",
    "#60-70为平\n",
    "#60一下  退学吧小宝贝\n",
    "\n",
    "#输入成绩需要用到input函数\n",
    "#input输入的值全部为字符串类型\n",
    "act = input(\"请输入成绩\")\n",
    "act = int(act)\n",
    "if act >= 90:\n",
    "    print(\"优秀\")\n",
    "if act >=80 and act < 90:\n",
    "    print(\"良\")\n",
    "if act >= 70 and act < 80:\n",
    "    print(\"努力\")\n",
    "if act>=60 and act < 70:\n",
    "    print(\"不行了啊\")\n",
    "else:\n",
    "    print(\"退学吧小宝贝\")"
   ]
  },
  {
   "cell_type": "code",
   "execution_count": 6,
   "metadata": {},
   "outputs": [
    {
     "name": "stdout",
     "output_type": "stream",
     "text": [
      "xiaognagnihao\n"
     ]
    }
   ],
   "source": [
    "def hello(person):\n",
    "    print(\"{}nihao\".format(person))\n",
    "hello(\"xiaognag\")"
   ]
  },
  {
   "cell_type": "code",
   "execution_count": 15,
   "metadata": {},
   "outputs": [
    {
     "name": "stdout",
     "output_type": "stream",
     "text": [
      "请输入年份2222\n",
      "2222 不是闰年\n"
     ]
    }
   ],
   "source": [
    "#写一个程序判断是否为闰年\n",
    "nian = input(\"请输入年份\")\n",
    "nian = int(nian)\n",
    "if nian % 4 == 0:\n",
    "    print(nian,\"是闰年\")\n",
    "else:\n",
    "    print(nian,\"不是闰年\")"
   ]
  },
  {
   "cell_type": "markdown",
   "metadata": {},
   "source": [
    "给用户三次机会，猜想我们的计算机随机产生的一个数A，每次用户猜想过后会提示数字是否正确以及输入的数字是大于或小于A，当机会用完后提示用户输掉比赛\n"
   ]
  },
  {
   "cell_type": "code",
   "execution_count": 1,
   "metadata": {},
   "outputs": [
    {
     "name": "stdout",
     "output_type": "stream",
     "text": [
      "请输入一个数字：5\n",
      "你的数字小了\n",
      "请输入一个数字：456\n",
      "你的数字大了\n",
      "请输入一个数字：55\n",
      "你的数字大了\n",
      "请输入一个数字：4\n",
      "你的数字小了\n",
      "请输入一个数字：4\n",
      "你的数字小了\n",
      "请输入一个数字：1\n",
      "你的数字小了\n",
      "请输入一个数字：1\n",
      "你的数字小了\n",
      "请输入一个数字：1\n",
      "你的数字小了\n",
      "请输入一个数字：1\n",
      "你的数字小了\n",
      "请输入一个数字：1\n",
      "你的数字小了\n",
      "请输入一个数字：11\n",
      "你的数字小了\n",
      "游戏结束\n"
     ]
    }
   ],
   "source": [
    "import random\n",
    "ser = random.randint(1,100)#计算机随机生成一个数\n",
    "times = 11 #用户三次机会\n",
    "while times:\n",
    "    num = input(\"请输入一个数字：\")\n",
    "    if num.isdigit():\n",
    "        tmp = int(num)\n",
    "        if tmp == ser:\n",
    "            print(\"你猜对了\")\n",
    "        elif tmp < ser:\n",
    "            print(\"你的数字小了\")\n",
    "            times -= 1\n",
    "        else:\n",
    "            print(\"你的数字大了\")\n",
    "            times -= 1\n",
    "    else:\n",
    "        print(\"叫你输入数字\")1\n",
    "print(\"游戏结束\")"
   ]
  },
  {
   "cell_type": "code",
   "execution_count": 1,
   "metadata": {},
   "outputs": [
    {
     "ename": "NameError",
     "evalue": "name 'o' is not defined",
     "output_type": "error",
     "traceback": [
      "\u001b[1;31m---------------------------------------------------------------------------\u001b[0m",
      "\u001b[1;31mNameError\u001b[0m                                 Traceback (most recent call last)",
      "\u001b[1;32m<ipython-input-1-fc2d42d18283>\u001b[0m in \u001b[0;36m<module>\u001b[1;34m\u001b[0m\n\u001b[0;32m      8\u001b[0m         \u001b[0mchengf\u001b[0m\u001b[1;33m(\u001b[0m\u001b[1;33m)\u001b[0m\u001b[1;33m\u001b[0m\u001b[1;33m\u001b[0m\u001b[0m\n\u001b[0;32m      9\u001b[0m \u001b[1;33m\u001b[0m\u001b[0m\n\u001b[1;32m---> 10\u001b[1;33m \u001b[0mjiujiu\u001b[0m\u001b[1;33m(\u001b[0m\u001b[1;33m)\u001b[0m\u001b[1;33m\u001b[0m\u001b[1;33m\u001b[0m\u001b[0m\n\u001b[0m",
      "\u001b[1;32m<ipython-input-1-fc2d42d18283>\u001b[0m in \u001b[0;36mjiujiu\u001b[1;34m()\u001b[0m\n\u001b[0;32m      6\u001b[0m \u001b[1;32mdef\u001b[0m \u001b[0mjiujiu\u001b[0m\u001b[1;33m(\u001b[0m\u001b[1;33m)\u001b[0m\u001b[1;33m:\u001b[0m\u001b[1;33m\u001b[0m\u001b[1;33m\u001b[0m\u001b[0m\n\u001b[0;32m      7\u001b[0m     \u001b[1;32mfor\u001b[0m \u001b[0mo\u001b[0m \u001b[1;32min\u001b[0m \u001b[0mrange\u001b[0m\u001b[1;33m(\u001b[0m\u001b[1;36m1\u001b[0m\u001b[1;33m,\u001b[0m\u001b[1;36m3\u001b[0m\u001b[1;33m)\u001b[0m\u001b[1;33m:\u001b[0m \u001b[1;31m#相当于这条for循环循环到结束才执行的chengf（）函数\u001b[0m\u001b[1;33m\u001b[0m\u001b[1;33m\u001b[0m\u001b[0m\n\u001b[1;32m----> 8\u001b[1;33m         \u001b[0mchengf\u001b[0m\u001b[1;33m(\u001b[0m\u001b[1;33m)\u001b[0m\u001b[1;33m\u001b[0m\u001b[1;33m\u001b[0m\u001b[0m\n\u001b[0m\u001b[0;32m      9\u001b[0m \u001b[1;33m\u001b[0m\u001b[0m\n\u001b[0;32m     10\u001b[0m \u001b[0mjiujiu\u001b[0m\u001b[1;33m(\u001b[0m\u001b[1;33m)\u001b[0m\u001b[1;33m\u001b[0m\u001b[1;33m\u001b[0m\u001b[0m\n",
      "\u001b[1;32m<ipython-input-1-fc2d42d18283>\u001b[0m in \u001b[0;36mchengf\u001b[1;34m()\u001b[0m\n\u001b[0;32m      2\u001b[0m \u001b[1;32mdef\u001b[0m \u001b[0mchengf\u001b[0m\u001b[1;33m(\u001b[0m\u001b[1;33m)\u001b[0m\u001b[1;33m:\u001b[0m\u001b[1;33m\u001b[0m\u001b[1;33m\u001b[0m\u001b[0m\n\u001b[0;32m      3\u001b[0m      \u001b[1;32mfor\u001b[0m \u001b[0mi\u001b[0m \u001b[1;32min\u001b[0m \u001b[0mrange\u001b[0m\u001b[1;33m(\u001b[0m\u001b[1;36m1\u001b[0m\u001b[1;33m,\u001b[0m\u001b[1;36m2\u001b[0m\u001b[1;33m)\u001b[0m\u001b[1;33m:\u001b[0m \u001b[1;31m#内循环，每次从第一个数字开始，打印到跟行数相同的数量\u001b[0m\u001b[1;33m\u001b[0m\u001b[1;33m\u001b[0m\u001b[0m\n\u001b[1;32m----> 4\u001b[1;33m             \u001b[0mprint\u001b[0m\u001b[1;33m(\u001b[0m\u001b[0mi\u001b[0m\u001b[1;33m,\u001b[0m \u001b[1;34m\"*\"\u001b[0m\u001b[1;33m,\u001b[0m \u001b[0mo\u001b[0m \u001b[1;33m,\u001b[0m\u001b[1;34m\"=\"\u001b[0m\u001b[1;33m,\u001b[0m\u001b[0mo\u001b[0m \u001b[1;33m*\u001b[0m \u001b[0mi\u001b[0m\u001b[1;33m,\u001b[0m\u001b[0mend\u001b[0m \u001b[1;33m=\u001b[0m \u001b[1;34m\"  \"\u001b[0m\u001b[1;33m)\u001b[0m\u001b[1;33m\u001b[0m\u001b[1;33m\u001b[0m\u001b[0m\n\u001b[0m\u001b[0;32m      5\u001b[0m      \u001b[0mprint\u001b[0m\u001b[1;33m(\u001b[0m\u001b[1;33m)\u001b[0m\u001b[1;33m\u001b[0m\u001b[1;33m\u001b[0m\u001b[0m\n\u001b[0;32m      6\u001b[0m \u001b[1;32mdef\u001b[0m \u001b[0mjiujiu\u001b[0m\u001b[1;33m(\u001b[0m\u001b[1;33m)\u001b[0m\u001b[1;33m:\u001b[0m\u001b[1;33m\u001b[0m\u001b[1;33m\u001b[0m\u001b[0m\n",
      "\u001b[1;31mNameError\u001b[0m: name 'o' is not defined"
     ]
    }
   ],
   "source": [
    "#错误示例\n",
    "def chengf():\n",
    "     for i in range(1,2): #内循环，每次从第一个数字开始，打印到跟行数相同的数量\n",
    "            print(i, \"*\", o ,\"=\",o * i,end = \"  \")\n",
    "     print()\n",
    "def jiujiu():\n",
    "    for o in range(1,3): #相当于这条for循环循环到结束才执行的chengf（）函数\n",
    "        chengf()\n",
    "   \n",
    "jiujiu()        "
   ]
  },
  {
   "cell_type": "code",
   "execution_count": 22,
   "metadata": {},
   "outputs": [
    {
     "name": "stdout",
     "output_type": "stream",
     "text": [
      "33\n"
     ]
    }
   ],
   "source": [
    "# 打印1！+2！+3！+4！\n",
    "#方法1\n",
    "'''for i in range(1,5):\n",
    "    if i == 1:\n",
    "        r = 1\n",
    "    else:\n",
    "        for j in range(1,i):\n",
    "            i *= j\n",
    "    r = r + i\n",
    "print(r - 1) # 因为在i = 1 的时候多加了个1 '''\n",
    "#方法2\n",
    "sum = 0\n",
    "r = 0\n",
    "for i in range(1,5):\n",
    "    if i == 1:\n",
    "        sum = 1\n",
    "    else:\n",
    "        for k in range(1,i+1):\n",
    "            if k == 1:\n",
    "                r = 1\n",
    "            else:\n",
    "                r *= k\n",
    "    sum = sum + r\n",
    "print(sum)"
   ]
  },
  {
   "cell_type": "code",
   "execution_count": 25,
   "metadata": {},
   "outputs": [
    {
     "name": "stdout",
     "output_type": "stream",
     "text": [
      "5050\n"
     ]
    }
   ],
   "source": [
    "#实现1-100之间数字和\n",
    "sum = 0\n",
    "for i in range(1,101):\n",
    "    sum += i \n",
    "print(sum)"
   ]
  },
  {
   "cell_type": "code",
   "execution_count": 30,
   "metadata": {},
   "outputs": [
    {
     "name": "stdout",
     "output_type": "stream",
     "text": [
      "请输入开始数字50\n",
      "请输入结束数字114\n",
      "5330\n"
     ]
    }
   ],
   "source": [
    "#实现任意一段数字和，比如50-114\n",
    "sum = 0\n",
    "i = int(input(\"请输入开始数字\"))\n",
    "z = int(input(\"请输入结束数字\"))\n",
    "for k in range(i,z+1):\n",
    "    sum += k\n",
    "print(sum)"
   ]
  },
  {
   "cell_type": "code",
   "execution_count": 32,
   "metadata": {},
   "outputs": [
    {
     "name": "stdout",
     "output_type": "stream",
     "text": [
      "2500\n"
     ]
    }
   ],
   "source": [
    "#实现1-100奇数和\n",
    "sum = 0\n",
    "for i in range(1,101):\n",
    "    if i % 2 == 0:\n",
    "        pass\n",
    "    else:\n",
    "        sum += i\n",
    "print(sum)"
   ]
  },
  {
   "cell_type": "code",
   "execution_count": null,
   "metadata": {},
   "outputs": [],
   "source": [
    "#输入一个数，判断是不是偶数，如果不是判断能否被3或7整除\n",
    "s = int(input(\"请输入一个数字\"))\n",
    "if s % 2 == 0:\n",
    "    print(\"{}偶数\".format(s))\n",
    "elif s % 3 == 0:\n",
    "    print(\"{}能被3整除\".format(s))\n",
    "elif s % 7 == 0:\n",
    "    print(\"{}能被7整除\".format(s))\n",
    "else:\n",
    "    print(\"{0}不是偶数，{0}不能被3和7整除\".format(s))"
   ]
  },
  {
   "cell_type": "code",
   "execution_count": null,
   "metadata": {},
   "outputs": [],
   "source": [
    "#输入一个5位数，把其中大于3少于5的数组成新的数字\n",
    "def shu():\n",
    "    num = int(input(\"请输入一个5位数\"))\n",
    "    i = 0\n",
    "    for a in range(1,6):\n",
    "        i = num % 10\n",
    "        if i > 3 and i < 5:\n",
    "            print(i,end=\"\")\n",
    "        num = num // 10 \n",
    "    return None\n",
    "shu()\n",
    "        "
   ]
  },
  {
   "cell_type": "code",
   "execution_count": 2,
   "metadata": {},
   "outputs": [
    {
     "name": "stdout",
     "output_type": "stream",
     "text": [
      "2\n"
     ]
    }
   ],
   "source": [
    "def a(a,b):\n",
    "    return a+b\n",
    "print(a(1,1))"
   ]
  },
  {
   "cell_type": "code",
   "execution_count": 1,
   "metadata": {},
   "outputs": [
    {
     "name": "stdout",
     "output_type": "stream",
     "text": [
      "24\n"
     ]
    }
   ],
   "source": [
    "#阶乘\n",
    "def jc(n):\n",
    "    if n == 1:\n",
    "        return 1\n",
    "    return jc(n-1) * n\n",
    "print(jc(4))"
   ]
  },
  {
   "cell_type": "code",
   "execution_count": null,
   "metadata": {},
   "outputs": [
    {
     "name": "stdout",
     "output_type": "stream",
     "text": [
      "******商品列表******\n",
      "0.  iphone| 6888\n",
      "1.  三星| 3000\n",
      "2.  小米| 2500\n"
     ]
    }
   ],
   "source": [
    "products = [['iphone',6888],['三星',3000],['小米',2500]]\n",
    "shopping_car = []\n",
    "flag = True\n",
    "while flag:\n",
    "    print(\"******商品列表******\")\n",
    "    for index,i in enumerate(products):\n",
    "        print(\"%s.  %s| %s\" %(index,i[0],i[1]))\n",
    "    choice = input(\"请输入您想购买的商品的编号：\")\n",
    "    if choice.isdigit():#isdigit()判断变量是什么类型\n",
    "        choice = int(choice)\n",
    "        if choice>=0 and choice<len(products):\n",
    "            shopping_car.append(products[choice])\n",
    "            print(\"已经将%s加入购物车\" %(products[choice]))\n",
    "        else:\n",
    "            print(\"该商品不存在\")\n",
    "    elif choice == \"q\":\n",
    "        if len(shopping_car)>0:\n",
    "            print(\"您打算购买以下商品：\")\n",
    "            for index,i in enumerate(shopping_car):\n",
    "                print(\"%s. %s|  %s\" %(index,i[0],i[1]))\n",
    "        else:\n",
    "            print(\"您的购物车中没有添加商品\")\n",
    "        flag = False\n"
   ]
  },
  {
   "cell_type": "code",
   "execution_count": 9,
   "metadata": {},
   "outputs": [
    {
     "name": "stdout",
     "output_type": "stream",
     "text": [
      "3\n",
      "6\n",
      "9\n",
      "9\n",
      "[9, 6, 3]\n"
     ]
    }
   ],
   "source": [
    "#1.输入三个整数x,y,z，请把这三个数由小到大输出\n",
    "\n",
    "m = []\n",
    "for i in range(1,4):\n",
    "    \n",
    "    \n",
    "    a = int(input())\n",
    "    m.append(a)\n",
    "    \n",
    "m.sort(reverse = True)#升序\n",
    "print(max(m))\n",
    "print(m)\n"
   ]
  },
  {
   "cell_type": "code",
   "execution_count": 14,
   "metadata": {},
   "outputs": [
    {
     "data": {
      "text/plain": [
       "2"
      ]
     },
     "execution_count": 14,
     "metadata": {},
     "output_type": "execute_result"
    }
   ],
   "source": [
    "#2.斐波那契数列。\n",
    "def num(n):\n",
    "\tif n == 1:\n",
    "\t\treturn 1\n",
    "\telif n==2:\n",
    "\t\treturn 1\n",
    "\treturn num(n-1)+num(n-2)\n",
    "num(3)\n"
   ]
  },
  {
   "cell_type": "code",
   "execution_count": 21,
   "metadata": {},
   "outputs": [
    {
     "name": "stdout",
     "output_type": "stream",
     "text": [
      "1*1= 1 \n",
      "1*2= 2 2*2= 4 \n",
      "1*3= 3 2*3= 6 3*3= 9 \n",
      "1*4= 4 2*4= 8 3*4= 12 4*4= 16 \n",
      "1*5= 5 2*5= 10 3*5= 15 4*5= 20 5*5= 25 \n",
      "1*6= 6 2*6= 12 3*6= 18 4*6= 24 5*6= 30 6*6= 36 \n",
      "1*7= 7 2*7= 14 3*7= 21 4*7= 28 5*7= 35 6*7= 42 7*7= 49 \n",
      "1*8= 8 2*8= 16 3*8= 24 4*8= 32 5*8= 40 6*8= 48 7*8= 56 8*8= 64 \n",
      "1*9= 9 2*9= 18 3*9= 27 4*9= 36 5*9= 45 6*9= 54 7*9= 63 8*9= 72 9*9= 81 \n"
     ]
    }
   ],
   "source": [
    "#3. 99乘法表\n",
    "for i in range(1,10):\n",
    "    for j in range(1,i+1):\n",
    "        print(\"{0}*{1}=\".format(j,i),j*i,end = \" \")\n",
    "    print()\n"
   ]
  },
  {
   "cell_type": "code",
   "execution_count": 25,
   "metadata": {},
   "outputs": [
    {
     "name": "stdout",
     "output_type": "stream",
     "text": [
      "16\n"
     ]
    }
   ],
   "source": [
    "#4.古典问题：有一对兔子，从出生后第3个月起每个月都生一对兔子，小兔子长到第三个月后每个月又生一对兔子，假如兔子都不死，问每个月的兔子总数为多少？\n",
    "def tu_num(n):# n代表几个月\n",
    "\tn=n//3\n",
    "\tnum = 2\n",
    "\t\n",
    "\tfor i in range(1,n+1):\n",
    "\t\tnum = num*2\n",
    "\n",
    "\tprint(num)\n",
    "tu_num(10)"
   ]
  },
  {
   "cell_type": "code",
   "execution_count": 12,
   "metadata": {},
   "outputs": [
    {
     "name": "stdout",
     "output_type": "stream",
     "text": [
      "153\n",
      "370\n",
      "371\n",
      "407\n"
     ]
    }
   ],
   "source": [
    "#6.打印出所有的\"水仙花数\"，所谓\"水仙花数\"是指一个三位数，其各位数字立方和等于该数本身。例如：153是一个\"水仙花数\"，因为153=1的三次方＋5的三次方＋3的三次方。\n",
    "for m in range(100,1000):\n",
    "\tn = m // 100\n",
    "\ta = m % 100 // 10\n",
    "\tb = m % 10\n",
    "\tif n*n*n+a*a*a+b*b*b == m:\n",
    "\t\tprint(m)\n"
   ]
  },
  {
   "cell_type": "code",
   "execution_count": 13,
   "metadata": {},
   "outputs": [
    {
     "name": "stdout",
     "output_type": "stream",
     "text": [
      "101\n",
      "103\n",
      "107\n",
      "109\n",
      "113\n",
      "127\n",
      "131\n",
      "137\n",
      "139\n",
      "149\n",
      "151\n",
      "157\n",
      "163\n",
      "167\n",
      "173\n",
      "179\n",
      "181\n",
      "191\n",
      "193\n",
      "197\n",
      "199\n"
     ]
    }
   ],
   "source": [
    "\n",
    "#5.判断101-200之间有多少个素数，并输出所有素数。\n",
    "for i in range(101,201):\n",
    "    for n in range(2,i+1):\n",
    "        if i % n == 0:\n",
    "            break\n",
    "        else:\n",
    "            continue\n",
    "    if i == n:\n",
    "        print(i)"
   ]
  },
  {
   "cell_type": "code",
   "execution_count": 32,
   "metadata": {},
   "outputs": [
    {
     "ename": "TabError",
     "evalue": "inconsistent use of tabs and spaces in indentation (<ipython-input-32-41ef05a596df>, line 12)",
     "output_type": "error",
     "traceback": [
      "\u001b[1;36m  File \u001b[1;32m\"<ipython-input-32-41ef05a596df>\"\u001b[1;36m, line \u001b[1;32m12\u001b[0m\n\u001b[1;33m    n = n / i\u001b[0m\n\u001b[1;37m             ^\u001b[0m\n\u001b[1;31mTabError\u001b[0m\u001b[1;31m:\u001b[0m inconsistent use of tabs and spaces in indentation\n"
     ]
    }
   ],
   "source": [
    "\n"
   ]
  },
  {
   "cell_type": "code",
   "execution_count": 67,
   "metadata": {},
   "outputs": [
    {
     "name": "stdout",
     "output_type": "stream",
     "text": [
      "8=2* 2* 2\n"
     ]
    }
   ],
   "source": [
    "#7.将一个正整数分解质因数。例如：输入90,打印出90=2*3*3*5。\n",
    "\n",
    "\n",
    "def yin(n):#n为输入的数\n",
    "    print(\"{0}=\".format(n),end = \"\")\n",
    "\n",
    "    if n == 1:\n",
    "        print(\"{0}\".format(n))\n",
    "    else:\n",
    "            while n != 1:\n",
    "\n",
    "                for i in range(2,n+1):\n",
    "                    if n % i == 0:\n",
    "                        n = n // i\n",
    "                        if n == 1:\n",
    "                            print(i)\n",
    "                        else:\n",
    "                            print(\"{0}*\".format(i),end = \" \")\n",
    "                        break\n",
    "\n",
    "yin(8)"
   ]
  },
  {
   "cell_type": "code",
   "execution_count": 68,
   "metadata": {},
   "outputs": [
    {
     "name": "stdout",
     "output_type": "stream",
     "text": [
      "8 = \n",
      "2 *\n",
      "2 *\n",
      "2\n"
     ]
    }
   ],
   "source": []
  },
  {
   "cell_type": "code",
   "execution_count": 7,
   "metadata": {},
   "outputs": [
    {
     "name": "stdout",
     "output_type": "stream",
     "text": [
      "wwwwwww\n",
      "None\n"
     ]
    }
   ],
   "source": [
    "a = lambda:\"wwwwwww\"\n",
    "print(a())\n",
    "\n",
    "def a():\n",
    "    \"wwwwwww\"\n",
    "print(a())"
   ]
  }
 ],
 "metadata": {
  "kernelspec": {
   "display_name": "Python 3",
   "language": "python",
   "name": "python3"
  },
  "language_info": {
   "codemirror_mode": {
    "name": "ipython",
    "version": 3
   },
   "file_extension": ".py",
   "mimetype": "text/x-python",
   "name": "python",
   "nbconvert_exporter": "python",
   "pygments_lexer": "ipython3",
   "version": "3.7.3"
  }
 },
 "nbformat": 4,
 "nbformat_minor": 2
}
