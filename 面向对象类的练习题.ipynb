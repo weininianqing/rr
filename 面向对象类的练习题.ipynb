{
 "cells": [
  {
   "cell_type": "markdown",
   "metadata": {},
   "source": [
    "# 定义一个学生类\n",
    "- 1.姓名\n",
    "- 2.年龄\n",
    "- 3.成绩（语文数学英语）每科成绩为整数 类方法：\n",
    "- 4.获取学生的姓名：get_name（）返回类型：str\n",
    "- 5.获取学生的年龄：get_age()返回类型：int\n",
    "- 6.返回三门科目中最高的分数，get_course()返回类型：int"
   ]
  },
  {
   "cell_type": "code",
   "execution_count": 9,
   "metadata": {},
   "outputs": [
    {
     "name": "stdout",
     "output_type": "stream",
     "text": [
      "hui\n",
      "18\n",
      "99\n"
     ]
    }
   ],
   "source": [
    "class student(object):\n",
    "    \n",
    "    def __init__(self,name,age,scores):\n",
    "        self.name = name\n",
    "        self.age = age\n",
    "        self.scores = scores\n",
    "    def get_name(self):\n",
    "        return self.name\n",
    "    def get_age(self):\n",
    "        return self.age\n",
    "    def get_course(self):\n",
    "        return max(self.scores)\n",
    "    \n",
    "s = student(\"hui\",18,[90,99,88])\n",
    "print(s.get_name())\n",
    "print(s.get_age())\n",
    "print(s.get_course())"
   ]
  },
  {
   "cell_type": "markdown",
   "metadata": {},
   "source": [
    "## 定义一个字典类：DictClass，完成如下功能\n",
    "- 1.删除某个key del_dict(key)\n",
    "- 2.判断某个键是否在字典中，如果在返回键对应的值，不在返回“not found”get_dict()\n",
    "- 3.返回键组成的列表，返回类型：list get_key()\n",
    "- 4.合并字典，并且返回合并后字典的values组成的列表，返回类型list update_dict()\n"
   ]
  },
  {
   "cell_type": "code",
   "execution_count": 49,
   "metadata": {},
   "outputs": [
    {
     "name": "stdout",
     "output_type": "stream",
     "text": [
      "2\n",
      "dict_keys(['a', 'b'])\n",
      "dict_values([1, 2, 12])\n"
     ]
    }
   ],
   "source": [
    "class dictclass():\n",
    "    \n",
    "    def __init__(self,dict):\n",
    "        self.dict = dict\n",
    "        \n",
    "    \n",
    "    def del_dict(self,key):\n",
    "        if key not in self.dict.keys():\n",
    "            return \"不在字典里\"\n",
    "        else:\n",
    "            self.dict.pop(key)\n",
    "            return \"删除成功\"\n",
    "    def get_dict(self,jian):\n",
    "        if jian not in self.dict.keys():\n",
    "            return \"not found\"\n",
    "        else:\n",
    "            return self.dict.setdefault(jian,)\n",
    "    def get_key(self):\n",
    "        return self.dict.keys()\n",
    "            \n",
    "    def update_dict(self,dict2):\n",
    "        self.dict = dict(self.dict,**dict2)\n",
    "        return self.dict.values()\n",
    "            \n",
    "            \n",
    "d = dictclass({\"a\":1,\"b\":2})\n",
    "#print(d.del_dict(\"a\"))\n",
    "print(d.get_dict(\"b\"))\n",
    "print(d.get_key())\n",
    "print(d.update_dict({\"c\":12}))"
   ]
  },
  {
   "cell_type": "markdown",
   "metadata": {},
   "source": [
    "# 定义一个列表的操作类 listinfo\n",
    "- 1.列表元素添加：add_key()\n",
    "- 2.列表元素取值：get_key()\n",
    "- 3.列表合并：update_list()\n",
    "- 4.删除并且返回最后一个元素：del_key()"
   ]
  },
  {
   "cell_type": "code",
   "execution_count": 68,
   "metadata": {},
   "outputs": [
    {
     "name": "stdout",
     "output_type": "stream",
     "text": [
      "[1, 3, 4, 5, 'ada', 'hui']\n",
      "hui\n",
      "[1, 3, 4, 5, 'ada', 'hui', 1, 2, 5, 8, 4, 56, 5]\n",
      "5\n"
     ]
    }
   ],
   "source": [
    "class listinfo():\n",
    "    \n",
    "    def __init__(self,list):\n",
    "        self.list = list\n",
    "    \n",
    "    def add_key(self,key):\n",
    "        self.list.append(key)\n",
    "        return self.list\n",
    "    def get_key(self,index):\n",
    "        if index >= 0 and index < len(self.list):\n",
    "            return self.list[index]\n",
    "        return \"太多了\"\n",
    "                    \n",
    "    def update_list(self,list2):\n",
    "        self.list.extend(list2)\n",
    "        return self.list\n",
    "    def del_key(self):\n",
    "        if len(self.list) >= 0:\n",
    "            return self.list.pop(-1)\n",
    "        else:\n",
    "            return \"liebiaokong\"\n",
    "    \n",
    "s = listinfo([1,3,4,5,\"ada\"])\n",
    "print(s.add_key(\"hui\"))\n",
    "print(s.get_key(5))       \n",
    "print(s.update_list([1,2,5,8,4,56,5]))\n",
    "print(s.del_key())"
   ]
  },
  {
   "cell_type": "markdown",
   "metadata": {},
   "source": [
    "# 定义一个集合的操作类\n",
    "- 1.集合元素添加：add_setinfo()\n",
    "- 2.集合的交集：get_intersection()\n",
    "- 3.集合的并集：get_union()\n",
    "- 4.集合的差集：del_difference()"
   ]
  },
  {
   "cell_type": "code",
   "execution_count": 77,
   "metadata": {},
   "outputs": [
    {
     "name": "stdout",
     "output_type": "stream",
     "text": [
      "{1, 2, 4, 5, 6, 8, 11}\n",
      "{1, 2, 4, 5, 6, 8, 11, 12, 45, 78}\n",
      "{2, 11, 4, 6}\n"
     ]
    }
   ],
   "source": [
    "class jihe():\n",
    "    def __init__(self,ji):\n",
    "        self.ji = ji\n",
    "    def add_setinfo(self,key):\n",
    "        self.ji.add(key)\n",
    "        return self.ji\n",
    "    def get_intersection(self,set):\n",
    "        self.ji = self.ji.intersection(set)\n",
    "        return self.ji\n",
    "    def get_union(self,set1):\n",
    "        self.ji = self.ji.union(set1)\n",
    "        return self.ji\n",
    "    def del_difference(self,set2):\n",
    "        self.ji = self.ji.difference(set2)\n",
    "        return self.ji\n",
    "j = jihe({1,2,4,5,8,5,6})\n",
    "print(j.add_setinfo(11))\n",
    "#print(j.get_intersection({1,5,8,12,45,78}))\n",
    "print(j.get_union({1,5,8,12,45,78}))\n",
    "print(j.del_difference({1,5,8,12,45,78}))"
   ]
  },
  {
   "cell_type": "markdown",
   "metadata": {},
   "source": [
    "# 定义一个门票系统\n",
    "- 门票原价100元\n",
    "- 当周末时候门票涨价20%\n",
    "- 小孩子半价\n",
    "- 计算两个成人和一个小孩子"
   ]
  },
  {
   "cell_type": "code",
   "execution_count": 85,
   "metadata": {},
   "outputs": [
    {
     "name": "stdout",
     "output_type": "stream",
     "text": [
      "250\n",
      "300\n"
     ]
    }
   ],
   "source": [
    "class menpiao():\n",
    "    def __init__(self):\n",
    "        self.jiage = 100\n",
    "\n",
    "    def pingshi(self,person,some):\n",
    "        self.person = person\n",
    "        self.some = some\n",
    "        if isinstance(person,int)and isinstance(some,int):\n",
    "            self.zongjia = self.person * 100 + self.some * 50\n",
    "            print(self.zongjia)\n",
    "        else:\n",
    "            print(\"输入错误\")\n",
    "            \n",
    "    def zhoumo(self,person,some):\n",
    "        self.person = person\n",
    "        self.some = some\n",
    "        if isinstance(person,int)and isinstance(some,int):\n",
    "            self.zongjia = self.person * 120 + self.some * 60\n",
    "            print(self.zongjia)\n",
    "        else:\n",
    "            print(\"输入错误\")\n",
    "\n",
    "m = menpiao()\n",
    "m.pingshi(2,1)            \n",
    "m.zhoumo(2,1)       \n",
    "    "
   ]
  }
 ],
 "metadata": {
  "kernelspec": {
   "display_name": "Python 3",
   "language": "python",
   "name": "python3"
  },
  "language_info": {
   "codemirror_mode": {
    "name": "ipython",
    "version": 3
   },
   "file_extension": ".py",
   "mimetype": "text/x-python",
   "name": "python",
   "nbconvert_exporter": "python",
   "pygments_lexer": "ipython3",
   "version": "3.7.3"
  }
 },
 "nbformat": 4,
 "nbformat_minor": 2
}
