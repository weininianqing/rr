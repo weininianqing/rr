{
 "cells": [
  {
   "cell_type": "markdown",
   "metadata": {},
   "source": [
    "# 主要内容\n",
    "- 变量学习\n",
    "- 做好笔记"
   ]
  },
  {
   "cell_type": "markdown",
   "metadata": {},
   "source": [
    "# pyphon基本\n",
    "- input 输入\n",
    "- print 输出"
   ]
  },
  {
   "cell_type": "code",
   "execution_count": 8,
   "metadata": {},
   "outputs": [
    {
     "name": "stdout",
     "output_type": "stream",
     "text": [
      "ee\n"
     ]
    }
   ],
   "source": [
    "#声明的三种格式\n",
    "#格式1\n",
    "s = \"我喜欢学习\"\n",
    "#格式2\n",
    "s1 = s2 = \"goudiaolitianyi\"\n",
    "#格式3\n",
    "s1,s2,s3 = \"e\",\"e\",\"ee\"\n",
    "print(s3)"
   ]
  },
  {
   "cell_type": "markdown",
   "metadata": {},
   "source": [
    "# 二进制数，八进制数，十六进制数\n",
    "  - 例如：二进制数0b111\n",
    "          八进制数0o777\n",
    "          十六进制0xffff\n",
    " "
   ]
  },
  {
   "cell_type": "code",
   "execution_count": 5,
   "metadata": {},
   "outputs": [
    {
     "name": "stdout",
     "output_type": "stream",
     "text": [
      "b'111'\n",
      "<class 'bytes'>\n"
     ]
    }
   ],
   "source": [
    "#二进制数定义\n",
    "s = b'111'\n",
    "print(s)\n",
    "print(type(s))"
   ]
  },
  {
   "cell_type": "code",
   "execution_count": 9,
   "metadata": {},
   "outputs": [
    {
     "name": "stdout",
     "output_type": "stream",
     "text": [
      "511\n"
     ]
    }
   ],
   "source": [
    "#八进制数的定义\n",
    "s1 = 0o777\n",
    "print(s1)"
   ]
  },
  {
   "cell_type": "code",
   "execution_count": 16,
   "metadata": {},
   "outputs": [
    {
     "name": "stdout",
     "output_type": "stream",
     "text": [
      "65535\n"
     ]
    }
   ],
   "source": [
    "#十六进制数的定义\n",
    "s2 = 0xffff\n",
    "print(s2)"
   ]
  },
  {
   "cell_type": "markdown",
   "metadata": {},
   "source": [
    "# 浮点数\n",
    "- 通俗意义上的小数量\n",
    "- 例如：\n",
    "    - 3.1415926\n",
    "    - 3.\n",
    "    - .2\n",
    "- 科学计数法\n",
    "    - 314=3.14e2\n",
    "        "
   ]
  },
  {
   "cell_type": "code",
   "execution_count": 17,
   "metadata": {},
   "outputs": [
    {
     "name": "stdout",
     "output_type": "stream",
     "text": [
      "314.0\n",
      "0.2\n"
     ]
    }
   ],
   "source": [
    "#科学计数法\n",
    "a1 = 3.14e2\n",
    "print(a1)\n",
    "\n",
    "a2 = .2\n",
    "print(a2)"
   ]
  },
  {
   "cell_type": "markdown",
   "metadata": {},
   "source": [
    "# 复数complex\n",
    "- 与数学定义上的一样\n",
    "- 复数的虚部用j/J来表示\n",
    "- 例如\n",
    "     - 5+4j\n",
    "     - 4j\n",
    "     - （4j）"
   ]
  },
  {
   "cell_type": "code",
   "execution_count": 19,
   "metadata": {},
   "outputs": [
    {
     "name": "stdout",
     "output_type": "stream",
     "text": [
      "4j\n"
     ]
    }
   ],
   "source": [
    "a = 4j\n",
    "print(a)"
   ]
  },
  {
   "cell_type": "markdown",
   "metadata": {},
   "source": [
    "# 布尔值\n",
    "- 布尔值就是用来表示真假的值\n",
    "- 只有两个值True（真）和False（假）\n",
    "- 在Python种布尔值可以当数字来用\n",
    "     - True=1 False=0\n",
    "     - 如果数字当布尔值来使用 0=False，其余的为True"
   ]
  },
  {
   "cell_type": "code",
   "execution_count": 21,
   "metadata": {},
   "outputs": [
    {
     "name": "stdout",
     "output_type": "stream",
     "text": [
      "19\n"
     ]
    }
   ],
   "source": [
    "#布尔值当做数字使用\n",
    "age = 18+True\n",
    "print(age)"
   ]
  },
  {
   "cell_type": "code",
   "execution_count": 23,
   "metadata": {},
   "outputs": [
    {
     "name": "stdout",
     "output_type": "stream",
     "text": [
      "True\n"
     ]
    }
   ],
   "source": [
    "#判断语句\n",
    "a = 2\n",
    "if a:\n",
    "    print(\"True\")\n",
    "else:\n",
    "    print(\"False\")"
   ]
  },
  {
   "cell_type": "markdown",
   "metadata": {},
   "source": [
    "# 字符串\n",
    "- 表达文字的内容，比如“我喜欢学习”\n",
    "- 引号引起来的一段内容\n",
    "- 引号包括\n",
    "    - 单引号\n",
    "    - 双引号\n",
    "    - 三引号，可以用来表示多行信息\n",
    "- 单引号和双引号一样\n",
    "- 字符串有内容为真True，没内容为假False0"
   ]
  },
  {
   "cell_type": "code",
   "execution_count": 27,
   "metadata": {},
   "outputs": [
    {
     "name": "stdout",
     "output_type": "stream",
     "text": [
      "我今年18岁了\n",
      "我今年16岁\n",
      "\n",
      "离离原上草，\n",
      "一岁一枯荣。\n",
      "野火烧不尽，\n",
      "春风吹有声。\n",
      "\n"
     ]
    }
   ],
   "source": [
    "#字符串案例\n",
    "age = '我今年18岁了'\n",
    "print(age)\n",
    "\n",
    "age1 = \"我今年16岁\"\n",
    "print(age1)\n",
    "\n",
    "age2 = \"\"\"\n",
    "离离原上草，\n",
    "一岁一枯荣。\n",
    "野火烧不尽，\n",
    "春风吹有声。\n",
    "\"\"\"\n",
    "print(age2)"
   ]
  },
  {
   "cell_type": "markdown",
   "metadata": {},
   "source": [
    "# None类型\n",
    "- 表示没有，通常用来占位\n",
    "- 比如返回，用来表示返回一个空"
   ]
  },
  {
   "cell_type": "markdown",
   "metadata": {},
   "source": [
    "# 表达式\n",
    "- 由一个或几个数字或者变量或者运算符合成的一行代码\n",
    "- 通常返回一个结果\n",
    "\n",
    "# 运算符\n",
    "- 由一个以上的值经过一系列的运算得到新值的过程就叫做运算\n",
    "- 用来操作运算的符号叫做运算符\n",
    "- 运算符分类\n",
    "    - 算数运算符\n",
    "    - 比较或者关系运算符\n",
    "    - 赋值运算符\n",
    "    - 逻辑运算符号\n",
    "    - 位运算\n",
    "    - 成员运算符\n",
    "    - 身份运算符"
   ]
  },
  {
   "cell_type": "markdown",
   "metadata": {},
   "source": [
    "# 算数运算符\n",
    "- 用来进行算数运算的符号\n",
    "- 通常用来表示加减乘除\n",
    "- Python没有自增或者自减"
   ]
  },
  {
   "cell_type": "code",
   "execution_count": 1,
   "metadata": {},
   "outputs": [
    {
     "name": "stdout",
     "output_type": "stream",
     "text": [
      "7\n",
      "11\n",
      "18\n",
      "4.5\n",
      "<class 'float'>\n",
      "4\n",
      "1\n",
      "-3\n",
      "49\n"
     ]
    }
   ],
   "source": [
    "#算数运算符案例\n",
    "#加减乘跟数学意义上的基本一致\n",
    "\n",
    "a1 = 9 - 2\n",
    "print(a1)\n",
    "\n",
    "a2 = 9 + 2\n",
    "print(a2)\n",
    "\n",
    "a3 = 9 * 2\n",
    "print(a3)\n",
    "\n",
    "#Python除法包括基本除法，地板除，取余\n",
    "#基本除法\n",
    "a4 = 9 / 2\n",
    "print(a4)\n",
    "print(type(a4))\n",
    "\n",
    "#地板除，取整\n",
    "a5 = 9 // 2\n",
    "print(a5)\n",
    "\n",
    "#取余\n",
    "a6 = 9 % 2\n",
    "print(a6)\n",
    "\n",
    "#取余复数的结果,余数的计算公式：c = a -⌊ a/b⌋ * b，⌊⌋上下取整号例如：⌊ 3.476 ⌋=3，⌊6.7546⌋=6，⌊-3.14159⌋= -4\n",
    "a7 = 9 % -4\n",
    "print(a7)\n",
    "\n",
    "#两个乘号就是指数\n",
    "a8 = 7 ** 2\n",
    "print(a8)"
   ]
  },
  {
   "cell_type": "markdown",
   "metadata": {},
   "source": [
    "# 比较运算符\n",
    "- 对两个内容进行比较的运算符\n",
    "- 结果一定是布尔值，True和False"
   ]
  },
  {
   "cell_type": "code",
   "execution_count": 42,
   "metadata": {},
   "outputs": [
    {
     "name": "stdout",
     "output_type": "stream",
     "text": [
      "False\n",
      "True\n",
      "False\n"
     ]
    }
   ],
   "source": [
    "#等于 ==\n",
    "a = 3 == 4\n",
    "print(a)\n",
    "\n",
    "#不等于 ！=\n",
    "b = 3 != 4\n",
    "print(b)\n",
    "\n",
    "# >= <= > <\n",
    "print(3 >=8 )"
   ]
  },
  {
   "cell_type": "markdown",
   "metadata": {},
   "source": [
    "# 赋值运算符\n",
    "- 把一个值赋值到变量里\n",
    "- 运算级最低，最后执行"
   ]
  },
  {
   "cell_type": "code",
   "execution_count": 46,
   "metadata": {},
   "outputs": [
    {
     "name": "stdout",
     "output_type": "stream",
     "text": [
      "3\n",
      "6\n"
     ]
    }
   ],
   "source": [
    "#赋值符号\n",
    "a = 9\n",
    "#复杂赋值\n",
    "a = b = 9\n",
    "\n",
    "#赋值的缩写\n",
    "c = 0\n",
    "c = c + 3\n",
    "print(c)\n",
    "\n",
    "c += 3\n",
    "print(c)"
   ]
  },
  {
   "cell_type": "markdown",
   "metadata": {},
   "source": [
    "# 逻辑运算符\n",
    "- 对布尔类型变量或者值进行运算的符号\n",
    "- and：逻辑与\n",
    "- or：逻辑或\n",
    "- not：逻辑非\n",
    "- 运算规则：\n",
    "    - and看做乘法，or看做加法\n",
    "    - True看做1，False看做0\n",
    "    - 则逻辑运算就能转换成整数数学运算\n",
    "    - 最后结果如果是0则为False，否则为True\n",
    "- 逻辑运算短路问题\n",
    "    - 逻辑运算式，按照运算顺序计算，一旦能够确定整个式子未来的值，则不在进行计算，直接返回"
   ]
  },
  {
   "cell_type": "code",
   "execution_count": 50,
   "metadata": {},
   "outputs": [
    {
     "name": "stdout",
     "output_type": "stream",
     "text": [
      "True\n",
      "False\n",
      "False\n"
     ]
    }
   ],
   "source": [
    "#逻辑运算比例\n",
    "a = True\n",
    "b = True\n",
    "c = False\n",
    "aa = a and b\n",
    "print(aa)\n",
    "\n",
    "bb = a and c\n",
    "print(bb)\n",
    "\n",
    "cc = 100 and c\n",
    "print(cc)\n",
    "\n",
    "#布尔值和数字的转化\n",
    "#数字转化成布尔值的时候 0=False 其余的为True\n",
    "#布尔值转化为数字的时候 False=0 ，True=1"
   ]
  },
  {
   "cell_type": "code",
   "execution_count": 52,
   "metadata": {},
   "outputs": [
    {
     "name": "stdout",
     "output_type": "stream",
     "text": [
      "True\n"
     ]
    }
   ],
   "source": [
    "#短路问题案例1\n",
    "a = True\n",
    "b = True\n",
    "c = False\n",
    "\n",
    "aa = a or b and (a and b) #在经过a or .....之后就相当于1+....所以在a or就确定了aa的未来值\n",
    "print(aa)"
   ]
  },
  {
   "cell_type": "code",
   "execution_count": 55,
   "metadata": {},
   "outputs": [
    {
     "name": "stdout",
     "output_type": "stream",
     "text": [
      "a\n",
      "b\n",
      "True\n",
      "********************\n",
      "a\n",
      "True\n"
     ]
    }
   ],
   "source": [
    "#短路问题案例2\n",
    "def a():\n",
    "    print('a')\n",
    "    return True\n",
    "def b():\n",
    "    print('b')\n",
    "    return True\n",
    "aaa = a() and b()\n",
    "print(aaa)\n",
    "\n",
    "print(\"*\" * 20) #字符串乘以数字，表示对这个字符串重复多少遍\n",
    "\n",
    "bbb = a() or b()#短路发生\n",
    "\n",
    "print(bbb)\n",
    "   "
   ]
  },
  {
   "cell_type": "markdown",
   "metadata": {},
   "source": [
    "# 成员运算符\n",
    "- 用来检测一个值或者变量在不在某个集合里面\n",
    "- in ：成员运算符\n",
    "- not in：不在里面的意思\n"
   ]
  },
  {
   "cell_type": "code",
   "execution_count": 58,
   "metadata": {},
   "outputs": [
    {
     "name": "stdout",
     "output_type": "stream",
     "text": [
      "False\n",
      "True\n"
     ]
    }
   ],
   "source": [
    "#in 案例\n",
    "\n",
    "L = [1,2,3,4,5]\n",
    "a = 6\n",
    "f = a in L\n",
    "print(f)\n",
    "#a没有在L里面\n",
    "g = a not in L\n",
    "print(g)\n"
   ]
  },
  {
   "cell_type": "markdown",
   "metadata": {},
   "source": [
    "# 身份运算符\n",
    "- 用来确定两个变量是否是同一个变量\n",
    "- is \n",
    "- is not"
   ]
  },
  {
   "cell_type": "code",
   "execution_count": 62,
   "metadata": {},
   "outputs": [
    {
     "name": "stdout",
     "output_type": "stream",
     "text": [
      "False\n",
      "False\n",
      "True\n"
     ]
    }
   ],
   "source": [
    "# 身份运算符定义\n",
    "a = 1\n",
    "b= 5555\n",
    "cc = a is b\n",
    "print(cc)\n",
    "\n",
    "a = 5555\n",
    "b = 5555\n",
    "cc = a is b\n",
    "print(cc)  #值虽然一样但是不是同一个变量，这是Python是将a分配内存写5555，b分配内存写5555\n",
    "\n",
    "a = 3\n",
    "b = 3\n",
    "ccc = a is b\n",
    "print(ccc) #在Python里面[-5,255]之间的数指向的变量是不需要分配内存的，而是已经分配好指向分配好的内存"
   ]
  },
  {
   "cell_type": "markdown",
   "metadata": {},
   "source": [
    "# 运算符优先级\n",
    "- 小括号最高优先级 \n",
    "- 指数最高优先级\n",
    "- 乘除，取余，地板除\n",
    "- 加减\n",
    "- 比较运算符"
   ]
  },
  {
   "cell_type": "markdown",
   "metadata": {},
   "source": [
    "# 程序结构\n",
    "- 程序三种结构\n",
    "    - 顺序\n",
    "    - 循环\n",
    "    - 分支"
   ]
  },
  {
   "cell_type": "markdown",
   "metadata": {},
   "source": [
    "# 分支结构\n",
    "- 分支结构基本语法\n",
    "         if 条件表达式：\n",
    "            语句1\n",
    "            语句2\n",
    "            ...."
   ]
  },
  {
   "cell_type": "code",
   "execution_count": 66,
   "metadata": {},
   "outputs": [
    {
     "name": "stdout",
     "output_type": "stream",
     "text": [
      "上网去\n",
      "耍起来\n",
      "baibai\n",
      "see you\n"
     ]
    }
   ],
   "source": [
    "#分支结构案例\n",
    "age = 18\n",
    "if age > 15:\n",
    "    print(\"上网去\")\n",
    "    print(\"耍起来\")\n",
    "print(\"baibai\")\n",
    "\n",
    "age = 14\n",
    "if age > 15:\n",
    "    print(\"上网去\")\n",
    "    print(\"耍起来\")\n",
    "print(\"see you\")"
   ]
  },
  {
   "cell_type": "markdown",
   "metadata": {},
   "source": [
    "# 双分支结构\n",
    " - 双分支结构基本语法\n",
    "        if 条件表达式：\n",
    "          语句1\n",
    "          语句2\n",
    "          ....\n",
    "        else：\n",
    "          语句1\n",
    "          语句2\n",
    "          ...."
   ]
  },
  {
   "cell_type": "code",
   "execution_count": 1,
   "metadata": {},
   "outputs": [
    {
     "name": "stdout",
     "output_type": "stream",
     "text": [
      "请输入你的性别男\n",
      "男\n",
      "走喝酒去\n"
     ]
    }
   ],
   "source": [
    "#input输入的类型全部为字符串类型\n",
    "#双分支结构案例\n",
    "sex = input(\"请输入你的性别\")\n",
    "#打印输入的\n",
    "print(sex)\n",
    "if sex == \"男\":\n",
    "    print(\"走喝酒去\")\n",
    "else:\n",
    "    print(\"拜拜\")"
   ]
  },
  {
   "cell_type": "markdown",
   "metadata": {},
   "source": [
    "# 多路分支\n",
    "- 很多分支的情况，就叫做多路分支\n",
    "          if 条件表达式：\n",
    "              语句1\n",
    "              ...\n",
    "          elif 条件表达式：\n",
    "              语句\n",
    "              ....\n",
    "          elif 条件表达式：\n",
    "              语句\n",
    "              ...\n",
    "          else：\n",
    "              语句\n",
    "              ...\n",
    "- elif可以有好多个\n",
    "- else可选\n",
    "- 多路分支最多只能执行一种情况\n",
    "# if语句补充\n",
    "- if语句可以嵌套使用，不推荐，逻辑很混乱"
   ]
  },
  {
   "cell_type": "markdown",
   "metadata": {},
   "source": [
    "# 循环语句\n",
    "- 重复执行某一个固定的动作或者任务\n",
    "- 分类\n",
    "    - for\n",
    "    - while\n",
    "# for循环\n",
    "- 语法\n",
    "      for 变量 in 序列：\n",
    "          语句1\n",
    "          语句2\n",
    "          ...."
   ]
  },
  {
   "cell_type": "code",
   "execution_count": 4,
   "metadata": {},
   "outputs": [
    {
     "name": "stdout",
     "output_type": "stream",
     "text": [
      "1\n",
      "2\n",
      "3\n",
      "4\n",
      "5\n",
      "6\n",
      "7\n"
     ]
    }
   ],
   "source": [
    "#比如[1,2,3,4,5,6,7]\n",
    "\n",
    "list_one = [1,2,3,4,5,6,7]\n",
    "\n",
    "for shuzi in list_one:\n",
    "    print(shuzi)"
   ]
  },
  {
   "cell_type": "code",
   "execution_count": 9,
   "metadata": {},
   "outputs": [
    {
     "name": "stdout",
     "output_type": "stream",
     "text": [
      "lianghao\n",
      "lianghao\n",
      "youxiu\n"
     ]
    }
   ],
   "source": [
    "#打印学生列表姓名\n",
    "#如果打印出小明就显示优秀\n",
    "#其他就显示出良好\n",
    "\n",
    "name_list = ['小红','小刚','小明']\n",
    "\n",
    "for name in name_list:\n",
    "    if name == \"小明\":\n",
    "        print(\"youxiu\")\n",
    "    else:\n",
    "        print(\"lianghao\")"
   ]
  },
  {
   "cell_type": "markdown",
   "metadata": {},
   "source": [
    "# for- else语句\n",
    "- for循环结束后需要一些收尾工作，此时用到了else\n",
    "- else是可选的"
   ]
  },
  {
   "cell_type": "code",
   "execution_count": 11,
   "metadata": {},
   "outputs": [
    {
     "name": "stdout",
     "output_type": "stream",
     "text": [
      "lianghao\n",
      "lianghao\n",
      "youxiu\n",
      "好好学习\n"
     ]
    }
   ],
   "source": [
    "#打印学生列表姓名\n",
    "#如果打印出小明就显示优秀\n",
    "#其他就显示出良好，最后鼓励他们好好学习\n",
    "\n",
    "name_list = ['小红','小刚','小明']\n",
    "\n",
    "for name in name_list:\n",
    "    if name == \"小明\":\n",
    "        print(\"youxiu\")\n",
    "    else:\n",
    "        print(\"lianghao\")\n",
    "else:\n",
    "    print(\"好好学习\")"
   ]
  },
  {
   "cell_type": "markdown",
   "metadata": {},
   "source": [
    "# break，continue，pass\n",
    "- break无条件结束整个循环简称循环猝死\n",
    "- continue：结束本层循环，继续执行下一层循环\n",
    "- pass知识一个占位符，代表这句话啥也不敢没有跳过功能"
   ]
  },
  {
   "cell_type": "code",
   "execution_count": 14,
   "metadata": {},
   "outputs": [
    {
     "name": "stdout",
     "output_type": "stream",
     "text": [
      "5\n",
      "2\n",
      "8\n",
      "9\n",
      "9\n",
      "yes\n"
     ]
    }
   ],
   "source": [
    "#确定一个数字队列里面是否包含7\n",
    "#确定是否包含只要找到一个即可，不需要继续往下找了\n",
    "bag_lsit = [5,2,8,9,9,7,5,55,77,455]\n",
    "\n",
    "for bag in bag_lsit:\n",
    "    if bag == 7:\n",
    "        print(\"yes\")\n",
    "        break\n",
    "    else:\n",
    "        print(bag)"
   ]
  },
  {
   "cell_type": "code",
   "execution_count": 18,
   "metadata": {},
   "outputs": [
    {
     "name": "stdout",
     "output_type": "stream",
     "text": [
      "2\n",
      "4\n",
      "6\n",
      "8\n",
      "10\n"
     ]
    }
   ],
   "source": [
    "#continue练习\n",
    "#在数字1-10中找到所有偶数并打印出来\n",
    "#案例一\n",
    "big_list = [1,2,3,4,5,6,7,8,9,10]\n",
    "for big in big_list:\n",
    "    if big % 2 == 0:\n",
    "        print(big)\n",
    "    else:\n",
    "        continue\n",
    "#continue 结束本轮循环进入下次循环"
   ]
  },
  {
   "cell_type": "code",
   "execution_count": 2,
   "metadata": {},
   "outputs": [],
   "source": [
    "#pass案例\n",
    "age = 20\n",
    "if age > 19:\n",
    "    pass\n",
    "else:\n",
    "    print(\"你还小\")"
   ]
  },
  {
   "cell_type": "markdown",
   "metadata": {},
   "source": [
    "# whlie循环\n",
    "- 一个循环语句\n",
    "- 表示当条件成立的时候就循环，适应于不知道具体循环次数的，但能确定在某个条件成立的情况下就循环\n",
    "- whlie语法\n",
    "       whlie 条件表达式：\n",
    "           语句块\n",
    "  #另一种表达方法\n",
    "       while 条件表达式：\n",
    "           语句块\n",
    "       else：\n",
    "           语句块"
   ]
  },
  {
   "cell_type": "code",
   "execution_count": 3,
   "metadata": {},
   "outputs": [
    {
     "name": "stdout",
     "output_type": "stream",
     "text": [
      "11\n"
     ]
    }
   ],
   "source": [
    "#while循环案例\n",
    "#年利率6.7% ，本利每年翻滚，本金10000多少年可以翻番\n",
    "benjin = 10000\n",
    "nian = 0\n",
    "while benjin < 20000:\n",
    "    benjin = (1 + 0.067) * benjin\n",
    "    nian += 1\n",
    "\n",
    "print(nian)"
   ]
  }
 ],
 "metadata": {
  "kernelspec": {
   "display_name": "Python 3",
   "language": "python",
   "name": "python3"
  },
  "language_info": {
   "codemirror_mode": {
    "name": "ipython",
    "version": 3
   },
   "file_extension": ".py",
   "mimetype": "text/x-python",
   "name": "python",
   "nbconvert_exporter": "python",
   "pygments_lexer": "ipython3",
   "version": "3.7.3"
  }
 },
 "nbformat": 4,
 "nbformat_minor": 2
}
