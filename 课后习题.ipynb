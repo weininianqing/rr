{
 "cells": [
  {
   "cell_type": "code",
   "execution_count": 4,
   "metadata": {},
   "outputs": [
    {
     "name": "stdout",
     "output_type": "stream",
     "text": [
      "请输入一个整数：5\n",
      "25\n"
     ]
    }
   ],
   "source": [
    "#输入一个数，输出这个数的平方\n",
    "num = int(input(\"请输入一个整数：\"))\n",
    "print(num ** 2)"
   ]
  },
  {
   "cell_type": "code",
   "execution_count": null,
   "metadata": {},
   "outputs": [],
   "source": [
    "#输入三个整数放入列表，输出最小值\n",
    "l = list()\n",
    "for i in range(1,4):\n",
    "    num = int(input(\"请输入一个整数：\"))\n",
    "        \n",
    "    l.append(num)\n",
    "\n",
    "\n",
    "\n",
    "\n",
    "\n",
    "print(min(l))\n"
   ]
  },
  {
   "cell_type": "code",
   "execution_count": null,
   "metadata": {},
   "outputs": [],
   "source": [
    "# 编程实现用户输入5个整数，并得到列表[0,1,2,3,4],然后用两种切片方法取出列表的【1，3】并输出\n",
    "l1 = list()\n",
    "l4 = list()\n",
    "for i in range(0,5):\n",
    "    l2 = l1.append(i)\n",
    "    num = int(input(\"请输入一个整数：\"))\n",
    "    #l3 = l4.append(num)\n",
    "print(l1[1:4:2])\n",
    "l5 = l1[3:0:-2]\n",
    "l5.reverse()\n",
    "print(l5)\n",
    "#print(l3)"
   ]
  },
  {
   "cell_type": "code",
   "execution_count": 12,
   "metadata": {},
   "outputs": [
    {
     "name": "stdout",
     "output_type": "stream",
     "text": [
      "{'a': 1, 'b': 2}\n",
      "{'a': 1, 'b': 2}\n",
      "{'a': 1, 'b': 2}\n",
      "{'a': 1, 'b': 2, 'c': 3}\n"
     ]
    }
   ],
   "source": [
    "dic = {\"a\":1,\"b\":2}\n",
    "print(dic)\n",
    "dic = dict([(\"a\",1),(\"b\",2)])\n",
    "print(dic)\n",
    "dic =dict(a=1,b=2)\n",
    "print(dic)\n",
    "dic.setdefault(\"c\",3)\n",
    "print(dic)"
   ]
  },
  {
   "cell_type": "code",
   "execution_count": 12,
   "metadata": {},
   "outputs": [
    {
     "name": "stdout",
     "output_type": "stream",
     "text": [
      "请输入分数：77\n",
      "请输入分数：88\n",
      "请输入分数：99\n",
      "[77, 88, 99]\n",
      "<class 'list'>\n"
     ]
    },
    {
     "ename": "TypeError",
     "evalue": "'int' object is not callable",
     "output_type": "error",
     "traceback": [
      "\u001b[1;31m---------------------------------------------------------------------------\u001b[0m",
      "\u001b[1;31mTypeError\u001b[0m                                 Traceback (most recent call last)",
      "\u001b[1;32m<ipython-input-12-a7b636e8b7f8>\u001b[0m in \u001b[0;36m<module>\u001b[1;34m\u001b[0m\n\u001b[0;32m      8\u001b[0m \u001b[0mprint\u001b[0m\u001b[1;33m(\u001b[0m\u001b[0ma\u001b[0m\u001b[1;33m)\u001b[0m\u001b[1;33m\u001b[0m\u001b[1;33m\u001b[0m\u001b[0m\n\u001b[0;32m      9\u001b[0m \u001b[0mprint\u001b[0m\u001b[1;33m(\u001b[0m\u001b[0mtype\u001b[0m\u001b[1;33m(\u001b[0m\u001b[0ma\u001b[0m\u001b[1;33m)\u001b[0m\u001b[1;33m)\u001b[0m\u001b[1;33m\u001b[0m\u001b[1;33m\u001b[0m\u001b[0m\n\u001b[1;32m---> 10\u001b[1;33m \u001b[0msum\u001b[0m\u001b[1;33m(\u001b[0m\u001b[0ma\u001b[0m\u001b[1;33m)\u001b[0m\u001b[1;33m\u001b[0m\u001b[1;33m\u001b[0m\u001b[0m\n\u001b[0m\u001b[0;32m     11\u001b[0m \u001b[0mprint\u001b[0m\u001b[1;33m(\u001b[0m\u001b[0msum\u001b[0m\u001b[1;33m(\u001b[0m\u001b[0ma\u001b[0m\u001b[1;33m)\u001b[0m\u001b[1;33m)\u001b[0m\u001b[1;33m\u001b[0m\u001b[1;33m\u001b[0m\u001b[0m\n",
      "\u001b[1;31mTypeError\u001b[0m: 'int' object is not callable"
     ]
    }
   ],
   "source": [
    "#输入某科目排名前十的分数，求总分和平均分\n",
    "a = list()\n",
    "\n",
    "for i in range(1,4):\n",
    "    num = int(input(\"请输入分数：\"))\n",
    "    \n",
    "    a.append(num)\n",
    "print(a)\n",
    "print(type(a))\n",
    "sum(a)\n",
    "print(sum(a))\n"
   ]
  },
  {
   "cell_type": "code",
   "execution_count": 1,
   "metadata": {},
   "outputs": [
    {
     "name": "stdout",
     "output_type": "stream",
     "text": [
      "6\n"
     ]
    }
   ],
   "source": [
    "l2 = [1,2,3]\n",
    "sum(l2)\n",
    "print(sum(l2))"
   ]
  },
  {
   "cell_type": "code",
   "execution_count": 3,
   "metadata": {},
   "outputs": [
    {
     "name": "stdout",
     "output_type": "stream",
     "text": [
      "wang\n"
     ]
    }
   ],
   "source": [
    "def a(age,name):\n",
    "    print(\"{0}\".format(name))\n",
    "a(18,\"wang\")\n"
   ]
  },
  {
   "cell_type": "code",
   "execution_count": 11,
   "metadata": {},
   "outputs": [
    {
     "name": "stdout",
     "output_type": "stream",
     "text": [
      "asdasd\n"
     ]
    }
   ],
   "source": [
    "class tea():\n",
    "    name = \"xiaodi\"\n",
    "    def wo(self):\n",
    "        print(\"asdasd\")\n",
    "tea.wo(tea)"
   ]
  },
  {
   "cell_type": "code",
   "execution_count": 4,
   "metadata": {},
   "outputs": [
    {
     "name": "stdout",
     "output_type": "stream",
     "text": [
      "dahui\n",
      "mark some moneydahui\n",
      "eeeee\n"
     ]
    }
   ],
   "source": [
    "\n",
    "\n",
    "class person():\n",
    "    name = \"NoName\"\n",
    "    age = 18\n",
    "    \n",
    "    def sleep(self):\n",
    "        print(\"sleeping....\")\n",
    "    def work(self):\n",
    "        print(\"mark some money{0}\".format(self.name))\n",
    "class teacher(person):\n",
    "    teacher_id = \"9527\"\n",
    "    name = \"dahui\"\n",
    "    \n",
    "    def mark_test(self):\n",
    "        print(\"eeeee\")\n",
    "# 老师的工作不只有挣钱还要考试\n",
    "    def work(self):\n",
    "        #扩充父类的功能只需要调用父类相应的函数\n",
    "        #下面例子说明了参数用self和person的区别\n",
    "        person.work(self)#这里的self是teacher的实例t，子类可以冒充父类但是父类一般不可以冒充子类，看下面函数\n",
    "        #另一种扩充父类的方法\n",
    "        #super().work()\n",
    "        self.mark_test()\n",
    "t = teacher()\n",
    "print(t.name)\n",
    "t.work()"
   ]
  },
  {
   "cell_type": "code",
   "execution_count": 1,
   "metadata": {},
   "outputs": [
    {
     "name": "stdout",
     "output_type": "stream",
     "text": [
      "C\n"
     ]
    }
   ],
   "source": [
    "class A():\n",
    "    def __init__(self):\n",
    "        print(\"A\")\n",
    "class B(A):\n",
    "    pass\n",
    "class C(A):\n",
    "    def __init__(self):\n",
    "        print(\"C\")\n",
    "class D(B,C):\n",
    "    pass\n",
    "d = D()"
   ]
  },
  {
   "cell_type": "code",
   "execution_count": 5,
   "metadata": {},
   "outputs": [
    {
     "name": "stdout",
     "output_type": "stream",
     "text": [
      "0\n",
      "1\n",
      "2\n",
      "3\n",
      "4\n"
     ]
    }
   ],
   "source": [
    "n = [1,2,3,4,5]\n",
    "for i in range(len(n)):\n",
    "    print(i)"
   ]
  },
  {
   "cell_type": "code",
   "execution_count": 8,
   "metadata": {},
   "outputs": [
    {
     "name": "stdout",
     "output_type": "stream",
     "text": [
      "0 6\n",
      "1 7\n",
      "2 8\n",
      "3 9\n",
      "<class 'enumerate'>\n"
     ]
    }
   ],
   "source": [
    "m = [6,7,8,9]\n",
    "for i,j in enumerate(m):\n",
    "    print(i,j)\n",
    "print(type(enumerate(m)))"
   ]
  },
  {
   "cell_type": "code",
   "execution_count": 4,
   "metadata": {},
   "outputs": [
    {
     "name": "stdout",
     "output_type": "stream",
     "text": [
      "A->C\n"
     ]
    }
   ],
   "source": [
    "a = 'A'\n",
    "b = 'B'\n",
    "c = 'C'\n",
    "def hano(a,b,c,n):\n",
    "    if n == 1:\n",
    "        print(\"{}->{}\".format(a,c))\n",
    "    elif n == 2:\n",
    "        print(\"{}->{}\".format(a,b))\n",
    "        print(\"{}->{}\".format(a,c))\n",
    "        \n",
    "        print(\"{}->{}\".format(b,c))\n",
    "    else:   \n",
    "        hano(a,c,b,n-1)\n",
    "        hano(a,b,c,1)\n",
    "        han(b,a,c,n-1)\n",
    "    \n",
    "hano(a,b,c,1)"
   ]
  }
 ],
 "metadata": {
  "kernelspec": {
   "display_name": "Python 3",
   "language": "python",
   "name": "python3"
  },
  "language_info": {
   "codemirror_mode": {
    "name": "ipython",
    "version": 3
   },
   "file_extension": ".py",
   "mimetype": "text/x-python",
   "name": "python",
   "nbconvert_exporter": "python",
   "pygments_lexer": "ipython3",
   "version": "3.7.3"
  }
 },
 "nbformat": 4,
 "nbformat_minor": 2
}
