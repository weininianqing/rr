{
 "cells": [
  {
   "cell_type": "markdown",
   "metadata": {},
   "source": [
    "## string模块 "
   ]
  },
  {
   "cell_type": "markdown",
   "metadata": {},
   "source": [
    "    len() 方法返回对象（字符、列表、元组等）长度或项目个数。 \n",
    "    len = len(str1) \n",
    "    eval() 函数用来执行一个字符串表达式，并返回表达式的值。 \n",
    "    string.lower() 转换 string 中所有大写字符为小写. \n",
    "    string.upper() 转换 string 中的小写字母为大写 \n",
    "    string.swapcase() 翻转 string 中的大小写 \n",
    "    string.capitalize() 把字符串的第一个字符大写 \n",
    "    string.title() 返回”标题化”的 string,就是说所有单词都是以大写开始，其余字母均为小写(见 istitle()) \n",
    "    string.center(width) 返回一个原字符串居中,并使用空格填充至长度 width 的新字符串 \n",
    "    string.ljust(width) 返回一个原字符串左对齐,并使用空格填充至长度 width 的新字符串 \n",
    "    string.rjust(width) 返回一个原字符串右对齐,并使用空格填充至长度 width 的新字符串 \n",
    "    string.zfill(width) 返回长度为 width 的字符串，原字符串 string 右对齐，前面填充0 \n",
    "    string.count(str, beg=0, end=len(string)) 返回 str 在 string 里面出现的次数，如果 beg 或者 end 指定则返回指定范围内 str 出现的次数 \n",
    "    string.find(str, beg=0, end=len(string)) 检测 str 是否包含在 string 中，如果 beg 和 end 指定范围，则检查是否包含在指定范围内，如果是返回开始的索引值，否则返回-1 \n",
    "    string.index(str, beg=0, end=len(string)) 跟find()方法一样，只不过如果str不在 string中会报一个异常. \n",
    "    string.rindex( str, beg=0,end=len(string))类似于 index()，不过是从右边开始. \n",
    "    string.lstrip() 截掉字符串左侧指定的字符，默认为空格 \n",
    "    string.rstrip() 截掉字符串右侧指定的字符，默认为空格 \n",
    "    string.strip([obj])在 string 上执行 lstrip()和 rstrip() \n",
    "    chr() 用一个范围在 range（256）内的（就是0～255）整数作参数，返回一个对应的字符。 \n",
    "    ord() 将一个ascall字符转换为对应的数字 \n",
    "    字符串拆分为列表用string.split(“参数”) 参数为拆分的标志，默认为空格，也可以使用换行符等自己需要的字符\n",
    "\n",
    "\n",
    "    --------------------- \n",
    "    作者：DawN、 \n",
    "    来源：CSDN \n",
    "    原文：https://blog.csdn.net/lmxt520/article/details/79824520 \n",
    "    版权声明：本文为博主原创文章，转载请附上博文链接！"
   ]
  },
  {
   "cell_type": "markdown",
   "metadata": {},
   "source": [
    "#  math模块"
   ]
  },
  {
   "cell_type": "markdown",
   "metadata": {},
   "source": [
    "            ceil:取大于等于x的最小的整数值，如果x是一个整数，则返回x\n",
    "\n",
    "            copysign:把y的正负号加到x前面，可以使用0\n",
    "\n",
    "            cos:求x的余弦，x必须是弧度\n",
    "\n",
    "            degrees:把x从弧度转换成角度\n",
    "\n",
    "            e:表示一个常量\n",
    "\n",
    "            exp:返回math.e,也就是2.71828的x次方\n",
    "\n",
    "            expm1:返回math.e的x(其值为2.71828)次方的值减１\n",
    "\n",
    "            fabs:返回x的绝对值\n",
    "\n",
    "            factorial:取x的阶乘的值\n",
    "\n",
    "            floor:取小于等于x的最大的整数值，如果x是一个整数，则返回自身\n",
    "\n",
    "            fmod:得到x/y的余数，其值是一个浮点数\n",
    "\n",
    "            frexp:返回一个元组(m,e),其计算方式为：x分别除0.5和1,得到一个值的范围\n",
    "\n",
    "            fsum:对迭代器里的每个元素进行求和操作\n",
    "\n",
    "            gcd:返回x和y的最大公约数\n",
    "\n",
    "            hypot:如果x是不是无穷大的数字,则返回True,否则返回False\n",
    "\n",
    "            isfinite:如果x是正无穷大或负无穷大，则返回True,否则返回False\n",
    "\n",
    "            isinf:如果x是正无穷大或负无穷大，则返回True,否则返回False\n",
    "\n",
    "            isnan:如果x不是数字True,否则返回False\n",
    "\n",
    "            ldexp:返回x*(2**i)的值\n",
    "\n",
    "            log:返回x的自然对数，默认以e为基数，base参数给定时，将x的对数返回给定的base,计算式为：log(x)/log(base)\n",
    "\n",
    "            log10:返回x的以10为底的对数\n",
    "\n",
    "            log1p:返回x+1的自然对数(基数为e)的值\n",
    "\n",
    "            log2:返回x的基2对数\n",
    "\n",
    "            modf:返回由x的小数部分和整数部分组成的元组\n",
    "\n",
    "            pi:数字常量，圆周率\n",
    "\n",
    "            pow:返回x的y次方，即x**y\n",
    "\n",
    "            radians:把角度x转换成弧度\n",
    "\n",
    "            sin:求x(x为弧度)的正弦值\n",
    "\n",
    "            sqrt:求x的平方根\n",
    "\n",
    "            tan:返回x(x为弧度)的正切值\n",
    "\n",
    "            trunc:返回x的整数部分"
   ]
  },
  {
   "cell_type": "code",
   "execution_count": null,
   "metadata": {},
   "outputs": [],
   "source": []
  }
 ],
 "metadata": {
  "kernelspec": {
   "display_name": "Python 3",
   "language": "python",
   "name": "python3"
  },
  "language_info": {
   "codemirror_mode": {
    "name": "ipython",
    "version": 3
   },
   "file_extension": ".py",
   "mimetype": "text/x-python",
   "name": "python",
   "nbconvert_exporter": "python",
   "pygments_lexer": "ipython3",
   "version": "3.7.3"
  }
 },
 "nbformat": 4,
 "nbformat_minor": 2
}
