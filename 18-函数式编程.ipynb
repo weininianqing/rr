{
 "cells": [
  {
   "cell_type": "markdown",
   "metadata": {},
   "source": [
    "## filter 函数\n",
    "- 过滤函数：对一组数据进行过滤，符合条件的数据会生成一个新的列表并返回\n",
    "- 跟map比较：\n",
    "   - 相同：都对列表的每一个元素逐一进行操作\n",
    "   - 不同：\n",
    "       - map会生成一个跟原来数据相对应的新队列\n",
    "       - filter不一定，只要符合条件的才会进入新的数据集合\n",
    "   - filter函数怎么写：\n",
    "       - 利用给定函数进行判断\n",
    "       - 返回值一定是个布尔值\n",
    "       - 调用格式：filter(f,data)f是过滤函数，data是数据\n",
    "       \n",
    "       "
   ]
  },
  {
   "cell_type": "code",
   "execution_count": 11,
   "metadata": {
    "scrolled": true
   },
   "outputs": [
    {
     "name": "stdout",
     "output_type": "stream",
     "text": [
      "[4564, 54, 4, 56, 4, 4, 4, 6, 4]\n"
     ]
    }
   ],
   "source": [
    "# filter 案例\n",
    "\n",
    "#需要定义过滤函数\n",
    "#过滤函数要求输入，返回布尔值\n",
    "\n",
    "def isEven(a):\n",
    "    return a % 2 == 0\n",
    "l = [4564,5,54,545,4,56,4,5,65,4,5,4,6,4]\n",
    "b = filter(isEven,l)\n",
    "print([i for i in b])\n",
    "    \n"
   ]
  },
  {
   "cell_type": "markdown",
   "metadata": {},
   "source": [
    "### 高阶函数-排序\n",
    "- 把一个序列按照给定算法进行排序\n",
    "- key：在排序前对每一个元素进行key函数运算，可以理解成按照key函数定义的逻辑进行排序\n",
    "- Python2和Python3不同"
   ]
  },
  {
   "cell_type": "code",
   "execution_count": 14,
   "metadata": {},
   "outputs": [
    {
     "name": "stdout",
     "output_type": "stream",
     "text": [
      "[54, 54, 54, 54, 5, 5, 5, 5, 5, 4, 4, 4, 4]\n"
     ]
    }
   ],
   "source": [
    "#排序案例\n",
    "a = [5,4,54,54,54,5,4,54,5,4,5,4,5]\n",
    "a1 = sorted(a,reverse=True)\n",
    "print(a1)"
   ]
  },
  {
   "cell_type": "code",
   "execution_count": 17,
   "metadata": {},
   "outputs": [
    {
     "name": "stdout",
     "output_type": "stream",
     "text": [
      "[-888, -415, 56, 6, 6, -5]\n"
     ]
    }
   ],
   "source": [
    "# 排序案例2\n",
    "a = [-888,6,6,-415,-5,56]\n",
    "#按照绝对值进行排序\n",
    "#abs是求绝对值的意思\n",
    "al = sorted(a,key=abs,reverse = True)\n",
    "\n",
    "print(al)"
   ]
  },
  {
   "cell_type": "code",
   "execution_count": 20,
   "metadata": {},
   "outputs": [
    {
     "name": "stdout",
     "output_type": "stream",
     "text": [
      "['Dahui', 'Xiaojia', 'dadasd', 'woaini']\n",
      "['dadasd', 'Dahui', 'woaini', 'Xiaojia']\n"
     ]
    }
   ],
   "source": [
    "#sorted 案例\n",
    "\n",
    "astr = [\"Xiaojia\",\"Dahui\",\"woaini\",\"dadasd\"]\n",
    "print(sorted(astr))\n",
    "\n",
    "a = sorted(astr,key = str.lower)#转成小写排序但是输出的还是原来的字符串，只是一种方式没有改变字符串的值\n",
    "print(a)"
   ]
  },
  {
   "cell_type": "markdown",
   "metadata": {},
   "source": [
    "# 返回函数\n",
    "- 函数可以返回具体值\n",
    "- 也可以返回一个函数作为返回结果\n"
   ]
  },
  {
   "cell_type": "code",
   "execution_count": 11,
   "metadata": {},
   "outputs": [
    {
     "name": "stdout",
     "output_type": "stream",
     "text": [
      "2\n"
     ]
    },
    {
     "ename": "TypeError",
     "evalue": "'int' object is not callable",
     "output_type": "error",
     "traceback": [
      "\u001b[1;31m---------------------------------------------------------------------------\u001b[0m",
      "\u001b[1;31mTypeError\u001b[0m                                 Traceback (most recent call last)",
      "\u001b[1;32m<ipython-input-11-0871a1e2269d>\u001b[0m in \u001b[0;36m<module>\u001b[1;34m\u001b[0m\n\u001b[0;32m      7\u001b[0m    \u001b[1;32mreturn\u001b[0m \u001b[0mf1\u001b[0m\u001b[1;33m(\u001b[0m\u001b[1;33m)\u001b[0m\u001b[1;33m\u001b[0m\u001b[1;33m\u001b[0m\u001b[0m\n\u001b[0;32m      8\u001b[0m \u001b[0ma\u001b[0m \u001b[1;33m=\u001b[0m \u001b[0mf2\u001b[0m\u001b[1;33m(\u001b[0m\u001b[1;33m)\u001b[0m\u001b[1;31m#把函数f2的返回值赋给了a这是a 就是函数f1的名称\u001b[0m\u001b[1;33m\u001b[0m\u001b[1;33m\u001b[0m\u001b[0m\n\u001b[1;32m----> 9\u001b[1;33m \u001b[0ma\u001b[0m\u001b[1;33m(\u001b[0m\u001b[1;33m)\u001b[0m\u001b[1;33m\u001b[0m\u001b[1;33m\u001b[0m\u001b[0m\n\u001b[0m\u001b[0;32m     10\u001b[0m \u001b[1;31m#\u001b[0m\u001b[1;33m\u001b[0m\u001b[1;33m\u001b[0m\u001b[1;33m\u001b[0m\u001b[0m\n",
      "\u001b[1;31mTypeError\u001b[0m: 'int' object is not callable"
     ]
    }
   ],
   "source": [
    " #函数作为返回值返回，被返回的函数在函数体内定义\n",
    "def f2():\n",
    "    def f1():\n",
    "        \n",
    "        return 2\n",
    "    print(f1())\n",
    "    return f1()\n",
    "a = f2()#把函数f2的返回值赋给了a这是a 就是函数f1的名称\n",
    "a\n",
    "# "
   ]
  },
  {
   "cell_type": "code",
   "execution_count": 27,
   "metadata": {},
   "outputs": [
    {
     "data": {
      "text/plain": [
       "20"
      ]
     },
     "execution_count": 27,
     "metadata": {},
     "output_type": "execute_result"
    }
   ],
   "source": [
    "#完善一点的返回函数的例子\n",
    "#args：参数列表\n",
    "def f4(*arge):\n",
    "    def f5():\n",
    "        num = 0\n",
    "        for i in arge:\n",
    "            num = num + i\n",
    "        return num\n",
    "    return f5\n",
    "b = f4(1,2,4,5,3,5)# b = f4(1,2,4,5,3,5)=f5\n",
    "b()#相当于调用的是f5()"
   ]
  },
  {
   "cell_type": "markdown",
   "metadata": {},
   "source": [
    "# 闭包（closure）\n",
    "- 当一个函数在内部定义函数，并且内部的函数应用于外部函数的参数或者局部变量，当内部函数作为返回值的时候，相关参数和变量保存在返回的函数中，这种结果叫做闭包\n",
    "- 上面的f4就是标准的闭包\n"
   ]
  },
  {
   "cell_type": "code",
   "execution_count": 12,
   "metadata": {},
   "outputs": [
    {
     "name": "stdout",
     "output_type": "stream",
     "text": [
      "9\n",
      "9\n",
      "9\n"
     ]
    }
   ],
   "source": [
    "# 闭包常见的坑\n",
    "def count():\n",
    "    fs = []\n",
    "    for i in range(1,4):\n",
    "        def f():\n",
    "            return i*i\n",
    "        fs.append(f)#这里相当于吧f函数给加了进去\n",
    "    return fs\n",
    "a1,a2,a3 = count()#这里实际上在fs列表里面存放的是[f,f,f]\n",
    "print(a1())#这里才是真正的调用了f函数\n",
    "print(a2())\n",
    "print(a3())"
   ]
  },
  {
   "cell_type": "code",
   "execution_count": 40,
   "metadata": {},
   "outputs": [
    {
     "name": "stdout",
     "output_type": "stream",
     "text": [
      "1\n",
      "4\n",
      "9\n"
     ]
    }
   ],
   "source": [
    "# 闭包常见的坑,解决\n",
    "def count():\n",
    "    fs = []\n",
    "    for i in range(1,4):\n",
    "        def f():\n",
    "            return i*i\n",
    "        fs.append(f())#这里相当于调用了函数f，等于这里执行了i*i\n",
    "    return fs\n",
    "a1,a2,a3 = count()\n",
    "print(a1)\n",
    "print(a2)\n",
    "print(a3)"
   ]
  },
  {
   "cell_type": "markdown",
   "metadata": {},
   "source": [
    "### 出现的问题：\n",
    "- 造成上述的原因是，返回函数引用了变量i，i并非立即执行，而是等到循环完事的时候fs里面存的f函数调用的时候才执行，这时候i是3所以返回的就是3*3\n",
    "- 此问题描述：返回闭包时，返回函数不能引用任何循环变量\n",
    "- 解决方案：在创建一个函数，用该函数的参数绑定循环变量的当前值，无论该循环变量以后如何改变，已经绑定的函数数值不在改变\n"
   ]
  },
  {
   "cell_type": "code",
   "execution_count": 13,
   "metadata": {},
   "outputs": [
    {
     "name": "stdout",
     "output_type": "stream",
     "text": [
      "1\n",
      "4\n",
      "9\n"
     ]
    }
   ],
   "source": [
    "# 修改上述函数\n",
    "def count1():\n",
    "    def f1(j):\n",
    "        def f2():\n",
    "            return j*j\n",
    "        return f2\n",
    "    fs = []\n",
    "    for i in range(1,4):\n",
    "        fs.append(f1(i))#这里这时是向fs列表里面添加了一个f1(i)的一个函数也是但是值是固定的\n",
    "    return fs#这时返回的fs列表的内容应该是[f1(1),f1(2),f1(3)]\n",
    "a1,a2,a3 = count1()\n",
    "print(a1())\n",
    "print(a2())\n",
    "print(a3())"
   ]
  },
  {
   "cell_type": "markdown",
   "metadata": {},
   "source": [
    "# 装饰器 "
   ]
  },
  {
   "cell_type": "code",
   "execution_count": 1,
   "metadata": {},
   "outputs": [
    {
     "name": "stdout",
     "output_type": "stream",
     "text": [
      "hello word\n"
     ]
    }
   ],
   "source": [
    "def hello():\n",
    "    print(\"hello word\")\n",
    "hello()"
   ]
  },
  {
   "cell_type": "code",
   "execution_count": 2,
   "metadata": {},
   "outputs": [
    {
     "name": "stdout",
     "output_type": "stream",
     "text": [
      "hello word\n",
      "hello\n",
      "hello\n"
     ]
    }
   ],
   "source": [
    "\n",
    "f = hello\n",
    "f()\n",
    "print(f.__name__)\n",
    "print(hello.__name__)"
   ]
  },
  {
   "cell_type": "code",
   "execution_count": 3,
   "metadata": {},
   "outputs": [],
   "source": [
    "#现在有新的需求\n",
    "#在对hello扩展，每次打印hello之前打印出当前系统时间\n",
    "#而实现这个功能又不能改动当前代码\n",
    "#》》使用装饰器"
   ]
  },
  {
   "cell_type": "markdown",
   "metadata": {},
   "source": [
    "### 装饰器\n",
    "- 在不改动函数代码的基础上无限制扩展函数功能的一种机制，本质上讲，装饰器是一个返回函数的高阶函数\n",
    "- 装饰器的使用：使用@语法，即在每次要扩展的函数定义前使用@+函数名"
   ]
  },
  {
   "cell_type": "code",
   "execution_count": 4,
   "metadata": {},
   "outputs": [],
   "source": [
    "#任务\n",
    "#在函数hello进行功能扩展，每次执行函数hello打印当前时间\n",
    "import time\n",
    "#高阶函数，以函数作为参数\n",
    "def aa(f):\n",
    "    def tt(*arge,**kwargs):\n",
    "        print(\"time: \",time.ctime())\n",
    "        return f(*arge,**kwargs)\n",
    "    return tt\n"
   ]
  },
  {
   "cell_type": "code",
   "execution_count": 6,
   "metadata": {},
   "outputs": [
    {
     "name": "stdout",
     "output_type": "stream",
     "text": [
      "time:  Wed Jul 24 14:54:43 2019\n",
      "hello word\n"
     ]
    }
   ],
   "source": [
    "# 上面定义了装饰器，使用的时候需要用到@，此符号是Python的语法糖\n",
    "@aa\n",
    "def hello():\n",
    "    print(\"hello word\")\n",
    "hello()"
   ]
  },
  {
   "cell_type": "code",
   "execution_count": 51,
   "metadata": {},
   "outputs": [],
   "source": [
    "# 装饰器的好处 ，一旦定义，则可以修饰任何函数\n",
    "#一旦被其装饰，则把装饰器的功能直接添加到定义函数功能上\n"
   ]
  },
  {
   "cell_type": "code",
   "execution_count": 9,
   "metadata": {},
   "outputs": [
    {
     "name": "stdout",
     "output_type": "stream",
     "text": [
      "手动执行\n",
      "time:  Thu May 30 14:09:19 2019\n",
      "手动执行\n",
      "time:  Thu May 30 14:09:19 2019\n",
      "time:  Thu May 30 14:09:19 2019\n",
      "手动执行\n",
      "time:  Thu May 30 14:09:19 2019\n",
      "time:  Thu May 30 14:09:19 2019\n",
      "time:  Thu May 30 14:09:19 2019\n",
      "手动执行\n"
     ]
    }
   ],
   "source": [
    "#上面对函数的装饰使用了系统定义的语法糖\n",
    "#下面手动执行下装饰器\n",
    "#先定义函数\n",
    "def hello3():\n",
    "    print(\"手动执行\")\n",
    "hello3()\n",
    "\n",
    "hello3 = aa(hello3)\n",
    "hello3()# 这里的hello3函数里面的内容多了一个打印当前时间\n",
    "\n",
    "f = aa(hello3)\n",
    "f()\n",
    "\n",
    "d = aa(f)\n",
    "d()"
   ]
  },
  {
   "cell_type": "markdown",
   "metadata": {},
   "source": [
    "# 偏函数 "
   ]
  },
  {
   "cell_type": "code",
   "execution_count": 63,
   "metadata": {},
   "outputs": [
    {
     "data": {
      "text/plain": [
       "5349"
      ]
     },
     "execution_count": 63,
     "metadata": {},
     "output_type": "execute_result"
    }
   ],
   "source": [
    "# 把字符串转化成十进制数字\n",
    "int(\"12345\")\n",
    "\n",
    "# 把八进制的12345转化成十进制的\n",
    "int(\"12345\",base=8)"
   ]
  },
  {
   "cell_type": "code",
   "execution_count": 65,
   "metadata": {},
   "outputs": [
    {
     "data": {
      "text/plain": [
       "4369"
      ]
     },
     "execution_count": 65,
     "metadata": {},
     "output_type": "execute_result"
    }
   ],
   "source": [
    "#新建一个函数，此函数是默认输入的字符串是16进制数字\n",
    "#吧此字符串返回成10进制的\n",
    "def int16(x,base=16):\n",
    "    return int(x,base)\n",
    "int16(\"1111\")"
   ]
  },
  {
   "cell_type": "markdown",
   "metadata": {},
   "source": [
    "## 偏函数\n",
    "- 参数固定的函数，相当于一个由特定参数的函数体\n",
    "- functools.partial的作用是，把一个函数某些函数固定，返回一个新函数"
   ]
  },
  {
   "cell_type": "code",
   "execution_count": 67,
   "metadata": {},
   "outputs": [
    {
     "data": {
      "text/plain": [
       "74565"
      ]
     },
     "execution_count": 67,
     "metadata": {},
     "output_type": "execute_result"
    }
   ],
   "source": [
    "#实现以上int16的功能\n",
    "import functools\n",
    "int16 = functools.partial(int,base=16)\n",
    "int16(\"12345\")\n"
   ]
  }
 ],
 "metadata": {
  "kernelspec": {
   "display_name": "Python 3",
   "language": "python",
   "name": "python3"
  },
  "language_info": {
   "codemirror_mode": {
    "name": "ipython",
    "version": 3
   },
   "file_extension": ".py",
   "mimetype": "text/x-python",
   "name": "python",
   "nbconvert_exporter": "python",
   "pygments_lexer": "ipython3",
   "version": "3.7.3"
  }
 },
 "nbformat": 4,
 "nbformat_minor": 2
}
