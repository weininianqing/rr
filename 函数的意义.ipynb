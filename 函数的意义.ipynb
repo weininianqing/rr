{
 "cells": [
  {
   "cell_type": "markdown",
   "metadata": {},
   "source": [
    "- Python isdigit() 方法检测字符串是否只由数字组成。\n",
    "- random() 方法返回随机生成的一个实数，它在[0,1)范围内。"
   ]
  },
  {
   "cell_type": "markdown",
   "metadata": {},
   "source": [
    "# random的语法\n",
    "- import random\n",
    "\n",
    "  random.random()\n",
    "  注意：random()是不能直接访问的，需要导入 random 模块，然后通过 random 静态对象调用该方法。"
   ]
  },
  {
   "cell_type": "code",
   "execution_count": 2,
   "metadata": {},
   "outputs": [
    {
     "name": "stdout",
     "output_type": "stream",
     "text": [
      "I love wangshaohui\n"
     ]
    }
   ],
   "source": [
    "#capitalize() 首字母大写， 返回字符串\n",
    "s = \"i love wangshaohui\"\n",
    "print(s.capitalize())"
   ]
  },
  {
   "cell_type": "code",
   "execution_count": 5,
   "metadata": {},
   "outputs": [
    {
     "name": "stdout",
     "output_type": "stream",
     "text": [
      "I Love Wangshaohui\n",
      "I 和Love Wangshaohui\n"
     ]
    }
   ],
   "source": [
    "#title 将每个单词的首字母大写，返回字符串\n",
    "s = \"i love wangshaohui\"\n",
    "print(s.title())\n",
    "s = \"i 和love wangshaohui\"\n",
    "print(s.title())"
   ]
  },
  {
   "cell_type": "code",
   "execution_count": 8,
   "metadata": {},
   "outputs": [
    {
     "name": "stdout",
     "output_type": "stream",
     "text": [
      "WANGSHAOHUI\n"
     ]
    }
   ],
   "source": [
    "#upper（）将所有字母变为大写字母,返回字符串\n",
    "\n",
    "a = \"wangshaohui\"\n",
    "print(a.upper())"
   ]
  },
  {
   "cell_type": "code",
   "execution_count": 10,
   "metadata": {},
   "outputs": [
    {
     "name": "stdout",
     "output_type": "stream",
     "text": [
      "wdad\n"
     ]
    }
   ],
   "source": [
    "# lower（） 将所有字母变为小写字母，返回的字符串\n",
    "a = \"WDAD\"\n",
    "print(a.lower())"
   ]
  },
  {
   "cell_type": "code",
   "execution_count": 12,
   "metadata": {},
   "outputs": [
    {
     "name": "stdout",
     "output_type": "stream",
     "text": [
      "wangshao HUI\n"
     ]
    }
   ],
   "source": [
    "#swapcase() 大小写互换返回的字符串\n",
    "e = \"WANGSHAO hui\"\n",
    "print(e.swapcase())\n"
   ]
  },
  {
   "cell_type": "code",
   "execution_count": 25,
   "metadata": {},
   "outputs": [
    {
     "name": "stdout",
     "output_type": "stream",
     "text": [
      "-1\n",
      "1\n",
      "-1\n",
      "3\n"
     ]
    }
   ],
   "source": [
    "#find（） 查找字符串，找不到返回-1,返回索引值\n",
    "#index()查找字符串，找不到报错\n",
    "l = \"daswasdasw\"\n",
    "print(l.find(\"d\",2,6))#从下标2找到下标为5的范围\n",
    "print(l.find(\"a\"))\n",
    "print(l.find(\"r\"))\n",
    "print(l.index(\"w\"))"
   ]
  },
  {
   "cell_type": "markdown",
   "metadata": {},
   "source": [
    "# 关于返回结果是布尔值（bool）的函数"
   ]
  },
  {
   "cell_type": "code",
   "execution_count": 30,
   "metadata": {},
   "outputs": [
    {
     "name": "stdout",
     "output_type": "stream",
     "text": [
      "True\n",
      "True\n"
     ]
    }
   ],
   "source": [
    "#startswith()检测是否以指定字母开头\n",
    "#endswith()检测是否以制定字母结束 \n",
    "s = \"wsangshaohui\"\n",
    "print(s.startswith('w'))\n",
    "print(s.endswith('i'))"
   ]
  },
  {
   "cell_type": "code",
   "execution_count": 56,
   "metadata": {},
   "outputs": [
    {
     "name": "stdout",
     "output_type": "stream",
     "text": [
      "True\n",
      "True\n",
      "False\n",
      "False\n",
      "True\n",
      "False\n"
     ]
    }
   ],
   "source": [
    "#isupper() 检测所有字母是否为大写,返回布尔值\n",
    "s = \"WANG 忘1SHAOHUI\"\n",
    "print(s.isupper())\n",
    "\n",
    "#islower() 检测所有字母是否是小写,返回布尔值\n",
    "s = \"wang 2王shaohui\"\n",
    "print(s.islower())\n",
    "\n",
    "\n",
    "#istitle()检测是否以指定标题显示（每个单词首字母大写）,返回布尔值\n",
    "a = \"Wang shaohui\"\n",
    "print(a.istitle())\n",
    "a = \"Wang王shaohui\"\n",
    "print(a.istitle())\n",
    "\n",
    "#isspace()检测字符串是否是空字符串（字符串都是空格也算空字符串）,返回布尔值\n",
    "\n",
    "a = \"    \"\n",
    "b =\"wwwang\"\n",
    "print(a.isspace())\n",
    "print(b.isspace())"
   ]
  },
  {
   "cell_type": "code",
   "execution_count": 57,
   "metadata": {},
   "outputs": [
    {
     "name": "stdout",
     "output_type": "stream",
     "text": [
      "False\n"
     ]
    }
   ],
   "source": [
    "# isalpha() 检测字符串是否字母组成，返回布尔值，（汉字不影响,数字影响）\n",
    "a = \"wwwwwada12\"\n",
    "print(a.isalpha())"
   ]
  },
  {
   "cell_type": "code",
   "execution_count": 59,
   "metadata": {},
   "outputs": [
    {
     "name": "stdout",
     "output_type": "stream",
     "text": [
      "True\n",
      "True\n",
      "True\n",
      "True\n"
     ]
    }
   ],
   "source": [
    "#isalnum()检测字符串是否由字母加数字组成,返回布尔值(汉字不影响，但是空格不行)\n",
    "s = \"wangshaohui 18\"\n",
    "s1 = \"wangshaohui\"\n",
    "s2 = \"2314\"\n",
    "s3 = \"王绍辉wangshaohui222\"\n",
    "print(s.isalnum())\n",
    "print(s1.isalnum())\n",
    "print(s2.isalnum())\n",
    "print(s3.isalnum())"
   ]
  },
  {
   "cell_type": "code",
   "execution_count": 67,
   "metadata": {},
   "outputs": [
    {
     "name": "stdout",
     "output_type": "stream",
     "text": [
      "False\n",
      "True\n",
      "False\n",
      "----------------------------------------\n",
      "True\n"
     ]
    }
   ],
   "source": [
    "#isdigit()检测字符串是否由数字（包括二进制数）组成(汉字，空格，字母都会影响返回结果)\n",
    "e = \"12321aa\"\n",
    "print(e.isdigit())\n",
    "e1 = b\"111\"\n",
    "print(e1.isdigit())\n",
    "e2 = \"挖222\"\n",
    "print(e2.isdigit())\n",
    "print(\"--\" * 20)\n",
    "#isdecimal()方法检查字符串是否只包含十进制字符。这种方法只存在于unicode对象。\n",
    "#注意:定义一个十进制字符串，只需要在字符串前添加 'u' 前缀即可\n",
    "e3 = \"222\"\n",
    "print(e3.isdecimal())\n",
    "#isnumeric()对于 Unicode 数字、全角数字（双字节）、罗马数字和汉字数字会返回 True ，其他会返回 False。byte数字（单字节）无此方法。"
   ]
  },
  {
   "cell_type": "code",
   "execution_count": 70,
   "metadata": {},
   "outputs": [
    {
     "name": "stdout",
     "output_type": "stream",
     "text": [
      "['锄禾日当午', '汗滴禾下土', '谁知盘中餐', '粒粒皆辛苦']\n"
     ]
    }
   ],
   "source": [
    "#split()用指定字符切割字符串，返回有字符串组成的列表\n",
    "\n",
    "r = \"锄禾日当午*汗滴禾下土*谁知盘中餐*粒粒皆辛苦\"\n",
    "\n",
    "print(r.split(\"*\"))"
   ]
  },
  {
   "cell_type": "code",
   "execution_count": null,
   "metadata": {},
   "outputs": [],
   "source": [
    "#splitlines()以换行切割分割字符\n",
    "\n",
    "t = '''锄禾日当午\\n汗滴禾下土\\n谁知盘中餐\\n粒粒皆辛苦\n",
    "\n",
    "\n",
    "'''"
   ]
  }
 ],
 "metadata": {
  "kernelspec": {
   "display_name": "Python 3",
   "language": "python",
   "name": "python3"
  },
  "language_info": {
   "codemirror_mode": {
    "name": "ipython",
    "version": 3
   },
   "file_extension": ".py",
   "mimetype": "text/x-python",
   "name": "python",
   "nbconvert_exporter": "python",
   "pygments_lexer": "ipython3",
   "version": "3.7.3"
  }
 },
 "nbformat": 4,
 "nbformat_minor": 2
}
