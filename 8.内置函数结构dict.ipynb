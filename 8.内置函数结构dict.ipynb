{
 "cells": [
  {
   "cell_type": "markdown",
   "metadata": {},
   "source": [
    "# dict字典\n",
    "- 字典是一种组合数据，没有顺序的组合数据，数据以键值的形式出现\n"
   ]
  },
  {
   "cell_type": "code",
   "execution_count": 15,
   "metadata": {},
   "outputs": [
    {
     "name": "stdout",
     "output_type": "stream",
     "text": [
      "<class 'dict'>\n",
      "{}\n",
      "{}\n",
      "{'one': 1, 'two': 2, 'three': 3}\n",
      "{'one': 1, 'two': 2, 'three': 3}\n",
      "{'one': 1, 'two': 2, 'three': 3}\n",
      "{'one': 1, 'two': 2, 'three': 3}\n"
     ]
    }
   ],
   "source": [
    "#字典的创建空字典\n",
    "d = {}\n",
    "print(type(d))\n",
    "print(d)\n",
    "\n",
    "d = dict()\n",
    "print(d)\n",
    "\n",
    "\n",
    "#创建有数值的字典，每一组数据用冒号隔开，每一对键值用逗号隔开\n",
    "a = {\"one\":1,\"two\":2,\"three\":3}\n",
    "print(a)\n",
    "1\n",
    "#用dict创建有内容的字典1\n",
    "d = dict({\"one\":1,\"two\":2,\"three\":3})\n",
    "print(d)\n",
    "\n",
    "#用dict创建有内容的字典2,利用关键字参数\n",
    "d = dict(one=1,two=2,three=3)\n",
    "print(d)\n",
    "\n",
    "\n",
    "#利用元组创建字典\n",
    "#用dict创建有内容的字典1\n",
    "d = dict([(\"one\",1),(\"two\",2),(\"three\",3)])\n",
    "print(d)"
   ]
  },
  {
   "cell_type": "markdown",
   "metadata": {},
   "source": [
    "# 字典的特征\n",
    "- 字典是序列类型，但是是无序的序列，所以没法分片和索引\n",
    "- 字典中的数据都是键值对组成，即kv对\n",
    "    - key：必须是可哈希值，比如int ,string ,float, tuple,但是lsit ，set，dict不行\n",
    "    - value：任何值\n",
    "    "
   ]
  },
  {
   "cell_type": "markdown",
   "metadata": {},
   "source": [
    "# 字典的常见操作\n"
   ]
  },
  {
   "cell_type": "code",
   "execution_count": 21,
   "metadata": {},
   "outputs": [
    {
     "name": "stdout",
     "output_type": "stream",
     "text": [
      "1\n",
      "{'one': '一', 'two': 2, 'three': 3}\n",
      "{'two': 2, 'three': 3}\n"
     ]
    }
   ],
   "source": [
    "# 访问数据\n",
    "a = {\"one\":1,\"two\":2,\"three\":3}\n",
    "#注意访问格式，中括号里面是键值\n",
    "print(a[\"one\"])\n",
    "\n",
    "#赋值\n",
    "\n",
    "a[\"one\"] = \"一\"\n",
    "print(a)\n",
    "\n",
    "#删除某个操作\n",
    "#使用del操作\n",
    "del a[\"one\"]\n",
    "print(a)\n"
   ]
  },
  {
   "cell_type": "code",
   "execution_count": 2,
   "metadata": {},
   "outputs": [
    {
     "name": "stdout",
     "output_type": "stream",
     "text": [
      "key\n",
      " \n"
     ]
    }
   ],
   "source": [
    "#成员检测，in，not in\n",
    "a = {\"one\":1,\"two\":2,\"three\":3}\n",
    "if \"one\" in a:\n",
    "    print(\"key\")\n",
    "if 2 in a:\n",
    "    print(\"value\")\n",
    "else:\n",
    "    print(\" \")\n",
    "if (\"two\",2) in a:\n",
    "    print(\"kv\")\n",
    "#由上面实验成员检测，检测的事key的内容"
   ]
  },
  {
   "cell_type": "code",
   "execution_count": 4,
   "metadata": {},
   "outputs": [
    {
     "name": "stdout",
     "output_type": "stream",
     "text": [
      "one 1\n",
      "two 2\n",
      "three 3\n",
      "one 1\n",
      "two 2\n",
      "three 3\n",
      "1\n",
      "2\n",
      "3\n",
      "one    1\n",
      "two    2\n",
      "three    3\n"
     ]
    }
   ],
   "source": [
    "#按key使用for 循环\n",
    "a = {\"one\":1,\"two\":2,\"three\":3}\n",
    "#使用for循环直接按key值来访问\n",
    "for k in a:\n",
    "    print(k,a[k])\n",
    "    \n",
    "#上述也可以写成以下\n",
    "for k in a.keys():\n",
    "    print(k,a[k])\n",
    "#只访问字典的值\n",
    "for v in a.values():\n",
    "    print(v)\n",
    "    \n",
    "# for k,v in a:\n",
    "#     print(k,v)\n",
    "#\n",
    "for k,v in a.items():\n",
    "    print(k,\"  \",v)"
   ]
  },
  {
   "cell_type": "markdown",
   "metadata": {},
   "source": [
    "# 字典的生成式 "
   ]
  },
  {
   "cell_type": "code",
   "execution_count": 35,
   "metadata": {},
   "outputs": [
    {
     "name": "stdout",
     "output_type": "stream",
     "text": [
      "{'one': 1, 'two': 2, 'three': 3}\n",
      "{'two': 2}\n"
     ]
    }
   ],
   "source": [
    "a = {\"one\":1,\"two\":2,\"three\":3}\n",
    "#常见的字典的生成式\n",
    "d = {k:v for k, v in a.items()}\n",
    "print(d)\n",
    "\n",
    "\n",
    "#这样写的意义就是为了加限制条件\n",
    "d = {k:v for k, v in a.items() if v % 2 ==0}\n",
    "print(d)"
   ]
  },
  {
   "cell_type": "markdown",
   "metadata": {},
   "source": [
    "# 字典的相关函数\n"
   ]
  },
  {
   "cell_type": "code",
   "execution_count": 40,
   "metadata": {},
   "outputs": [
    {
     "name": "stdout",
     "output_type": "stream",
     "text": [
      "3\n",
      "3\n",
      "one\n"
     ]
    }
   ],
   "source": [
    "#字典的通用函数：len, max,min,dict\n",
    "#str(字典)：返回字典的字符串的格式\n",
    "a = {\"one\":1,\"two\":2,\"three\":3}\n",
    "print(len(a))\n",
    "print(max(a.values()))#按照字符串第一位比较，如果第一位相同则比较第二位,如此比较下去\n",
    "print(min(a))"
   ]
  },
  {
   "cell_type": "code",
   "execution_count": 45,
   "metadata": {},
   "outputs": [
    {
     "name": "stdout",
     "output_type": "stream",
     "text": [
      "<class 'dict_items'>\n",
      "dict_items([('one', 1), ('two', 2), ('three', 3)])\n"
     ]
    }
   ],
   "source": [
    "#clear 清空字典\n",
    "#items 返回字典的键值对组成的元组格式\n",
    "a = {\"one\":1,\"two\":2,\"three\":3}\n",
    "'''\n",
    "a.clear()\n",
    "print(a)\n",
    "\n",
    "'''\n",
    "i = a.items()\n",
    "print(type(i))\n",
    "print(i)"
   ]
  },
  {
   "cell_type": "code",
   "execution_count": 3,
   "metadata": {},
   "outputs": [
    {
     "name": "stdout",
     "output_type": "stream",
     "text": [
      "<class 'dict_keys'>\n",
      "dict_keys(['one', 'two', 'three'])\n",
      "one\n",
      "two\n",
      "three\n"
     ]
    }
   ],
   "source": [
    "#keys :返回字典键组成的一个结构\n",
    "b = a.keys()\n",
    "print(type(b))\n",
    "print(b)\n",
    "for i in b:\n",
    "    print(i)"
   ]
  },
  {
   "cell_type": "code",
   "execution_count": 50,
   "metadata": {},
   "outputs": [
    {
     "name": "stdout",
     "output_type": "stream",
     "text": [
      "<class 'dict_values'>\n",
      "dict_values([1, 2, 3])\n",
      "1\n",
      "2\n",
      "3\n"
     ]
    }
   ],
   "source": [
    "#values: 返回一个可迭代的结构\n",
    "c = a.values()\n",
    "print(type(c))\n",
    "print(c)\n",
    "for i in c:\n",
    "    print(i)#体现出了迭代"
   ]
  },
  {
   "cell_type": "code",
   "execution_count": 1,
   "metadata": {},
   "outputs": [
    {
     "name": "stdout",
     "output_type": "stream",
     "text": [
      "None\n",
      "1\n",
      "22\n",
      "{'one': 1, 'two': 2, 'three': 3}\n"
     ]
    }
   ],
   "source": [
    "#get：根据指定键返回相应的值，好处是可以设置默认值\n",
    "a = {\"one\":1,\"two\":2,\"three\":3}\n",
    "print(a.get(\"onep\"))#get的默认值None\n",
    "print(a.get(\"one\",22))#在字典里面找one这个键找到返回值，如果找不到就返回默认值22\n",
    "print(a.get(\"one33\",22))\n",
    "print(a)"
   ]
  },
  {
   "cell_type": "code",
   "execution_count": 4,
   "metadata": {},
   "outputs": [
    {
     "name": "stdout",
     "output_type": "stream",
     "text": [
      "{'one': 'tu', 'two': 'tu', 'three': 'tu'}\n"
     ]
    }
   ],
   "source": [
    "#fromkeys：使用指定的序列作为键，使用一个值作为字典所有键的值\n",
    "l = [\"one\",\"two\",\"three\"]\n",
    "a = dict.fromkeys(l,\"tu\")\n",
    "print(a)"
   ]
  },
  {
   "cell_type": "code",
   "execution_count": 6,
   "metadata": {},
   "outputs": [
    {
     "name": "stdout",
     "output_type": "stream",
     "text": [
      "{'a': 1, 'b': 2}\n",
      "{'a': 1, 'b': 2}\n",
      "{'a': 1, 'b': 2}\n",
      "{'a': 1, 'b': 2, 'c': 3}\n",
      "{'a': 1, 'b': 2, 'c': 3, 'd': 5}\n"
     ]
    }
   ],
   "source": [
    "#dic.setdefault（k，default）若字典中存在key值为k的，则返回其对应的值；否则，在字典中建立一个k:default字典成员\n",
    "dic = {\"a\":1,\"b\":2}\n",
    "print(dic)\n",
    "dic = dict([(\"a\",1),(\"b\",2)])\n",
    "print(dic)\n",
    "dic =dict(a=1,b=2)\n",
    "print(dic)\n",
    "dic.setdefault(\"c\",3)\n",
    "print(dic)\n",
    "\n",
    "dic.setdefault(\"d\",5)\n",
    "print(dic)"
   ]
  },
  {
   "cell_type": "code",
   "execution_count": 7,
   "metadata": {},
   "outputs": [
    {
     "name": "stdout",
     "output_type": "stream",
     "text": [
      "{'one': 2, 'two': 6, 'yiled': 5, 'eight': 9}\n"
     ]
    }
   ],
   "source": [
    "# 字典的合并\n",
    "dict1 = {\"one\":2,\"two\":6}\n",
    "dict2 = {\"yiled\":5,\"eight\":9}\n",
    "dict3 = dict(dict1,**dict2)\n",
    "print(dict3)"
   ]
  }
 ],
 "metadata": {
  "kernelspec": {
   "display_name": "Python 3",
   "language": "python",
   "name": "python3"
  },
  "language_info": {
   "codemirror_mode": {
    "name": "ipython",
    "version": 3
   },
   "file_extension": ".py",
   "mimetype": "text/x-python",
   "name": "python",
   "nbconvert_exporter": "python",
   "pygments_lexer": "ipython3",
   "version": "3.7.3"
  }
 },
 "nbformat": 4,
 "nbformat_minor": 2
}
