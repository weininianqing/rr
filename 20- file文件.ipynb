{
 "cells": [
  {
   "cell_type": "markdown",
   "metadata": {},
   "source": [
    "# 文件\n",
    "- 长久保存信息的一种数据信息集合\n",
    "- 常用操作\n",
    "    - 打开关闭：（文件一旦打开，需要关闭操作）\n",
    "    - 读些内容\n",
    "    - 查找\n",
    "# open函数\n",
    "- open函数负责打开文件，带有很多参数\n",
    "- 第一个参数：必须有，文件的路径和名称\n",
    "- mode:表明文件用什么方式打开\n",
    "    - r：只读\n",
    "    - w：写操作，文件不存在创建文件\n",
    "    - x:创建文件，文件存在报错\n",
    "    - a：append方式，已追加的方式对文件内容进行写入\n",
    "    - b：binary，二进制数字写入\n",
    "    - t：文本方式打开\n",
    "    - +：可读写\n",
    "- 文件名.close()关闭文件"
   ]
  },
  {
   "cell_type": "code",
   "execution_count": 28,
   "metadata": {},
   "outputs": [
    {
     "name": "stdout",
     "output_type": "stream",
     "text": [
      "我爱你"
     ]
    }
   ],
   "source": [
    "\n",
    "with open(r'd.txt','r') as f:\n",
    "    char = f.read(1)\n",
    "    while char:\n",
    "        print(char,end=\"\")\n",
    "        char = f.read(1)\n",
    "f = open(r'da.txt','r')\n",
    "#f为文件的句柄\n",
    "#r代表后面的字符串内容不需要转义，系统之间存在的差异\n",
    "f.close()"
   ]
  },
  {
   "cell_type": "markdown",
   "metadata": {},
   "source": [
    "# with语句\n",
    "- with语句使用的技术是一种成为上下文管理协议的技术（ContextManagementProtocal）\n",
    "- 自动判断文件的作用域，自动关闭不在使用的打开的文件句柄"
   ]
  },
  {
   "cell_type": "code",
   "execution_count": 29,
   "metadata": {},
   "outputs": [],
   "source": [
    "#with语句案例\n",
    "# f是打开文件的实例，也叫文件句柄\n",
    "\n",
    "with open(r'd.txt','r') as f:\n",
    "    pass\n",
    "#下面语句块开始对文件f进行操作\n",
    "#本模式中不需要在使用close关闭文件"
   ]
  },
  {
   "cell_type": "code",
   "execution_count": 34,
   "metadata": {},
   "outputs": [
    {
     "name": "stdout",
     "output_type": "stream",
     "text": [
      "打死打伤\n",
      "\n",
      "打死打伤\n",
      "\n",
      "打死打伤\n",
      "\n",
      "萨达斯\n",
      "\n"
     ]
    }
   ],
   "source": [
    "#with案例\n",
    "\n",
    "with open(r'da.txt','r') as f:\n",
    "    #按行读取内容\n",
    "    str1 = f.readline()\n",
    "    #此结构能保证完整读取文件内容知道结束\n",
    "    while str1:\n",
    "        print(str1)\n",
    "        str1 = f.readline()"
   ]
  },
  {
   "cell_type": "code",
   "execution_count": 37,
   "metadata": {},
   "outputs": [
    {
     "name": "stdout",
     "output_type": "stream",
     "text": [
      "打死打伤\n",
      "\n",
      "打死打伤\n",
      "\n",
      "打死打伤\n",
      "\n",
      "萨达斯\n",
      "\n"
     ]
    }
   ],
   "source": [
    "# list能用打开的文件作为参数，把文件内的每一行内容作为一个元素\n",
    "\n",
    "\n",
    "with open(r'da.txt','r') as f:\n",
    "    #以打开的文件f作为参数，创建列表\n",
    "    char1 = list(f)\n",
    "    for line in char1:\n",
    "        print(line)"
   ]
  },
  {
   "cell_type": "code",
   "execution_count": 40,
   "metadata": {},
   "outputs": [
    {
     "name": "stdout",
     "output_type": "stream",
     "text": [
      "19\n",
      "打死打伤\n",
      "打死打伤\n",
      "打死打伤\n",
      "萨达斯\n",
      "\n"
     ]
    }
   ],
   "source": [
    "#read是字符读取文件内容\n",
    "#允许输入参数决定读取几个字符，如果没有制定，从当前位置读到结尾\n",
    "#否则，从当前位置读取指定个数字符\n",
    "\n",
    "#这里的换行符也是一个字符\n",
    "with open(r'da.txt','r') as f:\n",
    "    char2 = f.read()\n",
    "    print(len(char2))\n",
    "    print(char2)"
   ]
  },
  {
   "cell_type": "markdown",
   "metadata": {},
   "source": [
    "# seek (offset，from)\n",
    "- 移动文件的读取位置，也叫读取指针\n",
    "- from的取值范围：\n",
    "    - 0：从文件头开始偏移\n",
    "    - 1：从文件的当前位置开始偏移\n",
    "    - 2：从文件尾部偏移\n",
    "- 移动的单位是字节（byte）\n",
    "- 一个汉字由ji个字节组成\n",
    "- 返回文件只针对当前位置"
   ]
  },
  {
   "cell_type": "code",
   "execution_count": 43,
   "metadata": {},
   "outputs": [
    {
     "name": "stdout",
     "output_type": "stream",
     "text": [
      "伤\n",
      "打死打伤\n",
      "打死打伤\n",
      "萨达斯\n",
      "\n"
     ]
    }
   ],
   "source": [
    "#seek案例\n",
    "#打开文件后从第七个字节开始读取\n",
    "\n",
    "#打开读写指针在0处，即文件的开头\n",
    "with open(r'da.txt','r') as f:\n",
    "    #seek移动的单位是字节\n",
    "    f.seek(6,0)\n",
    "    c = f.read()\n",
    "    print(c)"
   ]
  },
  {
   "cell_type": "code",
   "execution_count": 1,
   "metadata": {},
   "outputs": [
    {
     "name": "stdout",
     "output_type": "stream",
     "text": [
      "打死打\n",
      "伤\n",
      "打\n",
      "死打伤\n",
      "\n",
      "打死\n",
      "打伤\n",
      "\n",
      "萨达斯\n",
      "\n",
      "\n"
     ]
    }
   ],
   "source": [
    "#关于读取文件的练习\n",
    "#打开文件，三个字符一组读取内容\n",
    "#每读一次，休息一秒钟\n",
    "import time\n",
    "with open(r'da.txt','r') as f:\n",
    "    cc = f.read(3)\n",
    "    while cc:\n",
    "        print(cc)\n",
    "        time.sleep(2)\n",
    "        cc = f.read(3)\n"
   ]
  },
  {
   "cell_type": "code",
   "execution_count": 3,
   "metadata": {},
   "outputs": [
    {
     "name": "stdout",
     "output_type": "stream",
     "text": [
      "6\n",
      "打死打\n",
      "12\n",
      "伤\n",
      "打\n",
      "18\n",
      "死打伤\n",
      "24\n",
      "\n",
      "打死\n",
      "30\n",
      "打伤\n",
      "\n",
      "36\n",
      "萨达斯\n",
      "38\n",
      "\n",
      "\n"
     ]
    }
   ],
   "source": [
    "#tell函数：用来显示文件读写指针的当前位置\n",
    "with open(r'da.txt','r') as f:\n",
    "    strchar = f.read(3)\n",
    "    pos = f.tell()\n",
    "    \n",
    "    while strchar:\n",
    "        print(pos)\n",
    "        print(strchar)\n",
    "        \n",
    "        strchar = f.read(3)\n",
    "        pos = f.tell()\n",
    "#以下结果说明：\n",
    "#tell的返回数字的单位是byte"
   ]
  },
  {
   "cell_type": "markdown",
   "metadata": {},
   "source": [
    "# 文件的写操作-write\n",
    "- write(str):把字符串写入文件\n",
    "- writelines（str）：把字符串按行写入文件\n",
    "- 区别：\n",
    "    - write函数参数只能是字符串\n",
    "    - writelines参数可以是字符串，也可以是字符序列"
   ]
  },
  {
   "cell_type": "code",
   "execution_count": 5,
   "metadata": {},
   "outputs": [],
   "source": [
    "#write案例\n",
    "#1.像文件里面追加一句话 \n",
    "#a代表是以追加的方式打开\n",
    "with open(r'da.txt','a') as f:\n",
    "    f.write(\"woainiaizhei\")\n",
    "    "
   ]
  },
  {
   "cell_type": "code",
   "execution_count": 8,
   "metadata": {},
   "outputs": [],
   "source": [
    "#可以直接写入行，用writelines\n",
    "# writelines写入很多行，参数就可以是list\n",
    "#a代表是以追加的方式打开\n",
    "l= [\"woai ni \",\"aizheni \",\"jiuxiangdaiojao \"]\n",
    "#\n",
    "with open(r'da.txt','a') as f:\n",
    "    f.writelines(l)\n",
    "\n",
    "    "
   ]
  },
  {
   "cell_type": "markdown",
   "metadata": {},
   "source": [
    "# 持久化- pickle \n",
    "- 序列(持久化，落地)：把程序运行中的信息保存在磁盘上\n",
    "- 反序列化：序列号的逆过程\n",
    "- pickle：python提供的序列化模块\n",
    "- pickle.dump：序列化\n",
    "- pickle.load:反序列化"
   ]
  },
  {
   "cell_type": "code",
   "execution_count": 15,
   "metadata": {},
   "outputs": [],
   "source": [
    "#序列化案例\n",
    "import pickle\n",
    "\n",
    "age = 19 \n",
    "\n",
    "with open(r\"da.txt\",'wb') as f:\n",
    "    pickle.dump(age,f)\n",
    "    "
   ]
  },
  {
   "cell_type": "code",
   "execution_count": 16,
   "metadata": {},
   "outputs": [
    {
     "name": "stdout",
     "output_type": "stream",
     "text": [
      "19\n"
     ]
    }
   ],
   "source": [
    "with open(r\"da.txt\",'rb') as f:\n",
    "    a= pickle.load(f)\n",
    "    print(a)"
   ]
  },
  {
   "cell_type": "code",
   "execution_count": 18,
   "metadata": {},
   "outputs": [
    {
     "name": "stdout",
     "output_type": "stream",
     "text": [
      "[19, 'wangshaohui', 'love chouiazi ', [185, 76]]\n"
     ]
    }
   ],
   "source": [
    "# 序列化案例\n",
    "b = [19,\"wangshaohui\",\"love chouiazi \",[185,76]]\n",
    "\n",
    "with open(r\"da.txt\",'wb') as f:\n",
    "    pickle.dump(b,f)\n",
    "    \n",
    "with open(r\"da.txt\",'rb') as f:\n",
    "    a = pickle.load(f)\n",
    "    print(a)"
   ]
  },
  {
   "cell_type": "markdown",
   "metadata": {},
   "source": [
    "# 持久化-shelve\n",
    "- 持久化工具\n",
    "- 类似字典，用kv对保存数据，存取方式跟字典相似\n",
    "- open close"
   ]
  },
  {
   "cell_type": "code",
   "execution_count": 21,
   "metadata": {},
   "outputs": [],
   "source": [
    "#使用shelve创建文件并倒入\n",
    "import shelve\n",
    "#打开文件\n",
    "#shv相当于一个字典\n",
    "shv = shelve.open(r'shv.txt')\n",
    "shv[\"one\"] = 1\n",
    "shv[\"two\"] = 2\n",
    "shv[\"three\"] = 3\n",
    "\n",
    "shv.close()\n",
    "\n",
    "#通过以上案例不仅仅建了一个shv.txt的文件还有一些别的文件"
   ]
  },
  {
   "cell_type": "code",
   "execution_count": 24,
   "metadata": {},
   "outputs": [
    {
     "name": "stdout",
     "output_type": "stream",
     "text": [
      "1\n",
      "wocole\n"
     ]
    }
   ],
   "source": [
    "#shelve读取案例\n",
    "shv = shelve.open(r\"shv.txt\")\n",
    "try:\n",
    "    print(shv[\"one\"])\n",
    "    print(shv[\"twow\"])\n",
    "except Exception as e:\n",
    "    print(\"wocole\")\n",
    "finally:\n",
    "    shv.close()\n",
    "# 文件一旦打开必须关闭，为了防止中途报错程序停止执行不到关闭命令"
   ]
  },
  {
   "cell_type": "markdown",
   "metadata": {},
   "source": [
    "# shelve特性\n",
    "- 不支持多个应用写入\n",
    "    - 为了解决这个问题，open的时候可以使用flag=r\n",
    "    \n",
    "- 写回问题\n",
    "    - shelve默认情况下不会等待持久化对象进行任何修改\n",
    "    - 解决方法：强制写回： writeback=True"
   ]
  },
  {
   "cell_type": "code",
   "execution_count": 26,
   "metadata": {},
   "outputs": [
    {
     "name": "stdout",
     "output_type": "stream",
     "text": [
      "{'yi': 1, 'er': 2, 'san': 3}\n",
      "{'yi': 1, 'er': 2, 'san': 3}\n"
     ]
    }
   ],
   "source": [
    "shv = shelve.open(r'shv.txt')\n",
    "try:\n",
    "    shv['one']= {'yi':1,'er':2,'san':3}\n",
    "    print(shv['one'])\n",
    "finally:\n",
    "    shv.close()\n",
    "    \n",
    "shv = shelve.open(r'shv.txt')\n",
    "try:\n",
    "    print(shv['one'])\n",
    "finally:\n",
    "    shv.close()"
   ]
  },
  {
   "cell_type": "code",
   "execution_count": 28,
   "metadata": {},
   "outputs": [
    {
     "name": "stdout",
     "output_type": "stream",
     "text": [
      "{'yi': 1, 'er': 2, 'san': 3}\n",
      "{'yi': 1, 'er': 2, 'san': 3}\n"
     ]
    }
   ],
   "source": [
    "#shelve忘记写回，需要使用强制写回\n",
    "shv = shelve.open(r'shv.txt')\n",
    "try:\n",
    "    k1 = shv['one']\n",
    "    print(k1)\n",
    "    k1['yi']=100\n",
    "# 这里我改了yi里面的值但是我没有吧这个修改的值写回到数据库（文件shv.txt） 里面，这是后需要强制写回   \n",
    "finally:\n",
    "    shv.close()\n",
    "    \n",
    "shv = shelve.open(r'shv.txt')\n",
    "try:\n",
    "    print(shv['one'])\n",
    "finally:\n",
    "    shv.close()"
   ]
  },
  {
   "cell_type": "code",
   "execution_count": 31,
   "metadata": {},
   "outputs": [
    {
     "name": "stdout",
     "output_type": "stream",
     "text": [
      "{'yi': 100, 'er': 2, 'san': 3}\n",
      "{'yi': 100, 'er': 2, 'san': 3}\n"
     ]
    }
   ],
   "source": [
    "#shelve忘记写回，需要使用强制写回\n",
    "# 下面这条命令就是在关闭文件的时候，保存修改内容\n",
    "shv = shelve.open(r'shv.txt',writeback=True)\n",
    "try:\n",
    "    k1 = shv['one']\n",
    "    print(k1)\n",
    "    k1['yi']=100\n",
    "# 这里我改了yi里面的值但是我没有吧这个修改的值写回到数据库（文件shv.txt） 里面，这是后需要强制写回   \n",
    "finally:\n",
    "    shv.close()\n",
    "    \n",
    "shv = shelve.open(r'shv.txt')\n",
    "try:\n",
    "    print(shv['one'])\n",
    "finally:\n",
    "    shv.close()"
   ]
  },
  {
   "cell_type": "code",
   "execution_count": 36,
   "metadata": {},
   "outputs": [
    {
     "name": "stdout",
     "output_type": "stream",
     "text": [
      "{'yi': 100, 'er': 2, 'san': 3, 'two': 200}\n",
      "{'yi': 100, 'er': 2, 'san': 3, 'two': 2002}\n"
     ]
    }
   ],
   "source": [
    "#shelve 使用with管理上下文环境\n",
    "\n",
    "with shelve.open(r'shv.txt',writeback=True) as shv:\n",
    "    print(shv['one'])\n",
    "    k2 = shv['one']\n",
    "    k2['two']=2002\n",
    "with shelve.open(r'shv.txt') as shv:\n",
    "    print(shv['one'])\n",
    "    "
   ]
  }
 ],
 "metadata": {
  "kernelspec": {
   "display_name": "Python 3",
   "language": "python",
   "name": "python3"
  },
  "language_info": {
   "codemirror_mode": {
    "name": "ipython",
    "version": 3
   },
   "file_extension": ".py",
   "mimetype": "text/x-python",
   "name": "python",
   "nbconvert_exporter": "python",
   "pygments_lexer": "ipython3",
   "version": "3.7.3"
  }
 },
 "nbformat": 4,
 "nbformat_minor": 2
}
