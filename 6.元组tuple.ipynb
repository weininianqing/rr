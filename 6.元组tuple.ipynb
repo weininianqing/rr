{
 "cells": [
  {
   "cell_type": "markdown",
   "metadata": {},
   "source": [
    "# 元组 tuple\n",
    "- 元祖可以看成一个不可更改的list\n",
    "## 元组创建"
   ]
  },
  {
   "cell_type": "code",
   "execution_count": 7,
   "metadata": {},
   "outputs": [
    {
     "name": "stdout",
     "output_type": "stream",
     "text": [
      "<class 'tuple'>\n",
      "(1,)\n",
      "<class 'tuple'>\n",
      "(1,)\n",
      "<class 'tuple'>\n",
      "(1, 2, 3, 4, 5)\n",
      "<class 'tuple'>\n",
      "(1, 2, 3, 4, 5)\n",
      "<class 'tuple'>\n"
     ]
    }
   ],
   "source": [
    "#创建空元组\n",
    "t = ()\n",
    "print(type(t))\n",
    "\n",
    "# 创建只有一个数值的元组\n",
    "t = (1,)\n",
    "print(t)\n",
    "print(type(t))\n",
    "\n",
    "t = 1,\n",
    "print(t)\n",
    "print(type(t))\n",
    "\n",
    "#创建多个值的元组\n",
    "t = (1,2,3,4,5)#括号也可以不要\n",
    "print(t)\n",
    "print(type(t))\n",
    "#使用其他结构创建元组\n",
    "l = [1,2,3,4,5]\n",
    "l = tuple(l)\n",
    "print(l)\n",
    "print(type(l))"
   ]
  },
  {
   "cell_type": "markdown",
   "metadata": {},
   "source": [
    "## 元组的特性\n",
    "- 是有序列表\n",
    "- 元组的数据值可以访问，不能修改内容\n",
    "- 元组数据类型可以是任意类型\n",
    "- 总之，list所以特性，除了可修改外，元组都具有\n",
    "- 也就意味着，list具有的一些操作，比如索引，分片，序列相加，相乘，成员资格操作等等，一模一样\n"
   ]
  },
  {
   "cell_type": "code",
   "execution_count": 12,
   "metadata": {},
   "outputs": [
    {
     "name": "stdout",
     "output_type": "stream",
     "text": [
      "3\n"
     ]
    }
   ],
   "source": [
    "#索引操作\n",
    "t = (1,2,3,4,5)\n",
    "print(t[2])"
   ]
  },
  {
   "cell_type": "code",
   "execution_count": 14,
   "metadata": {},
   "outputs": [
    {
     "ename": "IndexError",
     "evalue": "tuple index out of range",
     "output_type": "error",
     "traceback": [
      "\u001b[1;31m---------------------------------------------------------------------------\u001b[0m",
      "\u001b[1;31mIndexError\u001b[0m                                Traceback (most recent call last)",
      "\u001b[1;32m<ipython-input-14-6f0a696a13a0>\u001b[0m in \u001b[0;36m<module>\u001b[1;34m\u001b[0m\n\u001b[0;32m      1\u001b[0m \u001b[1;31m#超标错误\u001b[0m\u001b[1;33m\u001b[0m\u001b[1;33m\u001b[0m\u001b[1;33m\u001b[0m\u001b[0m\n\u001b[1;32m----> 2\u001b[1;33m \u001b[0mprint\u001b[0m\u001b[1;33m(\u001b[0m\u001b[0mt\u001b[0m\u001b[1;33m[\u001b[0m\u001b[1;36m12\u001b[0m\u001b[1;33m]\u001b[0m\u001b[1;33m)\u001b[0m\u001b[1;33m\u001b[0m\u001b[1;33m\u001b[0m\u001b[0m\n\u001b[0m",
      "\u001b[1;31mIndexError\u001b[0m: tuple index out of range"
     ]
    }
   ],
   "source": [
    "#超标错误\n",
    "print(t[12])"
   ]
  },
  {
   "cell_type": "code",
   "execution_count": 17,
   "metadata": {},
   "outputs": [
    {
     "name": "stdout",
     "output_type": "stream",
     "text": [
      "2584919985704\n",
      "(2, 4, 6)\n",
      "2584919593824\n",
      "(2, 3, 4, 5, 6)\n"
     ]
    }
   ],
   "source": [
    "t = (1,2,3,4,5,6)\n",
    "t1 = t[1::2]\n",
    "print(id(t))\n",
    "print(t1)\n",
    "print(id(t1))\n",
    "\n",
    "#切片可以超标\n",
    "print(t[1:222])"
   ]
  },
  {
   "cell_type": "code",
   "execution_count": 21,
   "metadata": {},
   "outputs": [
    {
     "name": "stdout",
     "output_type": "stream",
     "text": [
      "2584919547336\n",
      "(1, 2, 3)\n",
      "2584878316040\n",
      "(1, 2, 3, 4, 5, 6)\n"
     ]
    },
    {
     "ename": "TypeError",
     "evalue": "'tuple' object does not support item assignment",
     "output_type": "error",
     "traceback": [
      "\u001b[1;31m---------------------------------------------------------------------------\u001b[0m",
      "\u001b[1;31mTypeError\u001b[0m                                 Traceback (most recent call last)",
      "\u001b[1;32m<ipython-input-21-825cb4493235>\u001b[0m in \u001b[0;36m<module>\u001b[1;34m\u001b[0m\n\u001b[0;32m     11\u001b[0m \u001b[1;33m\u001b[0m\u001b[0m\n\u001b[0;32m     12\u001b[0m \u001b[1;31m#tuple的不可修改，指的是内容不可修改\u001b[0m\u001b[1;33m\u001b[0m\u001b[1;33m\u001b[0m\u001b[1;33m\u001b[0m\u001b[0m\n\u001b[1;32m---> 13\u001b[1;33m \u001b[0mt\u001b[0m\u001b[1;33m[\u001b[0m\u001b[1;36m1\u001b[0m\u001b[1;33m]\u001b[0m \u001b[1;33m=\u001b[0m \u001b[1;36m100\u001b[0m\u001b[1;33m\u001b[0m\u001b[1;33m\u001b[0m\u001b[0m\n\u001b[0m\u001b[0;32m     14\u001b[0m \u001b[0mprint\u001b[0m\u001b[1;33m(\u001b[0m\u001b[0mt\u001b[0m\u001b[1;33m)\u001b[0m\u001b[1;33m\u001b[0m\u001b[1;33m\u001b[0m\u001b[0m\n",
      "\u001b[1;31mTypeError\u001b[0m: 'tuple' object does not support item assignment"
     ]
    }
   ],
   "source": [
    "# 序列相加\n",
    "t3 = (1,2,3)\n",
    "t4 = (4,5,6)\n",
    "\n",
    "#相当于把t3重新赋值了,传址\n",
    "print(id(t3))\n",
    "print(t3)\n",
    "t3 += t4#相当于t3+t4形成了一个新的地址传给了t3\n",
    "print(id(t3))\n",
    "print(t3)\n",
    "\n",
    "#tuple的不可修改，指的是内容不可修改\n",
    "t[1] = 100\n",
    "print(t)"
   ]
  },
  {
   "cell_type": "code",
   "execution_count": 23,
   "metadata": {},
   "outputs": [
    {
     "name": "stdout",
     "output_type": "stream",
     "text": [
      "(1, 2, 3, 1, 2, 3, 1, 2, 3)\n"
     ]
    }
   ],
   "source": [
    "#元组相乘\n",
    "t = (1,2,3)\n",
    "print(t * 3)"
   ]
  },
  {
   "cell_type": "code",
   "execution_count": 24,
   "metadata": {},
   "outputs": [
    {
     "name": "stdout",
     "output_type": "stream",
     "text": [
      "YES\n"
     ]
    }
   ],
   "source": [
    "# 成员检测\n",
    "t = (1,2,3)\n",
    "if 2 in t:\n",
    "    print(\"YES\")\n",
    "else:\n",
    "    print(\"NO\")"
   ]
  },
  {
   "cell_type": "code",
   "execution_count": 27,
   "metadata": {},
   "outputs": [
    {
     "name": "stdout",
     "output_type": "stream",
     "text": [
      "1 2 3 wangshaohui henaixuexi yes "
     ]
    }
   ],
   "source": [
    "#元组的遍历，一般采用for\n",
    "#1.单层的元组遍历\n",
    "t = (1,2,3,\"wangshaohui\",\"henaixuexi\",\"yes\")\n",
    "for i in t:\n",
    "    print(i,end=\" \")"
   ]
  },
  {
   "cell_type": "code",
   "execution_count": 28,
   "metadata": {},
   "outputs": [
    {
     "name": "stdout",
     "output_type": "stream",
     "text": [
      "1 -- 2 -- 3\n",
      "wang -- shao -- hui\n",
      "1 -- 33 -- 66\n"
     ]
    }
   ],
   "source": [
    "#2.双层元组的遍历\n",
    "t = ((1,2,3),(\"wang\",\"shao\",\"hui\"),(1,33,66))\n",
    "for k ,w,v in t:\n",
    "    print(k,\"--\",w,\"--\",v)"
   ]
  }
 ],
 "metadata": {
  "kernelspec": {
   "display_name": "Python 3",
   "language": "python",
   "name": "python3"
  },
  "language_info": {
   "codemirror_mode": {
    "name": "ipython",
    "version": 3
   },
   "file_extension": ".py",
   "mimetype": "text/x-python",
   "name": "python",
   "nbconvert_exporter": "python",
   "pygments_lexer": "ipython3",
   "version": "3.7.3"
  }
 },
 "nbformat": 4,
 "nbformat_minor": 2
}
