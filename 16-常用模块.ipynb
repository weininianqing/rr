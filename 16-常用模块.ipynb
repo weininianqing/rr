{
 "cells": [
  {
   "cell_type": "markdown",
   "metadata": {},
   "source": [
    "# os.path模块，跟路径相关的模块  "
   ]
  },
  {
   "cell_type": "code",
   "execution_count": 1,
   "metadata": {},
   "outputs": [],
   "source": [
    "import os.path as op"
   ]
  },
  {
   "cell_type": "code",
   "execution_count": 3,
   "metadata": {},
   "outputs": [
    {
     "name": "stdout",
     "output_type": "stream",
     "text": [
      "C:\\Users\\Dell\\学习\n"
     ]
    }
   ],
   "source": [
    "#abspsth()将路径转化成绝对路径\n",
    "#abselute 绝对\n",
    "# 格式：os.path.abspath(\"路径\")\n",
    "# 返回值：路径的绝对路径形式\n",
    "abs = op.abspath(\".\")\n",
    "print(abs)"
   ]
  },
  {
   "cell_type": "code",
   "execution_count": 8,
   "metadata": {},
   "outputs": [
    {
     "name": "stdout",
     "output_type": "stream",
     "text": [
      "Dell\n",
      "jiazi.txt\n"
     ]
    }
   ],
   "source": [
    "# basename():获取路径名中的文件名部分\n",
    "# 格式：os.path.basename(\"路径\")\n",
    "#返回值：文件名字符串\n",
    "bn = op.basename(\"C:\\\\Users\\Dell\")\n",
    "print(bn)\n",
    "bn1 = op.basename(\"C:\\\\Users\\Dell\\jiazi.txt\")\n",
    "print(bn1)"
   ]
  },
  {
   "cell_type": "code",
   "execution_count": 10,
   "metadata": {},
   "outputs": [
    {
     "name": "stdout",
     "output_type": "stream",
     "text": [
      "C:\\Users\\Dell\\jiazi.txt\n"
     ]
    }
   ],
   "source": [
    "#join()将多个路径拼成一个路径\n",
    "#格式：os.path.join(路径1，路径2.....)\n",
    "#返回值：组合之后的新路径字符串\n",
    "print(op.join(\"C:\\\\Users\\Dell\",\"jiazi.txt\"))"
   ]
  },
  {
   "cell_type": "code",
   "execution_count": 29,
   "metadata": {},
   "outputs": [
    {
     "name": "stdout",
     "output_type": "stream",
     "text": [
      "('C:\\\\Usres\\\\Dell', 'jiazi.txt')\n",
      "C:\\Usres\\Dell\n",
      "jiazi.txt\n"
     ]
    }
   ],
   "source": [
    "#split 将路径切割成文件夹部分和当前文件部分\n",
    "#格式：os.path.split(路径)\n",
    "#返回值：路径和文件名组成的元组\n",
    "d = op.split(\"C:\\\\Users\\Dell\\jiazi.txt\")\n",
    "print(d)\n",
    "\n",
    "a,c = op.split(\"C:\\\\Users\\Dell\\jiazi.txt\")\n",
    "print(a)\n",
    "print(c)"
   ]
  },
  {
   "cell_type": "code",
   "execution_count": 39,
   "metadata": {},
   "outputs": [
    {
     "name": "stdout",
     "output_type": "stream",
     "text": [
      "False\n"
     ]
    }
   ],
   "source": [
    "#isdir() 检测是否为目录\n",
    "#格式：os.path.isdir(路径)\n",
    "#返回值：布尔值\n",
    "print(op.isdir(\"C:\\\\Users\\\\Dell\\jiazi.txt\"))"
   ]
  },
  {
   "cell_type": "code",
   "execution_count": 41,
   "metadata": {},
   "outputs": [
    {
     "name": "stdout",
     "output_type": "stream",
     "text": [
      "True\n"
     ]
    }
   ],
   "source": [
    "#exists:检测文件或目录是否存在\n",
    "#格式：os.path.exists(路径)\n",
    "#返回值：布尔值\n",
    "\n",
    "print(op.exists(\"C:\\\\Users\\Dell\"))"
   ]
  },
  {
   "cell_type": "markdown",
   "metadata": {},
   "source": [
    "# shutil 模块\n"
   ]
  },
  {
   "cell_type": "code",
   "execution_count": 43,
   "metadata": {},
   "outputs": [],
   "source": [
    "import shutil"
   ]
  },
  {
   "cell_type": "code",
   "execution_count": 55,
   "metadata": {},
   "outputs": [
    {
     "data": {
      "text/plain": [
       "'C:\\\\Users\\\\Dell\\\\hiuhui\\\\xiaohui.txt'"
      ]
     },
     "execution_count": 55,
     "metadata": {},
     "output_type": "execute_result"
    }
   ],
   "source": [
    "#copy()复制文件\n",
    "#格式：shutil.copy(来源路径，目标路径)\n",
    "#返回值：返回目标路径\n",
    "#拷贝的同时，可以将文件重命名\n",
    "\n",
    "shutil.copy(\"C:\\\\Users\\\\Dell\\\\jiazi.txt\",\"C:\\\\Users\\\\Dell\\\\hiuhui\\\\xiaohui.txt\")\n"
   ]
  },
  {
   "cell_type": "code",
   "execution_count": 56,
   "metadata": {},
   "outputs": [],
   "source": [
    "#copy2 复制文件保留文件原数据（文件信息）\n",
    "# 格式：shutil.copy2(来源路径，目标路径)\n",
    "#返回值：返回目标路径\n",
    "#注意copy和copy2的唯一区别在于copy2复制文件时尽量保留原数据"
   ]
  },
  {
   "cell_type": "code",
   "execution_count": 58,
   "metadata": {},
   "outputs": [
    {
     "data": {
      "text/plain": [
       "'C:\\\\Users\\\\Dell\\\\hiuhui\\\\xiaohui.txt'"
      ]
     },
     "execution_count": 58,
     "metadata": {},
     "output_type": "execute_result"
    }
   ],
   "source": [
    "#copyfile():将一个文件中的内容复制到另一个文件中\n",
    "#格式：shutil.copyfile(\"原路径\"，\"目标路径\")\n",
    "#返回值：无\n",
    "shutil.copyfile(\"C:\\\\Users\\\\Dell\\\\jiazi.txt\",\"C:\\\\Users\\\\Dell\\\\hiuhui\\\\xiaohui.txt\")"
   ]
  },
  {
   "cell_type": "code",
   "execution_count": 61,
   "metadata": {},
   "outputs": [
    {
     "ename": "Error",
     "evalue": "Destination path 'C:\\Users\\Dell\\hiuhui\\jiazi.txt' already exists",
     "output_type": "error",
     "traceback": [
      "\u001b[1;31m---------------------------------------------------------------------------\u001b[0m",
      "\u001b[1;31mError\u001b[0m                                     Traceback (most recent call last)",
      "\u001b[1;32m<ipython-input-61-af6577316028>\u001b[0m in \u001b[0;36m<module>\u001b[1;34m\u001b[0m\n\u001b[0;32m      2\u001b[0m \u001b[1;31m#格式：shutil.move(源路径，目标路径)\u001b[0m\u001b[1;33m\u001b[0m\u001b[1;33m\u001b[0m\u001b[1;33m\u001b[0m\u001b[0m\n\u001b[0;32m      3\u001b[0m \u001b[1;31m#返回值：目标路径\u001b[0m\u001b[1;33m\u001b[0m\u001b[1;33m\u001b[0m\u001b[1;33m\u001b[0m\u001b[0m\n\u001b[1;32m----> 4\u001b[1;33m \u001b[0mshutil\u001b[0m\u001b[1;33m.\u001b[0m\u001b[0mmove\u001b[0m\u001b[1;33m(\u001b[0m\u001b[1;34m\"C:\\\\Users\\\\Dell\\\\jiazi.txt\"\u001b[0m\u001b[1;33m,\u001b[0m\u001b[1;34m\"C:\\\\Users\\\\Dell\\\\hiuhui\"\u001b[0m\u001b[1;33m)\u001b[0m\u001b[1;33m\u001b[0m\u001b[1;33m\u001b[0m\u001b[0m\n\u001b[0m",
      "\u001b[1;32mD:\\Anaconda\\lib\\shutil.py\u001b[0m in \u001b[0;36mmove\u001b[1;34m(src, dst, copy_function)\u001b[0m\n\u001b[0;32m    559\u001b[0m         \u001b[0mreal_dst\u001b[0m \u001b[1;33m=\u001b[0m \u001b[0mos\u001b[0m\u001b[1;33m.\u001b[0m\u001b[0mpath\u001b[0m\u001b[1;33m.\u001b[0m\u001b[0mjoin\u001b[0m\u001b[1;33m(\u001b[0m\u001b[0mdst\u001b[0m\u001b[1;33m,\u001b[0m \u001b[0m_basename\u001b[0m\u001b[1;33m(\u001b[0m\u001b[0msrc\u001b[0m\u001b[1;33m)\u001b[0m\u001b[1;33m)\u001b[0m\u001b[1;33m\u001b[0m\u001b[1;33m\u001b[0m\u001b[0m\n\u001b[0;32m    560\u001b[0m         \u001b[1;32mif\u001b[0m \u001b[0mos\u001b[0m\u001b[1;33m.\u001b[0m\u001b[0mpath\u001b[0m\u001b[1;33m.\u001b[0m\u001b[0mexists\u001b[0m\u001b[1;33m(\u001b[0m\u001b[0mreal_dst\u001b[0m\u001b[1;33m)\u001b[0m\u001b[1;33m:\u001b[0m\u001b[1;33m\u001b[0m\u001b[1;33m\u001b[0m\u001b[0m\n\u001b[1;32m--> 561\u001b[1;33m             \u001b[1;32mraise\u001b[0m \u001b[0mError\u001b[0m\u001b[1;33m(\u001b[0m\u001b[1;34m\"Destination path '%s' already exists\"\u001b[0m \u001b[1;33m%\u001b[0m \u001b[0mreal_dst\u001b[0m\u001b[1;33m)\u001b[0m\u001b[1;33m\u001b[0m\u001b[1;33m\u001b[0m\u001b[0m\n\u001b[0m\u001b[0;32m    562\u001b[0m     \u001b[1;32mtry\u001b[0m\u001b[1;33m:\u001b[0m\u001b[1;33m\u001b[0m\u001b[1;33m\u001b[0m\u001b[0m\n\u001b[0;32m    563\u001b[0m         \u001b[0mos\u001b[0m\u001b[1;33m.\u001b[0m\u001b[0mrename\u001b[0m\u001b[1;33m(\u001b[0m\u001b[0msrc\u001b[0m\u001b[1;33m,\u001b[0m \u001b[0mreal_dst\u001b[0m\u001b[1;33m)\u001b[0m\u001b[1;33m\u001b[0m\u001b[1;33m\u001b[0m\u001b[0m\n",
      "\u001b[1;31mError\u001b[0m: Destination path 'C:\\Users\\Dell\\hiuhui\\jiazi.txt' already exists"
     ]
    }
   ],
   "source": [
    "#move()移动文件/文件夹\n",
    "#格式：shutil.move(源路径，目标路径)\n",
    "#返回值：目标路径\n",
    "shutil.move(\"C:\\\\Users\\\\Dell\\\\jiazi.txt\",\"C:\\\\Users\\\\Dell\\\\hiuhui\")"
   ]
  },
  {
   "cell_type": "markdown",
   "metadata": {},
   "source": [
    "# 归档和压缩\n",
    "- 归档：把多个文件或者文件夹合并到一个文档中\n",
    "- 压缩：用算法把多个文件或者文件夹无损或者有损合并到一个文件当中"
   ]
  },
  {
   "cell_type": "code",
   "execution_count": 64,
   "metadata": {},
   "outputs": [
    {
     "name": "stdout",
     "output_type": "stream",
     "text": [
      "C:\\Users\\Dell\\jia.zip\n"
     ]
    }
   ],
   "source": [
    "#make_archive()归档操作\n",
    "#格式：shutil.make_archive('归档之后的目录和文件名'，'后缀','需要归档的文件夹')\n",
    "#返回值：归档后的地址\n",
    "a = shutil.make_archive(\"C:\\\\Users\\\\Dell\\\\jia\",\"zip\",\"C:\\\\Users\\\\Dell\\\\hiuhui\") \n",
    "print(a)"
   ]
  },
  {
   "cell_type": "code",
   "execution_count": 65,
   "metadata": {},
   "outputs": [
    {
     "name": "stdout",
     "output_type": "stream",
     "text": [
      "None\n"
     ]
    }
   ],
   "source": [
    "#unpack_archive()解包操作\n",
    "#格式：shutil.unpack_archive(\"归档文件的地址\"，\"解包之后的地址\")\n",
    "#返回值：无\n",
    "b = shutil.unpack_archive(\"C:\\\\Users\\\\Dell\\\\jia.zip\",\"C:\\\\Users\\\\Dell\")\n",
    "print(b)"
   ]
  },
  {
   "cell_type": "markdown",
   "metadata": {},
   "source": [
    "# zip-压缩包\n",
    "- 木块名称叫 zipfile"
   ]
  },
  {
   "cell_type": "code",
   "execution_count": 67,
   "metadata": {},
   "outputs": [],
   "source": [
    "import zipfile"
   ]
  },
  {
   "cell_type": "code",
   "execution_count": 79,
   "metadata": {},
   "outputs": [
    {
     "name": "stdout",
     "output_type": "stream",
     "text": [
      "<zipfile.ZipFile filename='C:\\\\Users\\\\Dell\\\\jia.zip' mode='r'>\n"
     ]
    }
   ],
   "source": [
    "#zipfile.ZipFile(file[,mode[,compression[,allowZip64]]])\n",
    "#创建一个ZipFile对象，表示一个zip文件。参数file表示文件的路径或类文件对象(file-like object)；参数mode指示打开zip文件的模式，\n",
    "#默认值为'r'，表示读已经存在的zip文件，也可以为'w'或'a'，'w'表示新建一个zip文档或覆盖一个已经存在的zip文档，\n",
    "#'a'表示将数据附加到一个现存的zip文档中。参数compression表示在写zip文档时使用的压缩方法，它的值可以是zipfile. ZIP_STORED 或zipfile. ZIP_DEFLATED。\n",
    "#如果要操作的zip文件大小超过2G，应该将allowZip64设置为True。\n",
    "zf = zipfile.ZipFile(\"C:\\\\Users\\\\Dell\\\\jia.zip\")\n",
    "print(zf)"
   ]
  },
  {
   "cell_type": "code",
   "execution_count": 81,
   "metadata": {},
   "outputs": [
    {
     "name": "stdout",
     "output_type": "stream",
     "text": [
      "<ZipInfo filename='jiazi.txt' compress_type=deflate filemode='-rw-rw-rw-' file_size=10 compress_size=13>\n"
     ]
    }
   ],
   "source": [
    "#ZipFile.getinfo(name):\n",
    "#获取zip文档内指定文件的信息。返回一个zipfile.ZipFile对象，包括文件的详细信息\n",
    "print(zf.getinfo(\"jiazi.txt\"))"
   ]
  },
  {
   "cell_type": "code",
   "execution_count": 83,
   "metadata": {},
   "outputs": [
    {
     "name": "stdout",
     "output_type": "stream",
     "text": [
      "['jiazi.txt', 'xiaohui.txt']\n"
     ]
    }
   ],
   "source": [
    "#ZipFile.namelist()\n",
    "#获取zip文档内所有文件的名称列表\n",
    "nl = zf.namelist()\n",
    "print(nl)"
   ]
  },
  {
   "cell_type": "code",
   "execution_count": 87,
   "metadata": {},
   "outputs": [
    {
     "name": "stdout",
     "output_type": "stream",
     "text": [
      "None\n"
     ]
    }
   ],
   "source": [
    "#ZipFile.extractall([path[,members[,pwd]]])\n",
    "#解压zip文档中所有文件到当前目录。members\tzipfile 对象中所有文件名称列表，path\t解压到的目的路径,默认是压缩包所在路径，pwd\t压缩包密码, 默认无密码\n",
    "\n",
    "\n",
    "r = zf.extractall(\"C:\\\\Users\\\\Dell\\\\hiuhui\")\n",
    "print(r)"
   ]
  },
  {
   "cell_type": "markdown",
   "metadata": {},
   "source": [
    "# random \n",
    "- 随机数\n",
    "- 所有的随机模块都是伪随机"
   ]
  },
  {
   "cell_type": "code",
   "execution_count": 88,
   "metadata": {},
   "outputs": [],
   "source": [
    "import random"
   ]
  },
  {
   "cell_type": "code",
   "execution_count": 100,
   "metadata": {},
   "outputs": [
    {
     "name": "stdout",
     "output_type": "stream",
     "text": [
      "0.671754397857366\n",
      "89\n"
     ]
    }
   ],
   "source": [
    "#random() 获取0-1之间的随机小数\n",
    "#格式：random.random()\n",
    "#返回值：随机0-1之间的小数\n",
    "print(random.random())\n",
    "\n",
    "\n",
    "#作业：利用random函数，注意是函数，生成0-100直接的整数\n",
    "print(int(random.random()*100))"
   ]
  },
  {
   "cell_type": "code",
   "execution_count": 103,
   "metadata": {},
   "outputs": [
    {
     "name": "stdout",
     "output_type": "stream",
     "text": [
      "[1, 2, 3, 4, 5, 6, 7, 8, 9]\n",
      "2\n"
     ]
    }
   ],
   "source": [
    "#choice()随机返回序列中的某个值\n",
    "#格式：random.choice(序列)\n",
    "#返回值：序列中的某个值\n",
    "\n",
    "l = [i for i in range(1,10)]\n",
    "print(l)\n",
    "print(random.choice(l))"
   ]
  },
  {
   "cell_type": "code",
   "execution_count": 106,
   "metadata": {},
   "outputs": [
    {
     "name": "stdout",
     "output_type": "stream",
     "text": [
      "[8, 7, 2, 6, 5, 9, 0, 4, 1, 3]\n"
     ]
    }
   ],
   "source": [
    "#shuffle()随机打乱列表\n",
    "#格式：random.shuffle(列表)\n",
    "#返回值：随即打乱后的列表\n",
    "l1 = [i for i in range(10)]\n",
    "random.shuffle(l1)\n",
    "print(l1)"
   ]
  },
  {
   "cell_type": "code",
   "execution_count": 108,
   "metadata": {},
   "outputs": [
    {
     "name": "stdout",
     "output_type": "stream",
     "text": [
      "5\n"
     ]
    }
   ],
   "source": [
    "#randint(a,b):返回一个a到b之间的随机整数，包含a和b\n",
    "\n",
    "print(random.randint(0,100))"
   ]
  },
  {
   "cell_type": "code",
   "execution_count": 154,
   "metadata": {},
   "outputs": [
    {
     "name": "stdout",
     "output_type": "stream",
     "text": [
      "10 27 5 32 17 16 10\n"
     ]
    }
   ],
   "source": [
    "\n",
    "def cai1():\n",
    "    a = random.randint(1,33)\n",
    "    b = random.randint(1,33)\n",
    "    c = random.randint(1,33)\n",
    "    d = random.randint(1,33)\n",
    "    e = random.randint(1,33)\n",
    "    f = random.randint(1,33)\n",
    "    g = random.randint(1,16)\n",
    "    if a == b:\n",
    "        cai1()\n",
    "    elif a==c:\n",
    "        cai1()\n",
    "    elif a==d:\n",
    "        cai1()\n",
    "    elif a==e:\n",
    "        cai1()\n",
    "    elif a==f:\n",
    "        cai1()\n",
    "    elif b ==c:\n",
    "        cai1()\n",
    "    elif b ==d:\n",
    "        cai1()\n",
    "    elif b == e:\n",
    "        cai1()\n",
    "    elif b ==f:\n",
    "        cai1()\n",
    "    elif c ==d:\n",
    "        cai1()\n",
    "    elif c ==e:\n",
    "        cai1()\n",
    "    elif c==f:\n",
    "        cai1()\n",
    "    elif d==e:\n",
    "        cai1()\n",
    "    elif d ==f:\n",
    "        cai1()\n",
    "    elif e == f:\n",
    "        cai1()\n",
    "    else:\n",
    "        print(a,b,c,d,e,f,g)\n",
    "\n",
    "        \n",
    "cai1()"
   ]
  }
 ],
 "metadata": {
  "kernelspec": {
   "display_name": "Python 3",
   "language": "python",
   "name": "python3"
  },
  "language_info": {
   "codemirror_mode": {
    "name": "ipython",
    "version": 3
   },
   "file_extension": ".py",
   "mimetype": "text/x-python",
   "name": "python",
   "nbconvert_exporter": "python",
   "pygments_lexer": "ipython3",
   "version": "3.7.3"
  }
 },
 "nbformat": 4,
 "nbformat_minor": 2
}
