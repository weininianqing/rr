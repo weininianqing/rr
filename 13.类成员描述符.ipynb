{
 "cells": [
  {
   "cell_type": "code",
   "execution_count": 5,
   "metadata": {},
   "outputs": [
    {
     "name": "stdout",
     "output_type": "stream",
     "text": [
      "dahui\n",
      "{'__module__': '__main__', '__init__': <function A.__init__ at 0x000002167CEC36A8>, '__dict__': <attribute '__dict__' of 'A' objects>, '__weakref__': <attribute '__weakref__' of 'A' objects>, '__doc__': None}\n"
     ]
    }
   ],
   "source": [
    "#变量三种用法\n",
    "class A():\n",
    "    def __init__(self):\n",
    "        self.name = \"dada\"\n",
    "        self.age = 14\n",
    "\n",
    "a = A()\n",
    "#属性的三种用法\n",
    "#1.赋值\n",
    "#2.读取\n",
    "#3.删除\n",
    "a.name = \"dahui\"\n",
    "print(a.name)\n",
    "del a.name\n",
    "print(A.__dict__)"
   ]
  },
  {
   "cell_type": "code",
   "execution_count": 12,
   "metadata": {},
   "outputs": [
    {
     "name": "stdout",
     "output_type": "stream",
     "text": [
      "我被读取了\n",
      "dada\n",
      "我被修改了\n",
      "ti\n"
     ]
    }
   ],
   "source": [
    "#类属性 property\n",
    "#应用场景\n",
    "#对变量除了普通的三种操作，还想增加一些附加的操作，那么可以通过property实现\n",
    "class A():\n",
    "    def __init__(self):\n",
    "        self.name = \"dada\"\n",
    "        self.age = 14\n",
    "    #此功能，是对变量进行读取操作的时候应该执行的函数\n",
    "    def fget(self):\n",
    "        print(\"我被读取了\")\n",
    "        return self.name\n",
    "    #模拟的是对变量进行写操作是的功能\n",
    "    def fset(self,name):\n",
    "        print(\"我被修改了\")\n",
    "        self.name = name\n",
    "        print(\"{0}\".format(self.name))\n",
    "    #fdel模拟的是对变量删除的时候的操作\n",
    "    def fdel(self):\n",
    "        pass\n",
    "    #property里面的函数参数是确定顺序的\n",
    "    name2 = property(fget,fset,fdel,\"哈哈哈哈\")\n",
    "\n",
    "\n",
    "    \n",
    "a = A()\n",
    "print(a.name2)\n",
    "a.name2 = \"ti\""
   ]
  },
  {
   "cell_type": "code",
   "execution_count": 13,
   "metadata": {},
   "outputs": [],
   "source": [
    "#抽象方法\n",
    "#抽象方法表示基类的一个方法，没有实现，所以基类不能实例化，子类实现了该抽象方法才能被实例化。\n",
    "class Animel():\n",
    "    def sayhello(self):\n",
    "        pass\n",
    "class dog(Animel):\n",
    "    \n",
    "    def sayhello(self):\n",
    "        print(\"旺旺\")\n",
    "\n",
    "class person(Animel):\n",
    "    \n",
    "    def sayhello(self):\n",
    "        print(\"hello\")\n",
    "        \n",
    "    "
   ]
  },
  {
   "cell_type": "code",
   "execution_count": 19,
   "metadata": {},
   "outputs": [
    {
     "name": "stdout",
     "output_type": "stream",
     "text": [
      "dada\n"
     ]
    }
   ],
   "source": [
    "#抽象类的实现\n",
    "\n",
    "import abc\n",
    "#声明一个类并且指定当前类的元类\n",
    "class human(metaclass=abc.ABCMeta):\n",
    "    #定义一个抽象方法\n",
    "    @abc.abstractmethod\n",
    "    def smoking(self):\n",
    "        pass\n",
    "    #定义类抽象方法\n",
    "    @abc.abstractclassmethod\n",
    "    def drink():\n",
    "        pass\n",
    "    #定义静态抽象方法\n",
    "    @abc.abstractstaticmethod\n",
    "    def play():\n",
    "        pass\n",
    "    def sleep(self):\n",
    "        print(\"sleep....\")\n",
    "class son(human):\n",
    "    \n",
    "    def smoking(self):\n",
    "        print(\"dada\")\n",
    "    def play():\n",
    "        print(\"dalanqiu\")\n",
    "    def drink():\n",
    "        print(\"hehsui\")\n",
    "a = son()\n",
    "a.smoking()"
   ]
  },
  {
   "cell_type": "code",
   "execution_count": 27,
   "metadata": {},
   "outputs": [
    {
     "name": "stdout",
     "output_type": "stream",
     "text": [
      "asdasdsa\n",
      "asdasdsa\n"
     ]
    }
   ],
   "source": [
    "#自己组装一个类\n",
    "\n",
    "class A():\n",
    "    pass\n",
    "def say(self):\n",
    "    print(\"asdasdsa\")\n",
    "    \n",
    "say(1)   \n",
    "A.says = say\n",
    "a = A()\n",
    "a.says()"
   ]
  },
  {
   "cell_type": "code",
   "execution_count": 33,
   "metadata": {},
   "outputs": [
    {
     "name": "stdout",
     "output_type": "stream",
     "text": [
      "我叫xiajiazi\n",
      "我叫jiazi\n"
     ]
    }
   ],
   "source": [
    "#函数名可以当变量使用\n",
    "def sayhello(name):\n",
    "    print(\"我叫{0}\".format(name))\n",
    "sayhello(\"xiajiazi\")\n",
    "liumang = sayhello\n",
    "liumang(\"jiazi\")"
   ]
  },
  {
   "cell_type": "code",
   "execution_count": 36,
   "metadata": {},
   "outputs": [
    {
     "name": "stdout",
     "output_type": "stream",
     "text": [
      "asdasdsa\n"
     ]
    }
   ],
   "source": [
    "#组装类例子2\n",
    "#不能直接绑定实例可以直接绑定类\n",
    "from types import MethodType\n",
    "class A():\n",
    "    pass\n",
    "def say(self):\n",
    "    print(\"asdasdsa\")\n",
    "    \n",
    "a = A()\n",
    "a.say = MethodType(say,A)#用这个MethodType把需要绑定的方法给绑定在哪里A代表绑定在哪个类上\n",
    "a.say()"
   ]
  },
  {
   "cell_type": "code",
   "execution_count": 38,
   "metadata": {},
   "outputs": [
    {
     "name": "stdout",
     "output_type": "stream",
     "text": [
      "Help on class type in module builtins:\n",
      "\n",
      "class type(object)\n",
      " |  type(object_or_name, bases, dict)\n",
      " |  type(object) -> the object's type\n",
      " |  type(name, bases, dict) -> a new type\n",
      " |  \n",
      " |  Methods defined here:\n",
      " |  \n",
      " |  __call__(self, /, *args, **kwargs)\n",
      " |      Call self as a function.\n",
      " |  \n",
      " |  __delattr__(self, name, /)\n",
      " |      Implement delattr(self, name).\n",
      " |  \n",
      " |  __dir__(self, /)\n",
      " |      Specialized __dir__ implementation for types.\n",
      " |  \n",
      " |  __getattribute__(self, name, /)\n",
      " |      Return getattr(self, name).\n",
      " |  \n",
      " |  __init__(self, /, *args, **kwargs)\n",
      " |      Initialize self.  See help(type(self)) for accurate signature.\n",
      " |  \n",
      " |  __instancecheck__(self, instance, /)\n",
      " |      Check if an object is an instance.\n",
      " |  \n",
      " |  __repr__(self, /)\n",
      " |      Return repr(self).\n",
      " |  \n",
      " |  __setattr__(self, name, value, /)\n",
      " |      Implement setattr(self, name, value).\n",
      " |  \n",
      " |  __sizeof__(self, /)\n",
      " |      Return memory consumption of the type object.\n",
      " |  \n",
      " |  __subclasscheck__(self, subclass, /)\n",
      " |      Check if a class is a subclass.\n",
      " |  \n",
      " |  __subclasses__(self, /)\n",
      " |      Return a list of immediate subclasses.\n",
      " |  \n",
      " |  mro(self, /)\n",
      " |      Return a type's method resolution order.\n",
      " |  \n",
      " |  ----------------------------------------------------------------------\n",
      " |  Class methods defined here:\n",
      " |  \n",
      " |  __prepare__(...)\n",
      " |      __prepare__() -> dict\n",
      " |      used to create the namespace for the class statement\n",
      " |  \n",
      " |  ----------------------------------------------------------------------\n",
      " |  Static methods defined here:\n",
      " |  \n",
      " |  __new__(*args, **kwargs)\n",
      " |      Create and return a new object.  See help(type) for accurate signature.\n",
      " |  \n",
      " |  ----------------------------------------------------------------------\n",
      " |  Data descriptors defined here:\n",
      " |  \n",
      " |  __abstractmethods__\n",
      " |  \n",
      " |  __dict__\n",
      " |  \n",
      " |  __text_signature__\n",
      " |  \n",
      " |  ----------------------------------------------------------------------\n",
      " |  Data and other attributes defined here:\n",
      " |  \n",
      " |  __base__ = <class 'object'>\n",
      " |      The most base type\n",
      " |  \n",
      " |  __bases__ = (<class 'object'>,)\n",
      " |  \n",
      " |  __basicsize__ = 864\n",
      " |  \n",
      " |  __dictoffset__ = 264\n",
      " |  \n",
      " |  __flags__ = -2146675712\n",
      " |  \n",
      " |  __itemsize__ = 40\n",
      " |  \n",
      " |  __mro__ = (<class 'type'>, <class 'object'>)\n",
      " |  \n",
      " |  __weakrefoffset__ = 368\n",
      "\n"
     ]
    }
   ],
   "source": [
    "help(type)"
   ]
  },
  {
   "cell_type": "code",
   "execution_count": 42,
   "metadata": {},
   "outputs": [
    {
     "name": "stdout",
     "output_type": "stream",
     "text": [
      "Aname\n",
      "sleep...\n"
     ]
    }
   ],
   "source": [
    "# 利用type造一个类\n",
    "\n",
    "#先定义类应该具有的成员函数\n",
    "def say(self):\n",
    "    print(\"sleep...\")\n",
    "\n",
    "def eat(self):\n",
    "    print(\"damifan\")\n",
    "\n",
    "    \n",
    "# 利用type创建一个类\n",
    "A = type(\"Aname\",(object,),{\"class_say\":say,\"class_eat\":eat})\n",
    "#然后可以向正常访问一样使用类\n",
    "\n",
    "print(A.__name__)\n",
    "a = A()\n",
    "a.class_say()"
   ]
  },
  {
   "cell_type": "code",
   "execution_count": 1,
   "metadata": {},
   "outputs": [
    {
     "name": "stdout",
     "output_type": "stream",
     "text": [
      "teacher\n",
      "<class '__main__.huiMetaClass'>\n",
      "(<class 'object'>,)\n",
      "{'__module__': '__main__', '__qualname__': 'teacher'}\n",
      "我是元类\n",
      "<class 'dict'>\n"
     ]
    }
   ],
   "source": [
    "#元类演示\n",
    "\n",
    "#元类的写法是固定的，它必须继承自type\n",
    "#元类命名一般是MetaClass结尾\n",
    "class huiMetaClass(type):\n",
    "    \n",
    "    def __new__(cls,name,bases,attrs):#这后三个参数完全是为了和定义的新类匹配参看type的创建类方法\n",
    "        #自己的业务处理\\\n",
    "        print(name)\n",
    "        print(cls)\n",
    "        print(bases)\n",
    "        print(attrs)\n",
    "        print(\"我是元类\")\n",
    "        attrs['id'] = \"22222\"\n",
    "        attrs['dizhi'] = \"南京\"\n",
    "        print(type(attrs))\n",
    "        return type.__new__(cls,name,bases,attrs)\n",
    "    def say(self):\n",
    "        print(\"{0}\".format(name))\n",
    "    \n",
    "#元类定义完就可以使用，使用注意写法\n",
    "class teacher(object,metaclass=huiMetaClass):#teacher=huiMetaClass(name,bases,dict)\n",
    "    pass\n",
    "\n",
    "t = teacher()\n",
    "\n",
    "#print(teacher.__bases__)\n",
    "#t.dizhi\n",
    "\n",
    "#t.name = \"yy\"\n"
   ]
  },
  {
   "cell_type": "code",
   "execution_count": 79,
   "metadata": {},
   "outputs": [
    {
     "data": {
      "text/plain": [
       "mappingproxy({'__module__': '__main__',\n",
       "              '__dict__': <attribute '__dict__' of 'a' objects>,\n",
       "              '__weakref__': <attribute '__weakref__' of 'a' objects>,\n",
       "              '__doc__': None})"
      ]
     },
     "execution_count": 79,
     "metadata": {},
     "output_type": "execute_result"
    }
   ],
   "source": [
    "class a():\n",
    "    pass\n",
    "a.__dict__"
   ]
  }
 ],
 "metadata": {
  "kernelspec": {
   "display_name": "Python 3",
   "language": "python",
   "name": "python3"
  },
  "language_info": {
   "codemirror_mode": {
    "name": "ipython",
    "version": 3
   },
   "file_extension": ".py",
   "mimetype": "text/x-python",
   "name": "python",
   "nbconvert_exporter": "python",
   "pygments_lexer": "ipython3",
   "version": "3.7.3"
  }
 },
 "nbformat": 4,
 "nbformat_minor": 2
}
