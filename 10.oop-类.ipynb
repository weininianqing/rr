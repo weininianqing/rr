{
 "cells": [
  {
   "cell_type": "code",
   "execution_count": 1,
   "metadata": {},
   "outputs": [
    {
     "name": "stdout",
     "output_type": "stream",
     "text": [
      "{'name': 'dahui', 'age': 19, 'course': 'Python'}\n"
     ]
    }
   ],
   "source": [
    "class Student():\n",
    "    name = \"hui\"\n",
    "    age = 18\n",
    "    \n",
    "# 查看类中的所有成员\n",
    "Student.__dict__\n",
    "#实例化\n",
    "A = Student()\n",
    "A.name = \"dahui\"\n",
    "A.age = 19\n",
    "A.course = \"Python\"\n",
    "\n",
    "#输出对象中的所有成员\n",
    "print(A.__dict__)"
   ]
  },
  {
   "cell_type": "code",
   "execution_count": 22,
   "metadata": {},
   "outputs": [
    {
     "name": "stdout",
     "output_type": "stream",
     "text": [
      "dahui\n",
      "18\n",
      "********************\n",
      "2236956276920\n",
      "140729996645728\n",
      "********************\n",
      "dahui\n",
      "18\n",
      "2236956276920\n",
      "140729996645728\n"
     ]
    }
   ],
   "source": [
    "class B():\n",
    "    name = \"dahui\"\n",
    "    age = 18\n",
    "    \n",
    "    def say(self):\n",
    "        self.name = \"aa\"\n",
    "        self.age = 20\n",
    "        \n",
    "#此案例说明\n",
    "#类实例属性和其对象的实例的属性在不对对象实例属性赋值的前提下，指向同一个变量\n",
    "#此时，B称为类实例 \n",
    "print(B.name)\n",
    "print(B.age)\n",
    "print(\"*\" * 20)\n",
    "\n",
    "\n",
    "print(id(B.name))\n",
    "print(id(B.age))\n",
    "\n",
    "print(\"*\" * 20)\n",
    "\n",
    "a = B()\n",
    "print(a.name)\n",
    "print(a.age)\n",
    "print(id(a.name))\n",
    "print(id(a.age))"
   ]
  },
  {
   "cell_type": "code",
   "execution_count": 25,
   "metadata": {
    "scrolled": true
   },
   "outputs": [
    {
     "name": "stdout",
     "output_type": "stream",
     "text": [
      "dahui\n",
      "18\n",
      "********************\n",
      "2236956276920\n",
      "140729996645728\n",
      "********************\n",
      "{'__module__': '__main__', 'name': 'dahui', 'age': 18, 'say': <function B.say at 0x00000208D4F83AE8>, '__dict__': <attribute '__dict__' of 'B' objects>, '__weakref__': <attribute '__weakref__' of 'B' objects>, '__doc__': None}\n",
      "{}\n",
      "{'name': 'xiahui', 'age': 10}\n",
      "xiahui\n",
      "10\n",
      "2236956363608\n",
      "140729996645472\n"
     ]
    }
   ],
   "source": [
    "#此时，B称为类实例 \n",
    "print(B.name)\n",
    "print(B.age)\n",
    "print(\"*\" * 20)\n",
    "\n",
    "\n",
    "print(id(B.name))\n",
    "print(id(B.age))\n",
    "\n",
    "print(\"*\" * 20)\n",
    "\n",
    "a = B()\n",
    "#查看B中所有属性\n",
    "print(B.__dict__)\n",
    "print(a.__dict__)\n",
    "a.name = \"xiahui\"\n",
    "a.age = 10\n",
    "print(a.__dict__)\n",
    "print(a.name)\n",
    "print(a.age)\n",
    "print(id(a.name))\n",
    "print(id(a.age))"
   ]
  },
  {
   "cell_type": "code",
   "execution_count": 11,
   "metadata": {},
   "outputs": [
    {
     "name": "stdout",
     "output_type": "stream",
     "text": [
      "我叫王绍辉\n",
      "我今天20岁\n"
     ]
    }
   ],
   "source": [
    "class student():\n",
    "    name = \"dahui\"\n",
    "    __age = 18\n",
    "    \n",
    "    def say(self):\n",
    "        self.name = \"王绍辉\"\n",
    "        self.age = 20\n",
    "        print(\"我叫{0}\".format(self.name))\n",
    "        print(\"我今天{0}岁\".format(self.age))\n",
    "stu = student()\n",
    "stu.say()"
   ]
  },
  {
   "cell_type": "code",
   "execution_count": 14,
   "metadata": {},
   "outputs": [
    {
     "name": "stdout",
     "output_type": "stream",
     "text": [
      "mingzi\n",
      "xiaoming\n",
      "我的工作是chengxuyuan\n",
      "9527\n",
      "eeeee\n",
      "我的工作是chengxuyuan\n",
      "我的工作是chengxuyuan\n",
      "我的工作是chengxuyuan\n"
     ]
    }
   ],
   "source": [
    "class people():\n",
    "    \n",
    "    name = \"mingzi\"\n",
    "    age = 18\n",
    "    _petname = \"xiaoming\"#这是受保护的，子类可以访问外部不可以\n",
    "    def work(self):\n",
    "        self.gongzuo = \"chengxuyuan\"\n",
    "        print(\"我的工作是{0}\".format(self.gongzuo))\n",
    "        \n",
    "#父类写在括号内\n",
    "#子类可以定义特有的成员属性和方法\n",
    "class teacher(people):\n",
    "    teacher_id = \"9527\"\n",
    "    def mark_test(self):\n",
    "        print(\"eeeee\")\n",
    "   \n",
    "print(people.name)\n",
    "ming = teacher()\n",
    "#这里为甚么可以访问,\n",
    "print(ming._petname)\n",
    "ming.work()\n",
    "print(ming.teacher_id)\n",
    "ming.mark_test()\n",
    "people.work(teacher)\n",
    "ming.work()\n",
    "teacher.work(people)"
   ]
  },
  {
   "cell_type": "code",
   "execution_count": 16,
   "metadata": {},
   "outputs": [
    {
     "name": "stdout",
     "output_type": "stream",
     "text": [
      "33\n",
      "60\n",
      "我是桌子\n",
      "{'__module__': '__main__', 'chang': 33, '__doc__': None}\n"
     ]
    }
   ],
   "source": [
    "#子类中定义的成员和父类成员如果相同，则优先使用子类成员\n",
    "class jiaju():\n",
    "    chang = 50\n",
    "    kuan = 60\n",
    "    def xinghao(self):\n",
    "        print(\"我是桌子\")\n",
    "class yizi(jiaju):\n",
    "    chang = 33\n",
    "    #def xinghao(self):\n",
    "        #print(\"我是椅子\")\n",
    "x = yizi()\n",
    "print(x.chang)\n",
    "print(x.kuan)\n",
    "x.xinghao()\n",
    "print(yizi.__dict__)"
   ]
  },
  {
   "cell_type": "code",
   "execution_count": 35,
   "metadata": {},
   "outputs": [
    {
     "name": "stdout",
     "output_type": "stream",
     "text": [
      "mark some money\n",
      "eeeee\n"
     ]
    }
   ],
   "source": [
    "#子类如果扩充父类的方法，可以在定义新方法的同时访问父类成员来进行代码重用\n",
    "#子类扩充父类的函数\n",
    "#人有工作的函数，老师也有工作的函数，但是老师工作需要教课\n",
    "class person():\n",
    "    name = \"NoName\"\n",
    "    age = 18\n",
    "    \n",
    "    def sleep(self):\n",
    "        print(\"sleeping....\")\n",
    "    def work(self):\n",
    "        print(\"mark some money\")\n",
    "class teacher(person):\n",
    "    teacher_id = \"9527\"\n",
    "    name = \"dahui\"\n",
    "    \n",
    "    def mark_test(self):\n",
    "        print(\"eeeee\")\n",
    "# 老师的工作不只有挣钱还要考试\n",
    "    def work(self):\n",
    "        #扩充父类的功能只需要调用父类相应的函数\n",
    "        #person.work(self)#这里的self是teacher一个实例，子类可以冒充父类但是父类一般不可以冒充子类，看下面函数\n",
    "        #另一种扩充父类的方法\n",
    "        #super代表得到父类\n",
    "        super().work()\n",
    "        self.mark_test()\n",
    "t = teacher()\n",
    "t.work()"
   ]
  },
  {
   "cell_type": "code",
   "execution_count": 36,
   "metadata": {},
   "outputs": [
    {
     "name": "stdout",
     "output_type": "stream",
     "text": [
      "asdasd\n"
     ]
    }
   ],
   "source": [
    "#\n",
    "class tea():\n",
    "    name = \"xiaodi\"\n",
    "    def wo(self):\n",
    "        print(\"asdasd\")\n",
    "tea.wo(tea)"
   ]
  },
  {
   "cell_type": "code",
   "execution_count": 38,
   "metadata": {},
   "outputs": [
    {
     "name": "stdout",
     "output_type": "stream",
     "text": [
      "love jiagou\n"
     ]
    }
   ],
   "source": [
    "# 构造函数的概念\n",
    "\n",
    "class dog():\n",
    "    #__init__就是构造函数\n",
    "    #每次实例化的时候第一个被调用\n",
    "    #因为主要工作是进行初始化，所以得名\n",
    "    def __init__(self):\n",
    "        print(\"love jiagou\")\n",
    "# 实例化的时候，括号内的参数需要跟构造函数参数匹配\n",
    "k = dog()"
   ]
  },
  {
   "cell_type": "code",
   "execution_count": 49,
   "metadata": {},
   "outputs": [
    {
     "name": "stdout",
     "output_type": "stream",
     "text": [
      "love jiagou\n",
      "oaxingdaongwu \n"
     ]
    }
   ],
   "source": [
    "# 继承中的构造函数\n",
    "class animel():\n",
    "    pass\n",
    "class paxing(animel):\n",
    "    def __init__(self):\n",
    "        print(\"oaxingdaongwu \")\n",
    "\n",
    "class dog(paxing):\n",
    "    #__init__就是构造函数\n",
    "    #每次实例化的时候第一个被调用\n",
    "    #因为主要工作是进行初始化，所以得名\n",
    "    def __init__(self):\n",
    "        print(\"love jiagou\")\n",
    "        \n",
    "#实例化的时候，自动调用了dog的构造函数\n",
    "#因为在本类找到了构造函数，则不在查找父类的构造函数\n",
    "k = dog()\n",
    "\n",
    "\n",
    "#这里定义的cat类没有构造函数，则继续向父类查找，在哪找到构造函数了就停止查找了\n",
    "class cat(paxing):\n",
    "    pass\n",
    "c = cat()"
   ]
  },
  {
   "cell_type": "code",
   "execution_count": 52,
   "metadata": {},
   "outputs": [
    {
     "name": "stdout",
     "output_type": "stream",
     "text": [
      "love jiagou\n",
      "oaxingdaongwu xiaohei\n"
     ]
    }
   ],
   "source": [
    "# 继承中的构造函数2\n",
    "class animel():\n",
    "    def __init__(self):\n",
    "        \n",
    "        print(\"animel\")\n",
    "        \n",
    "class paxing(animel):\n",
    "    def __init__(self,name):\n",
    "        print(\"oaxingdaongwu {0}\".format(name))\n",
    "\n",
    "class dog(paxing):\n",
    "    name = \"xiaohei\"\n",
    "    #__init__就是构造函数\n",
    "    #每次实例化的时候第一个被调用\n",
    "    #因为主要工作是进行初始化，所以得名\n",
    "    def __init__(self):\n",
    "        print(\"love jiagou\")\n",
    "        \n",
    "#实例化的时候，自动调用了dog的构造函数\n",
    "#因为在本类找到了构造函数，则不在查找父类的构造函数\n",
    "k = dog()\n",
    "\n",
    "class cat(paxing):\n",
    "    name = \"xiaobai\"\n",
    "\n",
    "#此时由于cat没有构造函数继续往上面找\n",
    "#因为paxing构造函数需要两个参数，实例化的时候给了一个，报错\n",
    "c = cat(dog.name)#这里不是需要两个参数，self相当于吧c传入了占了，dog.name吧name占了\n"
   ]
  }
 ],
 "metadata": {
  "kernelspec": {
   "display_name": "Python 3",
   "language": "python",
   "name": "python3"
  },
  "language_info": {
   "codemirror_mode": {
    "name": "ipython",
    "version": 3
   },
   "file_extension": ".py",
   "mimetype": "text/x-python",
   "name": "python",
   "nbconvert_exporter": "python",
   "pygments_lexer": "ipython3",
   "version": "3.7.3"
  }
 },
 "nbformat": 4,
 "nbformat_minor": 2
}
