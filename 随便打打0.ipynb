{
 "cells": [
  {
   "cell_type": "code",
   "execution_count": 1,
   "metadata": {},
   "outputs": [
    {
     "name": "stdout",
     "output_type": "stream",
     "text": [
      "()\n",
      "{}\n",
      "sadasdas16\n"
     ]
    }
   ],
   "source": [
    "def ff(f):\n",
    "    def a(*arge,**kwargs):\n",
    "        print(\"{0}\".format(arge))\n",
    "        print(\"{0}\".format(kwargs))\n",
    "        return f(*arge,**kwargs)#这里的作用就是如果外面函数带参数的情况不会粗错\n",
    "    return a\n",
    "def helll(a=16):\n",
    "    print(\"sadasdas{}\".format(a))\n",
    "    \n",
    "helll2 = ff(helll)\n",
    "helll2()\n",
    "#这个函数最重要的是a是可以增加参数的，注意a和f的参数是不同的调用的时候如果a里面有参数，在hello2相应的里面就应该补齐对应参数"
   ]
  },
  {
   "cell_type": "code",
   "execution_count": 15,
   "metadata": {},
   "outputs": [
    {
     "name": "stdout",
     "output_type": "stream",
     "text": [
      "Help on built-in function allocate_lock in module _thread:\n",
      "\n",
      "allocate_lock(...)\n",
      "    allocate_lock() -> lock object\n",
      "    (allocate() is an obsolete synonym)\n",
      "    \n",
      "    Create a new lock object. See help(type(threading.Lock())) for\n",
      "    information about locks.\n",
      "\n"
     ]
    }
   ],
   "source": [
    "import threading\n",
    "help(threading.Lock)"
   ]
  },
  {
   "cell_type": "code",
   "execution_count": null,
   "metadata": {},
   "outputs": [],
   "source": []
  }
 ],
 "metadata": {
  "kernelspec": {
   "display_name": "Python 3",
   "language": "python",
   "name": "python3"
  },
  "language_info": {
   "codemirror_mode": {
    "name": "ipython",
    "version": 3
   },
   "file_extension": ".py",
   "mimetype": "text/x-python",
   "name": "python",
   "nbconvert_exporter": "python",
   "pygments_lexer": "ipython3",
   "version": "3.7.3"
  }
 },
 "nbformat": 4,
 "nbformat_minor": 2
}
