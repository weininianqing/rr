{
 "cells": [
  {
   "cell_type": "markdown",
   "metadata": {},
   "source": [
    "# 关于元组的函数\n",
    "- len：获取元组元组的长度\n"
   ]
  },
  {
   "cell_type": "code",
   "execution_count": 2,
   "metadata": {},
   "outputs": [
    {
     "name": "stdout",
     "output_type": "stream",
     "text": [
      "5\n"
     ]
    }
   ],
   "source": [
    "#len\n",
    "t = (1,2,3,4,5,5,1)\n",
    "print(len(t))"
   ]
  },
  {
   "cell_type": "code",
   "execution_count": 4,
   "metadata": {},
   "outputs": [
    {
     "name": "stdout",
     "output_type": "stream",
     "text": [
      "5\n",
      "1\n"
     ]
    }
   ],
   "source": [
    "#max,min:最大值和最小值\n",
    "#如果，列表或元组中有多个最大最小值，则实际打印出哪个\n",
    "print(max(t))\n",
    "print(min(t))"
   ]
  },
  {
   "cell_type": "code",
   "execution_count": 9,
   "metadata": {},
   "outputs": [
    {
     "name": "stdout",
     "output_type": "stream",
     "text": [
      "(11, 4, 2, 5, 45, 45)\n",
      "()\n",
      "(1, 2, 3, 4)\n"
     ]
    }
   ],
   "source": [
    "# tuple:创建或转化元组\n",
    "l = [11,4,2,5,45,45]\n",
    "t1 = tuple(l)\n",
    "print(t1)\n",
    "#创建空元组\n",
    "print(tuple())\n",
    "\n",
    "print(tuple(i for i in range(1,5)))"
   ]
  },
  {
   "cell_type": "markdown",
   "metadata": {},
   "source": [
    "# 元组的函数\n",
    "- 基本跟list通用"
   ]
  },
  {
   "cell_type": "code",
   "execution_count": 13,
   "metadata": {},
   "outputs": [
    {
     "name": "stdout",
     "output_type": "stream",
     "text": [
      "2\n",
      "3\n"
     ]
    }
   ],
   "source": [
    "#count 计算制定数据出现的次数\n",
    "t = (4,554,4,8,74,7,87,8,7,8)\n",
    "print(t.count(7))\n",
    "\n",
    "\n",
    "#index:求指定元素在元组中索引位置,如果里面有多个指定元素，返回第一个的索引值\n",
    "print(t.index(8))"
   ]
  },
  {
   "cell_type": "markdown",
   "metadata": {},
   "source": [
    "# 元组变量交换法\n",
    "- 两个变量交换值\n"
   ]
  },
  {
   "cell_type": "code",
   "execution_count": 16,
   "metadata": {},
   "outputs": [
    {
     "name": "stdout",
     "output_type": "stream",
     "text": [
      "2 1\n",
      "1 2\n"
     ]
    }
   ],
   "source": [
    "#两个变量交换值\n",
    "a = 1\n",
    "b = 2\n",
    "#java程序员的写法\n",
    "c = a\n",
    "a = b\n",
    "b = c\n",
    "print(a,b)\n",
    "#python 的写法\n",
    "\n",
    "a,b = b,a\n",
    "print(a,b)"
   ]
  },
  {
   "cell_type": "markdown",
   "metadata": {},
   "source": [
    "# 集合 set\n",
    "- 集合是高中数学中的一个概念\n",
    "- 一堆确定的无序的唯一的数据，集合中每一个数据成为一个元素"
   ]
  },
  {
   "cell_type": "code",
   "execution_count": 2,
   "metadata": {},
   "outputs": [
    {
     "name": "stdout",
     "output_type": "stream",
     "text": [
      "<class 'set'>\n",
      "{1, 6, 9, 10, 11, 13, 14, 15, 16, 17, 18, 20, 22, 23, 24, 25, 28, 29, 31, 32, 35, 36, 37, 38, 39, 41, 43, 44, 45, 46, 50, 51, 54, 55, 56, 58, 59, 61, 62, 64, 68, 70, 71, 72, 73, 75, 76, 77, 78, 79, 80, 83, 84, 86, 87, 89, 90, 91, 93, 94, 95, 97}\n",
      "<class 'set'>\n",
      "{1, 2, 3, 5, 7}\n"
     ]
    }
   ],
   "source": [
    "# 集合的定义\n",
    "import random\n",
    "l = list()\n",
    "for i in range(100):\n",
    "    l.append(random.randint(1,100))\n",
    "s = set(l)\n",
    "\n",
    "print(type(s))\n",
    "print(s)\n",
    "\n",
    "#此时大括号内一定要有值，否则定义出来的是一个字典dict\n",
    "s = {1,2,3,7,5}\n",
    "print(type(s))\n",
    "print(s)"
   ]
  },
  {
   "cell_type": "code",
   "execution_count": 23,
   "metadata": {},
   "outputs": [
    {
     "name": "stdout",
     "output_type": "stream",
     "text": [
      "<class 'dict'>\n",
      "{}\n"
     ]
    }
   ],
   "source": [
    "#如果用大括号定义，则定义的是一个dict类型\n",
    "a = {}\n",
    "print(type(a))\n",
    "print(a)"
   ]
  },
  {
   "cell_type": "markdown",
   "metadata": {},
   "source": [
    "# 集合的特征\n",
    "- 集合内数据是无序的，不存在索引和分片\n",
    "- 集合内部数据是唯一的，可以排重\n",
    "- 集合内的数据，str，int，float，tuple，冰冻集等，即内部只能放可哈希的数据"
   ]
  },
  {
   "cell_type": "markdown",
   "metadata": {},
   "source": [
    "   # 集合序列操作"
   ]
  },
  {
   "cell_type": "code",
   "execution_count": 31,
   "metadata": {},
   "outputs": [
    {
     "name": "stdout",
     "output_type": "stream",
     "text": [
      "<class 'set'>\n",
      "yse\n",
      "yes\n"
     ]
    }
   ],
   "source": [
    "#成员检测\n",
    "#in 和not in\n",
    "s = {\"woai\",\"wangshaohui\",5,8}\n",
    "print(type(s))\n",
    "if \"wangshaohui\" in s:\n",
    "    print(\"yse\")\n",
    "if \"www\" not in s:\n",
    "    print(\"yes\")"
   ]
  },
  {
   "cell_type": "markdown",
   "metadata": {},
   "source": [
    "## 集合的遍历操作\n"
   ]
  },
  {
   "cell_type": "code",
   "execution_count": 39,
   "metadata": {},
   "outputs": [
    {
     "name": "stdout",
     "output_type": "stream",
     "text": [
      "woai\n",
      "wangshaohui\n",
      "5\n",
      "8\n",
      "{'woai', 'wangshaohui', 5, 8}\n"
     ]
    }
   ],
   "source": [
    "# for 循环\n",
    "s = {\"woai\",\"wangshaohui\",5,8}\n",
    "for i in s:\n",
    "    print(i)\n",
    "print(s)"
   ]
  },
  {
   "cell_type": "code",
   "execution_count": 4,
   "metadata": {},
   "outputs": [
    {
     "name": "stdout",
     "output_type": "stream",
     "text": [
      "1 - - 5 - - 4\n",
      "love - - ai - - dir\n",
      "wanmg - - shao - - hui\n",
      "(1, 5, 4)\n",
      "('love', 'ai', 'dir')\n",
      "('wanmg', 'shao', 'hui')\n"
     ]
    }
   ],
   "source": [
    "# 拥有元组的集合遍历\n",
    "s = {(1,5,4),(\"wanmg\",\"shao\",\"hui\"),(\"love\",\"ai\",\"dir\")}\n",
    "for k, m, n in s:\n",
    "    print(k,\"- -\",m,\"- -\",n)\n",
    "for k in s:\n",
    "    print(k)"
   ]
  },
  {
   "cell_type": "markdown",
   "metadata": {},
   "source": [
    "# 集合的内涵\n"
   ]
  },
  {
   "cell_type": "code",
   "execution_count": 47,
   "metadata": {},
   "outputs": [
    {
     "name": "stdout",
     "output_type": "stream",
     "text": [
      "{1, 2, 5}\n",
      "{1, 2, 5}\n"
     ]
    }
   ],
   "source": [
    "#普通集合内涵,会自动过滤掉重复的元素a\n",
    "s = {1,1,1,2,1,1,5,5,1,5,5,5,5}\n",
    "print(s)\n",
    "\n",
    "ss = {i for i in s}\n",
    "print(ss)"
   ]
  },
  {
   "cell_type": "code",
   "execution_count": 49,
   "metadata": {},
   "outputs": [
    {
     "name": "stdout",
     "output_type": "stream",
     "text": [
      "{2}\n"
     ]
    }
   ],
   "source": [
    "# 待条件的集合内涵\n",
    "sss = {i for i in s if i % 2 == 0}\n",
    "print(sss)"
   ]
  },
  {
   "cell_type": "code",
   "execution_count": 8,
   "metadata": {},
   "outputs": [
    {
     "name": "stdout",
     "output_type": "stream",
     "text": [
      "{'c', 'aaa', 'a', 'bb', 'bbbb', 'aaaa', 'cccc', 'aa', 'cc', 'bbb', 'b', 'ccc'}\n"
     ]
    }
   ],
   "source": [
    "# 多循环的集合内涵\n",
    "s1 = {1,2,3,4}\n",
    "s2 = {\"a\",\"b\",\"c\"}\n",
    "s3 = {m*n for m in s1 for n in s2}\n",
    "print(s3)"
   ]
  },
  {
   "cell_type": "markdown",
   "metadata": {},
   "source": [
    "# 集合函数/关于集合的函数\n"
   ]
  },
  {
   "cell_type": "code",
   "execution_count": 53,
   "metadata": {},
   "outputs": [
    {
     "name": "stdout",
     "output_type": "stream",
     "text": [
      "4\n",
      "88\n",
      "4\n"
     ]
    }
   ],
   "source": [
    "#len,max,min,跟其他基本函数一致\n",
    "s = {77,88,4,54,77}\n",
    "print(len(s))\n",
    "print(max(s))\n",
    "print(min(s))"
   ]
  },
  {
   "cell_type": "code",
   "execution_count": 55,
   "metadata": {},
   "outputs": [
    {
     "name": "stdout",
     "output_type": "stream",
     "text": [
      "{1, 34, 45, 22, 55}\n"
     ]
    }
   ],
   "source": [
    "# set 生成一个集合\n",
    "l = [1,22,34,45,55]\n",
    "print(set(l))"
   ]
  },
  {
   "cell_type": "code",
   "execution_count": 57,
   "metadata": {},
   "outputs": [
    {
     "name": "stdout",
     "output_type": "stream",
     "text": [
      "{1, '333'}\n"
     ]
    }
   ],
   "source": [
    "#add:向集合内添加元素\n",
    "s = {1}\n",
    "s.add(\"333\")\n",
    "print(s)\n"
   ]
  },
  {
   "cell_type": "code",
   "execution_count": 60,
   "metadata": {},
   "outputs": [
    {
     "name": "stdout",
     "output_type": "stream",
     "text": [
      "1710466866536\n",
      "None\n",
      "1710466866536\n"
     ]
    }
   ],
   "source": [
    "#clear:清空集合\n",
    "# 以下结果显示clear是原地清空数据\n",
    "s = {1,4,5,5,6,89}\n",
    "print(id(s))\n",
    "print(s.clear())\n",
    "print(id(s))"
   ]
  },
  {
   "cell_type": "code",
   "execution_count": 68,
   "metadata": {},
   "outputs": [
    {
     "name": "stdout",
     "output_type": "stream",
     "text": [
      "{4544, 1, 3, 5, 45, 56}\n",
      "{4544, 1, 3, 5, 45, 56}\n"
     ]
    },
    {
     "ename": "KeyError",
     "evalue": "11",
     "output_type": "error",
     "traceback": [
      "\u001b[1;31m---------------------------------------------------------------------------\u001b[0m",
      "\u001b[1;31mKeyError\u001b[0m                                  Traceback (most recent call last)",
      "\u001b[1;32m<ipython-input-68-e329990b66b7>\u001b[0m in \u001b[0;36m<module>\u001b[1;34m\u001b[0m\n\u001b[0;32m      9\u001b[0m \u001b[0mprint\u001b[0m\u001b[1;33m(\u001b[0m\u001b[0ms\u001b[0m\u001b[1;33m)\u001b[0m\u001b[1;33m\u001b[0m\u001b[1;33m\u001b[0m\u001b[0m\n\u001b[0;32m     10\u001b[0m \u001b[1;33m\u001b[0m\u001b[0m\n\u001b[1;32m---> 11\u001b[1;33m \u001b[0ms\u001b[0m\u001b[1;33m.\u001b[0m\u001b[0mremove\u001b[0m\u001b[1;33m(\u001b[0m\u001b[1;36m11\u001b[0m\u001b[1;33m)\u001b[0m\u001b[1;33m\u001b[0m\u001b[1;33m\u001b[0m\u001b[0m\n\u001b[0m\u001b[0;32m     12\u001b[0m \u001b[0mprint\u001b[0m\u001b[1;33m(\u001b[0m\u001b[0ms\u001b[0m\u001b[1;33m)\u001b[0m\u001b[1;33m\u001b[0m\u001b[1;33m\u001b[0m\u001b[0m\n",
      "\u001b[1;31mKeyError\u001b[0m: 11"
     ]
    }
   ],
   "source": [
    "#copy:拷贝\n",
    "#remove：移除指定值，直接改变原有值，如果要删除的值不存在，报错\n",
    "#discard：移除指定值，直接改变原有值，如果要删除的值不存在，不报错\n",
    "s = {1,5,3,4,45,45,5,56,4,4544}\n",
    "s.remove(4)\n",
    "print(s)\n",
    "\n",
    "s.discard(11)\n",
    "print(s)\n",
    "\n",
    "s.remove(11)\n",
    "print(s)"
   ]
  },
  {
   "cell_type": "code",
   "execution_count": 5,
   "metadata": {},
   "outputs": [
    {
     "name": "stdout",
     "output_type": "stream",
     "text": [
      "{4544, 1, 3, 4, 5, 45, 56}\n",
      "4544\n",
      "{1, 3, 4, 5, 45, 56}\n"
     ]
    }
   ],
   "source": [
    "#pop：随机移除一个元素.................\n",
    "s = {1,5,3,4,45,45,5,56,4,4544}\n",
    "print(s)\n",
    "print(s.pop())\n",
    "print(s)"
   ]
  },
  {
   "cell_type": "code",
   "execution_count": 7,
   "metadata": {},
   "outputs": [
    {
     "name": "stdout",
     "output_type": "stream",
     "text": [
      "{1, 4}\n",
      "{56, 2, 3}\n",
      "{8, 9, 7}\n",
      "{1, 2, 3, 4, 7, 8, 9, 56}\n",
      "False\n",
      "True\n"
     ]
    }
   ],
   "source": [
    "# 集合函数\n",
    "#intersection:交集\n",
    "#difference:差集\n",
    "#union:并集\n",
    "# issubset：检查一个集合是否为另一个集合的子集\n",
    "#issuperset：检查一个集合是否为另一个集合的超集\n",
    "\n",
    "s1 = {1,2,3,4,56}\n",
    "s2 = {8,9,7,4,1}\n",
    "print(s1.intersection(s2))\n",
    "print(s1.difference(s2))\n",
    "print(s2.difference(s1))\n",
    "print(s1.union(s2))\n",
    "\n",
    "\n",
    "s3 = {1,2,3,4}\n",
    "s4 = {1,2,4}\n",
    "print(s3.issubset(s4))#s3是否为s4的子集\n",
    "print(s3.issuperset(s4))#s3是否为s4的超集\n"
   ]
  },
  {
   "cell_type": "code",
   "execution_count": 85,
   "metadata": {},
   "outputs": [
    {
     "name": "stdout",
     "output_type": "stream",
     "text": [
      "{56, 2, 3}\n"
     ]
    }
   ],
   "source": [
    "# 集合的数学操作\n",
    "s1 = {1,2,3,4,56}\n",
    "s2 = {8,9,7,4,1}\n",
    "\n",
    "print(s1-s2)\n"
   ]
  },
  {
   "cell_type": "markdown",
   "metadata": {},
   "source": [
    "# frozenset冰冻集合\n",
    "- 冰冻集合就是不可以进行任何修改的集合"
   ]
  },
  {
   "cell_type": "code",
   "execution_count": 90,
   "metadata": {},
   "outputs": [
    {
     "ename": "AttributeError",
     "evalue": "'frozenset' object has no attribute 'pop'",
     "output_type": "error",
     "traceback": [
      "\u001b[1;31m---------------------------------------------------------------------------\u001b[0m",
      "\u001b[1;31mAttributeError\u001b[0m                            Traceback (most recent call last)",
      "\u001b[1;32m<ipython-input-90-62cb4b0ba57c>\u001b[0m in \u001b[0;36m<module>\u001b[1;34m\u001b[0m\n\u001b[0;32m      2\u001b[0m \u001b[0ms2\u001b[0m \u001b[1;33m=\u001b[0m \u001b[1;33m{\u001b[0m\u001b[1;36m8\u001b[0m\u001b[1;33m,\u001b[0m\u001b[1;36m5\u001b[0m\u001b[1;33m,\u001b[0m\u001b[1;36m4\u001b[0m\u001b[1;33m,\u001b[0m\u001b[1;36m56\u001b[0m\u001b[1;33m}\u001b[0m\u001b[1;33m\u001b[0m\u001b[1;33m\u001b[0m\u001b[0m\n\u001b[0;32m      3\u001b[0m \u001b[0ms\u001b[0m \u001b[1;33m=\u001b[0m \u001b[0mfrozenset\u001b[0m\u001b[1;33m(\u001b[0m\u001b[0ms\u001b[0m\u001b[1;33m)\u001b[0m\u001b[1;33m\u001b[0m\u001b[1;33m\u001b[0m\u001b[0m\n\u001b[1;32m----> 4\u001b[1;33m \u001b[0mprint\u001b[0m\u001b[1;33m(\u001b[0m\u001b[0ms\u001b[0m\u001b[1;33m.\u001b[0m\u001b[0mpop\u001b[0m\u001b[1;33m(\u001b[0m\u001b[1;33m)\u001b[0m\u001b[1;33m)\u001b[0m\u001b[1;33m\u001b[0m\u001b[1;33m\u001b[0m\u001b[0m\n\u001b[0m",
      "\u001b[1;31mAttributeError\u001b[0m: 'frozenset' object has no attribute 'pop'"
     ]
    }
   ],
   "source": [
    "s = {1,2,3,4,5}\n",
    "s2 = {8,5,4,56}\n",
    "s = frozenset(s)\n",
    "print(s.pop())"
   ]
  }
 ],
 "metadata": {
  "kernelspec": {
   "display_name": "Python 3",
   "language": "python",
   "name": "python3"
  },
  "language_info": {
   "codemirror_mode": {
    "name": "ipython",
    "version": 3
   },
   "file_extension": ".py",
   "mimetype": "text/x-python",
   "name": "python",
   "nbconvert_exporter": "python",
   "pygments_lexer": "ipython3",
   "version": "3.7.3"
  }
 },
 "nbformat": 4,
 "nbformat_minor": 2
}
