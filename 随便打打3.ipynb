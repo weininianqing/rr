{
 "cells": [
  {
   "cell_type": "code",
   "execution_count": 22,
   "metadata": {},
   "outputs": [
    {
     "name": "stdout",
     "output_type": "stream",
     "text": [
      "xiaogang 来不了了\n",
      "我找到一个更大的餐桌\n",
      "xiaohong 很抱歉\n",
      "lilei 很抱歉\n",
      "xiaohu与我吃饭\n",
      "xiaoming与我吃饭\n"
     ]
    }
   ],
   "source": [
    "l = [\"xiaoming\",\"xiaogang\",\"xiaohong\"]\n",
    "def eat():\n",
    "    for i in l:\n",
    "        print(\"{}与我吃饭\".format(i))\n",
    "print(l[1],\"来不了了\")\n",
    "l[1] = \"dahu\"\n",
    "print(\"我找到一个更大的餐桌\")\n",
    "l.insert(0,\"xiaohu\")\n",
    "l.insert(2,\"lilei\")\n",
    "l.append(\"limei\")\n",
    "\n",
    "while len(l)>2:\n",
    "    l.pop()\n",
    "    print(l.pop(),\"很抱歉\")\n",
    "else:\n",
    "    eat()"
   ]
  },
  {
   "cell_type": "code",
   "execution_count": 23,
   "metadata": {},
   "outputs": [
    {
     "name": "stdout",
     "output_type": "stream",
     "text": [
      "[1, 2, 3, 4, 5]\n",
      "[1, 2, 3, 4]\n"
     ]
    }
   ],
   "source": [
    "l = [i for i in range(1,6)]\n",
    "print(l)\n",
    "l.pop()\n",
    "print(l)"
   ]
  },
  {
   "cell_type": "code",
   "execution_count": 29,
   "metadata": {},
   "outputs": [
    {
     "name": "stdout",
     "output_type": "stream",
     "text": [
      "abz\n"
     ]
    }
   ],
   "source": [
    "a = [\"a\",\"abz\",\"abcddsdsdsdsdsds\"]\n",
    "print(max(a))"
   ]
  },
  {
   "cell_type": "code",
   "execution_count": 36,
   "metadata": {},
   "outputs": [
    {
     "name": "stdout",
     "output_type": "stream",
     "text": [
      "ok\n"
     ]
    }
   ],
   "source": [
    "if \"aeaaa\" > \"aac\":\n",
    "    print(\"ok\")\n",
    "else:\n",
    "    print(\"no\")"
   ]
  },
  {
   "cell_type": "code",
   "execution_count": 21,
   "metadata": {},
   "outputs": [
    {
     "name": "stdout",
     "output_type": "stream",
     "text": [
      "ff\n"
     ]
    }
   ],
   "source": [
    "class lei():\n",
    "    name = \"dahui\"\n",
    "    age = 18\n",
    "    def names(self):\n",
    "        #self.name = \"xiaoming\"\n",
    "        return self.name\n",
    "class s(lei):\n",
    "    name = \"ff\"\n",
    "a = lei()\n",
    "print(lei.names(s))"
   ]
  },
  {
   "cell_type": "code",
   "execution_count": 20,
   "metadata": {},
   "outputs": [
    {
     "name": "stdout",
     "output_type": "stream",
     "text": [
      "dad\n",
      "{'__module__': '__main__', 'namee': 'dad', '__dict__': <attribute '__dict__' of 'A' objects>, '__weakref__': <attribute '__weakref__' of 'A' objects>, '__doc__': None}\n"
     ]
    }
   ],
   "source": [
    "class A():\n",
    "    namee = \"dad\"\n",
    "    def a(self):\n",
    "        print(\"sdasd\")\n",
    "a = A()\n",
    "delattr(A,\"a\")\n",
    "print(a.namee)\n",
    "print(A.__dict__)"
   ]
  },
  {
   "cell_type": "code",
   "execution_count": 1,
   "metadata": {},
   "outputs": [
    {
     "name": "stdout",
     "output_type": "stream",
     "text": [
      "{'__module__': '__main__', 'namee': 'dad', 'a': <function A.a at 0x0000016CDAB94510>, '__dict__': <attribute '__dict__' of 'A' objects>, '__weakref__': <attribute '__weakref__' of 'A' objects>, '__doc__': None}\n"
     ]
    }
   ],
   "source": [
    "class A():\n",
    "    namee = \"dad\"\n",
    "    def a(self):\n",
    "        print(\"sdasd\")\n",
    "a = A()\n",
    "print(A.__dict__)"
   ]
  },
  {
   "cell_type": "code",
   "execution_count": 21,
   "metadata": {},
   "outputs": [
    {
     "name": "stdout",
     "output_type": "stream",
     "text": [
      "{'name': 'da'}\n"
     ]
    }
   ],
   "source": [
    "setattr\n",
    "getattr\n",
    "class a():\n",
    "    __s = 1\n",
    "    \n",
    "class b(a):\n",
    "    pass\n",
    "\n",
    "isinstance(b(),a)\n",
    "type(b())==a\n",
    "aa = a()\n",
    "aa.name = \"da\"\n",
    "print(aa.__dict__)"
   ]
  },
  {
   "cell_type": "code",
   "execution_count": 23,
   "metadata": {},
   "outputs": [
    {
     "name": "stdout",
     "output_type": "stream",
     "text": [
      "<__main__.a object at 0x0000016CDB89F860>\n"
     ]
    }
   ],
   "source": [
    "class a():\n",
    "    def b():\n",
    "        pass\n",
    "    \n",
    "A = a()\n",
    "print(A)"
   ]
  },
  {
   "cell_type": "code",
   "execution_count": 2,
   "metadata": {},
   "outputs": [
    {
     "name": "stdout",
     "output_type": "stream",
     "text": [
      "Help on class timedelta in module datetime:\n",
      "\n",
      "class timedelta(builtins.object)\n",
      " |  Difference between two datetime values.\n",
      " |  \n",
      " |  timedelta(days=0, seconds=0, microseconds=0, milliseconds=0, minutes=0, hours=0, weeks=0)\n",
      " |  \n",
      " |  All arguments are optional and default to 0.\n",
      " |  Arguments may be integers or floats, and may be positive or negative.\n",
      " |  \n",
      " |  Methods defined here:\n",
      " |  \n",
      " |  __abs__(self, /)\n",
      " |      abs(self)\n",
      " |  \n",
      " |  __add__(self, value, /)\n",
      " |      Return self+value.\n",
      " |  \n",
      " |  __bool__(self, /)\n",
      " |      self != 0\n",
      " |  \n",
      " |  __divmod__(self, value, /)\n",
      " |      Return divmod(self, value).\n",
      " |  \n",
      " |  __eq__(self, value, /)\n",
      " |      Return self==value.\n",
      " |  \n",
      " |  __floordiv__(self, value, /)\n",
      " |      Return self//value.\n",
      " |  \n",
      " |  __ge__(self, value, /)\n",
      " |      Return self>=value.\n",
      " |  \n",
      " |  __getattribute__(self, name, /)\n",
      " |      Return getattr(self, name).\n",
      " |  \n",
      " |  __gt__(self, value, /)\n",
      " |      Return self>value.\n",
      " |  \n",
      " |  __hash__(self, /)\n",
      " |      Return hash(self).\n",
      " |  \n",
      " |  __le__(self, value, /)\n",
      " |      Return self<=value.\n",
      " |  \n",
      " |  __lt__(self, value, /)\n",
      " |      Return self<value.\n",
      " |  \n",
      " |  __mod__(self, value, /)\n",
      " |      Return self%value.\n",
      " |  \n",
      " |  __mul__(self, value, /)\n",
      " |      Return self*value.\n",
      " |  \n",
      " |  __ne__(self, value, /)\n",
      " |      Return self!=value.\n",
      " |  \n",
      " |  __neg__(self, /)\n",
      " |      -self\n",
      " |  \n",
      " |  __pos__(self, /)\n",
      " |      +self\n",
      " |  \n",
      " |  __radd__(self, value, /)\n",
      " |      Return value+self.\n",
      " |  \n",
      " |  __rdivmod__(self, value, /)\n",
      " |      Return divmod(value, self).\n",
      " |  \n",
      " |  __reduce__(...)\n",
      " |      __reduce__() -> (cls, state)\n",
      " |  \n",
      " |  __repr__(self, /)\n",
      " |      Return repr(self).\n",
      " |  \n",
      " |  __rfloordiv__(self, value, /)\n",
      " |      Return value//self.\n",
      " |  \n",
      " |  __rmod__(self, value, /)\n",
      " |      Return value%self.\n",
      " |  \n",
      " |  __rmul__(self, value, /)\n",
      " |      Return value*self.\n",
      " |  \n",
      " |  __rsub__(self, value, /)\n",
      " |      Return value-self.\n",
      " |  \n",
      " |  __rtruediv__(self, value, /)\n",
      " |      Return value/self.\n",
      " |  \n",
      " |  __str__(self, /)\n",
      " |      Return str(self).\n",
      " |  \n",
      " |  __sub__(self, value, /)\n",
      " |      Return self-value.\n",
      " |  \n",
      " |  __truediv__(self, value, /)\n",
      " |      Return self/value.\n",
      " |  \n",
      " |  total_seconds(...)\n",
      " |      Total seconds in the duration.\n",
      " |  \n",
      " |  ----------------------------------------------------------------------\n",
      " |  Static methods defined here:\n",
      " |  \n",
      " |  __new__(*args, **kwargs) from builtins.type\n",
      " |      Create and return a new object.  See help(type) for accurate signature.\n",
      " |  \n",
      " |  ----------------------------------------------------------------------\n",
      " |  Data descriptors defined here:\n",
      " |  \n",
      " |  days\n",
      " |      Number of days.\n",
      " |  \n",
      " |  microseconds\n",
      " |      Number of microseconds (>= 0 and less than 1 second).\n",
      " |  \n",
      " |  seconds\n",
      " |      Number of seconds (>= 0 and less than 1 day).\n",
      " |  \n",
      " |  ----------------------------------------------------------------------\n",
      " |  Data and other attributes defined here:\n",
      " |  \n",
      " |  max = datetime.timedelta(days=999999999, seconds=86399, microseconds=9...\n",
      " |  \n",
      " |  min = datetime.timedelta(days=-999999999)\n",
      " |  \n",
      " |  resolution = datetime.timedelta(microseconds=1)\n",
      "\n"
     ]
    }
   ],
   "source": [
    "from datetime import timedelta\n",
    "help(timedelta)"
   ]
  },
  {
   "cell_type": "code",
   "execution_count": 1,
   "metadata": {},
   "outputs": [
    {
     "name": "stdout",
     "output_type": "stream",
     "text": [
      "[i for i in range(4)]\n",
      "\n",
      "sum = []\n",
      "for i in range(1000):\n",
      "    sum.append(i)\n",
      "\n",
      "\n"
     ]
    }
   ],
   "source": [
    "str=\"[i for i in range(4)]\"\n",
    "print(str)\n",
    "\n",
    "c = '''\n",
    "sum = []\n",
    "for i in range(1000):\n",
    "    sum.append(i)\n",
    "\n",
    "'''\n",
    "print(c)"
   ]
  },
  {
   "cell_type": "code",
   "execution_count": 1,
   "metadata": {},
   "outputs": [
    {
     "name": "stdout",
     "output_type": "stream",
     "text": [
      "结果：0\n",
      "结果：1\n",
      "结果：2\n",
      "结果：0\n",
      "结果：1\n",
      "结果：2\n",
      "结果：0\n",
      "结果：1\n",
      "结果：2\n",
      "结果：0\n",
      "结果：1\n",
      "结果：2\n",
      "结果：0\n",
      "结果：1\n",
      "结果：2\n",
      "结果：0\n",
      "结果：1\n",
      "结果：2\n",
      "结果：0\n",
      "结果：1\n",
      "结果：2\n",
      "结果：0\n",
      "结果：1\n",
      "结果：2\n",
      "结果：0\n",
      "结果：1\n",
      "结果：2\n",
      "结果：0\n",
      "结果：1\n",
      "结果：2\n",
      "0.000724970000000269\n"
     ]
    }
   ],
   "source": [
    "import timeit\n",
    "s='''\n",
    "def d(num):\n",
    "    for i in range(num):\n",
    "        print(\"结果：{0}\".format(i))\n",
    "'''   \n",
    "\n",
    "\n",
    "\n",
    "#执行d（num）\n",
    "#setup负责把环境变量准备好\n",
    "#实际相当于给timeit创造了一个小环境\n",
    "#再创造小环境中，代码执行顺序是\n",
    "#先找到这个函数然后给函数赋值之后调用10回这个函数\n",
    "t = timeit.timeit(\"d(num)\",setup=s+\"num=3\",number=10)\n",
    "print(t)\n"
   ]
  },
  {
   "cell_type": "code",
   "execution_count": 2,
   "metadata": {},
   "outputs": [
    {
     "ename": "AttributeError",
     "evalue": "'list' object has no attribute 'delete'",
     "output_type": "error",
     "traceback": [
      "\u001b[1;31m---------------------------------------------------------------------------\u001b[0m",
      "\u001b[1;31mAttributeError\u001b[0m                            Traceback (most recent call last)",
      "\u001b[1;32m<ipython-input-2-0abfd2067835>\u001b[0m in \u001b[0;36m<module>\u001b[1;34m\u001b[0m\n\u001b[0;32m      2\u001b[0m \u001b[0mt1\u001b[0m \u001b[1;33m=\u001b[0m\u001b[0mlen\u001b[0m\u001b[1;33m(\u001b[0m\u001b[0ml1\u001b[0m\u001b[1;33m)\u001b[0m\u001b[1;33m\u001b[0m\u001b[1;33m\u001b[0m\u001b[0m\n\u001b[0;32m      3\u001b[0m \u001b[1;33m\u001b[0m\u001b[0m\n\u001b[1;32m----> 4\u001b[1;33m \u001b[0ml1\u001b[0m\u001b[1;33m.\u001b[0m\u001b[0mdelete\u001b[0m\u001b[1;33m(\u001b[0m\u001b[1;36m0\u001b[0m\u001b[1;33m,\u001b[0m\u001b[0mt1\u001b[0m\u001b[1;33m)\u001b[0m\u001b[1;33m\u001b[0m\u001b[1;33m\u001b[0m\u001b[0m\n\u001b[0m\u001b[0;32m      5\u001b[0m \u001b[0mprint\u001b[0m\u001b[1;33m(\u001b[0m\u001b[0ml1\u001b[0m\u001b[1;33m)\u001b[0m\u001b[1;33m\u001b[0m\u001b[1;33m\u001b[0m\u001b[0m\n",
      "\u001b[1;31mAttributeError\u001b[0m: 'list' object has no attribute 'delete'"
     ]
    }
   ],
   "source": [
    "l1 =[1,2,3,4,5]\n",
    "t1 =len(l1)\n",
    "\n",
    "l1.delete(0,t1)\n",
    "print(l1)"
   ]
  },
  {
   "cell_type": "code",
   "execution_count": 5,
   "metadata": {},
   "outputs": [
    {
     "name": "stdout",
     "output_type": "stream",
     "text": [
      "da\n"
     ]
    }
   ],
   "source": [
    "def s(a):\n",
    "    print(\"{}\".format(a))\n",
    "s(\"da\")"
   ]
  },
  {
   "cell_type": "code",
   "execution_count": 10,
   "metadata": {},
   "outputs": [
    {
     "name": "stdout",
     "output_type": "stream",
     "text": [
      "<generator object <genexpr> at 0x0000015A6CCCCF48>\n"
     ]
    }
   ],
   "source": [
    "l1= (1,2,3,4,5,6)\n",
    "\n",
    "def m(n):\n",
    "    return n*10\n",
    "l2 = map(m,l1)\n",
    "print((i for i in l2))"
   ]
  },
  {
   "cell_type": "code",
   "execution_count": 20,
   "metadata": {
    "scrolled": true
   },
   "outputs": [
    {
     "name": "stdout",
     "output_type": "stream",
     "text": [
      "45\n",
      "[29, 11, 46, 66, 52, 29, 17, 44, 27, 13]\n"
     ]
    }
   ],
   "source": [
    "from functools import reduce\n",
    "from random import randint\n",
    "l1=[i for i in range(10)]\n",
    "def m(x,y):\n",
    "    return x+y\n",
    "a = reduce(m,l1)\n",
    "print(a)\n",
    "l2 = []\n",
    "for i in range(10):\n",
    "    a = randint(1,100)\n",
    "    l2.append(a)\n",
    "print(l2)"
   ]
  },
  {
   "cell_type": "code",
   "execution_count": null,
   "metadata": {},
   "outputs": [],
   "source": [
    "def a(x,y):\n",
    "    return x +y == 9\n",
    "l1 = list()\n",
    "l1 = [input(\"请输入一个数组\")]\n",
    "a = filter(a,l1)\n",
    "print([i for i in a])"
   ]
  },
  {
   "cell_type": "code",
   "execution_count": 1,
   "metadata": {},
   "outputs": [
    {
     "name": "stdout",
     "output_type": "stream",
     "text": [
      "sum 开始为0\n",
      "0\n"
     ]
    }
   ],
   "source": [
    "import threading\n",
    "sum1 = 0\n",
    "num = 1020\n",
    "\n",
    "def add():\n",
    "    global sum1,num\n",
    "    for i in range(1,num):\n",
    "        sum1 = sum1+1\n",
    "\n",
    "def jian():\n",
    "    global sum1,num\n",
    "    for i in range(1,num):\n",
    "        sum1 = sum1-1\n",
    "\n",
    "print(\"sum 开始为{0}\".format(sum1))\n",
    "\n",
    "t1 = threading.Thread(target=add,args=())\n",
    "t2 = threading.Thread(target=jian,args=())\n",
    "t1.start()\n",
    "t2.start()\n",
    "\n",
    "t1.join()\n",
    "t2.join()\n",
    "print(sum1)"
   ]
  },
  {
   "cell_type": "code",
   "execution_count": 1,
   "metadata": {},
   "outputs": [
    {
     "name": "stdout",
     "output_type": "stream",
     "text": [
      "{'c': 3, 'd': 4}\n"
     ]
    }
   ],
   "source": [
    "item = {\"a\":1,\"b\":[{\"c\":3,\"d\":4}]}\n",
    "for i in item[\"b\"]:\n",
    "    print(i)"
   ]
  },
  {
   "cell_type": "code",
   "execution_count": 3,
   "metadata": {},
   "outputs": [
    {
     "name": "stdout",
     "output_type": "stream",
     "text": [
      "<class 'str'>\n",
      "{\"errno\":0,\"data\":[{\"k\":\"panda\",\"v\":\"n. \\u5927\\u718a\\u732b; \\u5927\\u732b\\u718a; \\u5c0f\\u718a\\u732b\\uff0c\\u5c0f\\u732b\\u718a(\\u4ea7\\u4e8e\\u4e9a\\u6d32\\uff0c\\u6bdb\\u68d5\\u7ea2\\u8272\\uff0c\\u5c3e\\u5df4\\u7c97\\u957f);\"},{\"k\":\"pandas\",\"v\":\"n. \\u5927\\u718a\\u732b; \\u5927\\u732b\\u718a; \\u5c0f\\u718a\\u732b\\uff0c\\u5c0f\\u732b\\u718a(\\u4ea7\\u4e8e\\u4e9a\\u6d32\\uff0c\\u6bdb\\u68d5\\u7ea2\\u8272\\uff0c\\u5c3e\\u5df4\\u7c97\\u957f);  panda\\u7684\\u590d\\u6570;\"},{\"k\":\"PANDA\",\"v\":\"abbr. \\u9ad8\\u7ea7\\u7f51\\u7edc\\u8bbe\\u8ba1\\u5efa\\u7b51(Prestel Advanced Network Design Arc\"},{\"k\":\"pandan\",\"v\":\" \\u9732\\u515c\\u6811;\"},{\"k\":\"pandanus\",\"v\":\"\\u7f51\\u7edc \\u9732\\u515c\\u6811; \\u9732\\u515c\\u6811\\u5c5e; \\u73ed\\u5170; \\u6797\\u6295; \\u9732\\u515c\\u53f6;\"}]}\n",
      "<class 'dict'>\n",
      "{'errno': 0, 'data': [{'k': 'panda', 'v': 'n. 大熊猫; 大猫熊; 小熊猫，小猫熊(产于亚洲，毛棕红色，尾巴粗长);'}, {'k': 'pandas', 'v': 'n. 大熊猫; 大猫熊; 小熊猫，小猫熊(产于亚洲，毛棕红色，尾巴粗长);  panda的复数;'}, {'k': 'PANDA', 'v': 'abbr. 高级网络设计建筑(Prestel Advanced Network Design Arc'}, {'k': 'pandan', 'v': ' 露兜树;'}, {'k': 'pandanus', 'v': '网络 露兜树; 露兜树属; 班兰; 林投; 露兜叶;'}]}\n",
      "panda -- n. 大熊猫; 大猫熊; 小熊猫，小猫熊(产于亚洲，毛棕红色，尾巴粗长);\n",
      "pandas -- n. 大熊猫; 大猫熊; 小熊猫，小猫熊(产于亚洲，毛棕红色，尾巴粗长);  panda的复数;\n",
      "PANDA -- abbr. 高级网络设计建筑(Prestel Advanced Network Design Arc\n",
      "pandan --  露兜树;\n",
      "pandanus -- 网络 露兜树; 露兜树属; 班兰; 林投; 露兜叶;\n"
     ]
    }
   ],
   "source": [
    "'''\n",
    "任务要求和内容跟V5 一样\n",
    "本案例只是利用Request来实现v5的内容\n",
    "\n",
    "利用parse模块模拟post请求\n",
    "分析百度词典\n",
    "分析步骤：\n",
    "1. 打开F12\n",
    "2. 尝试输入单词girl，发现每敲一个字母后都有请求\n",
    "3. 请求地址是 http://fanyi.baidu.com/sug\n",
    "4. 利用NetWork-All-Hearders，查看，发现FormData的值是 kw:girl\n",
    "5. 检查返回内容格式，发现返回的是json格式内容==>需要用到json包\n",
    "'''\n",
    "\n",
    "from urllib import request, parse\n",
    "# 负责处理json格式的模块\n",
    "import json\n",
    "\n",
    "'''\n",
    "大致流程是：\n",
    "1. 利用data构造内容，然后urlopen打开\n",
    "2. 返回一个json格式的结果\n",
    "3. 结果就应该是girl的释义\n",
    "'''\n",
    "\n",
    "baseurl = 'https://fanyi.baidu.com/sug'\n",
    "\n",
    "\n",
    "# 存放用来模拟form的数据一定是dict格式\n",
    "data = {\n",
    "    # girl是翻译输入的英文内容，应该是由用户输入，此处使用硬编码\n",
    "    'kw': 'panda'\n",
    "}\n",
    "\n",
    "# 需要使用parse模块对data进行编码\n",
    "data = parse.urlencode(data).encode(\"utf-8\")\n",
    "\n",
    "#  我们需要构造一个请求头，请求头部应该至少包含传入的数据的长度\n",
    "# request要求传入的请求头是一个dict格式\n",
    "\n",
    "headers = {\n",
    "    # 因为使用post，至少应该包含content-length 字段\n",
    "    'Content-Length':len(data)\n",
    "}\n",
    "\n",
    "# 构造一个Request的实例\n",
    "req = request.Request(url=baseurl, data=data, headers=headers)\n",
    "\n",
    "# 因为已经构造了一个Request的请求实例，则所有的请求信息都可以封装在Request实例中\n",
    "rsp = request.urlopen(req)\n",
    "\n",
    "json_data = rsp.read().decode('utf-8')\n",
    "print( type(json_data))\n",
    "print(json_data)\n",
    "\n",
    "\n",
    "# 把json字符串转化成字典\n",
    "json_data = json.loads(json_data)\n",
    "print(type(json_data))\n",
    "print(json_data)\n",
    "\n",
    "\n",
    "for item in json_data['data']:\n",
    "    print(item['k'], \"--\", item['v'])"
   ]
  }
 ],
 "metadata": {
  "kernelspec": {
   "display_name": "Python 3",
   "language": "python",
   "name": "python3"
  },
  "language_info": {
   "codemirror_mode": {
    "name": "ipython",
    "version": 3
   },
   "file_extension": ".py",
   "mimetype": "text/x-python",
   "name": "python",
   "nbconvert_exporter": "python",
   "pygments_lexer": "ipython3",
   "version": "3.7.3"
  }
 },
 "nbformat": 4,
 "nbformat_minor": 2
}
